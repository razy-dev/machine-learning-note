{
 "cells": [
  {
   "cell_type": "markdown",
   "source": [
    "# Numpy Ops"
   ],
   "metadata": {
    "collapsed": false,
    "pycharm": {
     "name": "#%% md\n"
    }
   }
  },
  {
   "cell_type": "code",
   "execution_count": 11,
   "outputs": [],
   "source": [
    "import numpy as np"
   ],
   "metadata": {
    "collapsed": false,
    "pycharm": {
     "name": "#%%\n"
    }
   }
  },
  {
   "cell_type": "markdown",
   "source": [
    "## [dot product](https://numpy.org/doc/stable/reference/generated/numpy.dot.html) ([kr](https://runebook.dev/ko/docs/numpy/reference/generated/numpy.dot))\n",
    "```\n",
    "dot(a, b)[i,j,k,m] = sum(a[i,j,:] * b[k,:,m])\n",
    "```\n",
    "* 첫 행렬의 마지막 차원과, 두번째 행렬의 끝에서 두번째 차원의 크기가 동일 해야함\n",
    "* 연산 결과 두 행렬의 연산 차원이 없어지며, 두 행렬의 차원이 합쳐짐\n",
    "    - eg> $inner(x(5,4,3,2), y(6,5,4,2,3) = z(5,4,3,6,5,4,3)$\n",
    "\n",
    "cf> matmul product"
   ],
   "metadata": {
    "collapsed": false,
    "pycharm": {
     "name": "#%% md\n"
    }
   }
  },
  {
   "cell_type": "markdown",
   "source": [
    "---\n",
    "### $dot(x(k,), y(k,)) = z()$\n",
    "$\\begin{align}\n",
    "np.dot(x, y) = np.dot(\n",
    "    \\begin{bmatrix} 1 & 2 \\end{bmatrix}\n",
    "    ,\n",
    "    \\begin{bmatrix} 10 \\\\ 20 \\end{bmatrix}\n",
    ")\n",
    "&= 1 \\times 10 + 2 \\times 20 \\\\\n",
    "&= 50\n",
    "\\end{align}$"
   ],
   "metadata": {
    "collapsed": false,
    "pycharm": {
     "name": "#%% md\n"
    }
   }
  },
  {
   "cell_type": "code",
   "execution_count": 12,
   "outputs": [
    {
     "name": "stdout",
     "output_type": "stream",
     "text": [
      "x(2,) = [1 2] \n",
      "\n",
      "y(2,) = [10 20] \n",
      "\n",
      "np.dot(x, y) = z() = 50 \n",
      "\n",
      "np.matmul(x, y) = z() = 50 \n",
      "\n"
     ]
    }
   ],
   "source": [
    "x = np.array([1, 2])\n",
    "print(f\"x{x.shape} =\", x, \"\\n\")\n",
    "\n",
    "y = np.array([10, 20])\n",
    "print(f\"y{y.shape} =\", y, \"\\n\")\n",
    "\n",
    "z = np.dot(x, y)\n",
    "print(f\"np.dot(x, y) = z{z.shape} =\", z, \"\\n\")\n",
    "\n",
    "z = np.matmul(x, y)\n",
    "print(f\"np.matmul(x, y) = z{z.shape} =\", z, \"\\n\")"
   ],
   "metadata": {
    "collapsed": false,
    "pycharm": {
     "name": "#%%\n"
    }
   }
  },
  {
   "cell_type": "markdown",
   "source": [
    "---\n",
    "### $dot(x(l, k), y(k, n)) = z(l, n)$\n",
    "$\\begin{align}\n",
    "np.dot(x, y) = np.dot(\n",
    "    \\begin{bmatrix}\n",
    "        1 & 2 \\\\\n",
    "        3 & 4 \\\\\n",
    "        5 & 6 \\\\\n",
    "    \\end{bmatrix}\n",
    "    ,\n",
    "    \\begin{bmatrix}\n",
    "        10 & 20 & 30 \\\\\n",
    "        40 & 50 & 60 \\\\\n",
    "    \\end{bmatrix}\n",
    ")\n",
    "&=  \\begin{bmatrix}\n",
    "        1 \\times 10 + 2 \\times 40 & 1 \\times 20 + 2 \\times 50 & 1 \\times 30 + 2 \\times 60 \\\\\n",
    "        3 \\times 10 + 4 \\times 40 & 3 \\times 20 + 4 \\times 50 & 3 \\times 30 + 4 \\times 60 \\\\\n",
    "        5 \\times 10 + 6 \\times 40 & 5 \\times 20 + 6 \\times 50 & 5 \\times 30 + 6 \\times 60 \\\\\n",
    "    \\end{bmatrix} \\\\\n",
    "&=  \\begin{bmatrix}\n",
    "         90 & 120 & 150 \\\\\n",
    "        190 & 360 & 330 \\\\\n",
    "        290 & 400 & 510 \\\\\n",
    "    \\end{bmatrix}\n",
    "\\end{align}$"
   ],
   "metadata": {
    "collapsed": false,
    "pycharm": {
     "name": "#%% md\n"
    }
   }
  },
  {
   "cell_type": "code",
   "execution_count": 13,
   "outputs": [
    {
     "name": "stdout",
     "output_type": "stream",
     "text": [
      "x(3, 2) = [[1 2]\n",
      " [3 4]\n",
      " [5 6]] \n",
      "\n",
      "y(2, 3) = [[10 20 30]\n",
      " [40 50 60]] \n",
      "\n",
      "np.dot(x, y) = z(3, 3) = [[ 90 120 150]\n",
      " [190 260 330]\n",
      " [290 400 510]] \n",
      "\n",
      "np.matmul(x, y) = z(3, 3) = [[ 90 120 150]\n",
      " [190 260 330]\n",
      " [290 400 510]] \n",
      "\n"
     ]
    }
   ],
   "source": [
    "x = np.array([\n",
    "    [1, 2],\n",
    "    [3, 4],\n",
    "    [5, 6]\n",
    "])\n",
    "print(f\"x{x.shape} =\", x, \"\\n\")\n",
    "\n",
    "y = np.array([\n",
    "    [10, 20, 30],\n",
    "    [40, 50, 60],\n",
    "])\n",
    "print(f\"y{y.shape} =\", y, \"\\n\")\n",
    "\n",
    "z = np.dot(x, y)\n",
    "print(f\"np.dot(x, y) = z{z.shape} =\", z, \"\\n\")\n",
    "\n",
    "z = np.matmul(x, y)\n",
    "print(f\"np.matmul(x, y) = z{z.shape} =\", z, \"\\n\")"
   ],
   "metadata": {
    "collapsed": false,
    "pycharm": {
     "name": "#%%\n"
    }
   }
  },
  {
   "cell_type": "markdown",
   "source": [
    "---\n",
    "### $dot(x(l, ..., k), y(n, ..., k, m)) = z(l,..., n, ..., m)$\n",
    "$\\begin{align}\n",
    "np.dot(x, y) = np.dot(\n",
    "\\begin{bmatrix}\n",
    "    \\begin{bmatrix} 1 & 2 \\end{bmatrix} \\\\\n",
    "    \\begin{bmatrix} 3 & 4 \\end{bmatrix} \\\\\n",
    "    \\begin{bmatrix} 5 & 6 \\end{bmatrix}\n",
    "\\end{bmatrix}\n",
    ",\n",
    "\\begin{bmatrix}\n",
    "    \\begin{bmatrix}\n",
    "        \\begin{bmatrix} 10 & 20 & 30 \\end{bmatrix} \\\\\n",
    "        \\begin{bmatrix} 40 & 50 & 60 \\end{bmatrix}\n",
    "    \\end{bmatrix} \\\\\n",
    "    \\begin{bmatrix}\n",
    "        \\begin{bmatrix} 100 & 200 & 300 \\end{bmatrix} \\\\\n",
    "        \\begin{bmatrix} 400 & 500 & 600 \\end{bmatrix}\n",
    "    \\end{bmatrix}\n",
    "\\end{bmatrix}\n",
    ")\n",
    "&= \\begin{bmatrix}\n",
    "    \\begin{bmatrix}\n",
    "        \\begin{bmatrix}\n",
    "            1 \\times 10 + 2 \\times 40 & 1 \\times 20 + 2 \\times 50 & 1 \\times 30 + 2 \\times 60\n",
    "        \\end{bmatrix} \\\\\n",
    "        \\begin{bmatrix}\n",
    "            1 \\times 100 + 2 \\times 400 & 1 \\times 200 + 2 \\times 500 & 1 \\times 300 + 2 \\times 600\n",
    "        \\end{bmatrix}\n",
    "    \\end{bmatrix} \\\\\n",
    "    \\begin{bmatrix}\n",
    "        \\begin{bmatrix}\n",
    "            3 \\times 10 + 4 \\times 40 & 3 \\times 20 + 4 \\times 50 & 3 \\times 30 + 4 \\times 60\n",
    "        \\end{bmatrix} \\\\\n",
    "        \\begin{bmatrix}\n",
    "            3 \\times 100 + 4 \\times 400 & 3 \\times 200 + 4 \\times 500 & 3 \\times 300 + 4 \\times 600\n",
    "        \\end{bmatrix}\n",
    "    \\end{bmatrix} \\\\\n",
    "    \\begin{bmatrix}\n",
    "        \\begin{bmatrix}\n",
    "            5 \\times 10 + 6 \\times 40 & 5 \\times 20 + 6 \\times 50 & 5 \\times 30 + 6 \\times 60\n",
    "        \\end{bmatrix} \\\\\n",
    "        \\begin{bmatrix}\n",
    "            5 \\times 100 + 6 \\times 400 & 5 \\times 200 + 6 \\times 500 & 5 \\times 300 + 6 \\times 600\n",
    "        \\end{bmatrix}\n",
    "    \\end{bmatrix}\n",
    "\\end{bmatrix} \\\\\n",
    "&= \\begin{bmatrix}\n",
    "    \\begin{bmatrix}\n",
    "        \\begin{bmatrix}\n",
    "            90 & 120 & 150\n",
    "        \\end{bmatrix} \\\\\n",
    "        \\begin{bmatrix}\n",
    "            900 & 1200 & 1500\n",
    "        \\end{bmatrix}\n",
    "    \\end{bmatrix} \\\\\n",
    "    \\begin{bmatrix}\n",
    "        \\begin{bmatrix}\n",
    "            190 & 260 & 330\n",
    "        \\end{bmatrix} \\\\\n",
    "        \\begin{bmatrix}\n",
    "            1900 & 2600 & 3300\n",
    "        \\end{bmatrix}\n",
    "    \\end{bmatrix} \\\\\n",
    "    \\begin{bmatrix}\n",
    "        \\begin{bmatrix}\n",
    "            290 & 400 & 510\n",
    "        \\end{bmatrix} \\\\\n",
    "        \\begin{bmatrix}\n",
    "            2900 & 4000 & 5100\n",
    "        \\end{bmatrix}\n",
    "    \\end{bmatrix}\n",
    "\\end{bmatrix}\n",
    "\\end{align}$"
   ],
   "metadata": {
    "collapsed": false,
    "pycharm": {
     "name": "#%% md\n"
    }
   }
  },
  {
   "cell_type": "code",
   "execution_count": 19,
   "outputs": [
    {
     "name": "stdout",
     "output_type": "stream",
     "text": [
      "x(3, 2) = [[1 2]\n",
      " [3 4]\n",
      " [5 6]] \n",
      "\n",
      "y(2, 2, 3) = [[[ 10  20  30]\n",
      "  [ 40  50  60]]\n",
      "\n",
      " [[100 200 300]\n",
      "  [400 500 600]]] \n",
      "\n",
      "np.dot(x, y) = z(3, 2, 3) = [[[  90  120  150]\n",
      "  [ 900 1200 1500]]\n",
      "\n",
      " [[ 190  260  330]\n",
      "  [1900 2600 3300]]\n",
      "\n",
      " [[ 290  400  510]\n",
      "  [2900 4000 5100]]] \n",
      "\n",
      "Error : x * y =  operands could not be broadcast together with shapes (3,2) (2,2,3)  \n",
      "\n",
      "x @ y = z(2, 3, 3) = [[[  90  120  150]\n",
      "  [ 190  260  330]\n",
      "  [ 290  400  510]]\n",
      "\n",
      " [[ 900 1200 1500]\n",
      "  [1900 2600 3300]\n",
      "  [2900 4000 5100]]] \n",
      "\n",
      "np.matmul(x, y) = z(2, 3, 3) = [[[  90  120  150]\n",
      "  [ 190  260  330]\n",
      "  [ 290  400  510]]\n",
      "\n",
      " [[ 900 1200 1500]\n",
      "  [1900 2600 3300]\n",
      "  [2900 4000 5100]]] \n",
      "\n"
     ]
    }
   ],
   "source": [
    "x = np.array([\n",
    "    [1, 2],\n",
    "    [3, 4],\n",
    "    [5, 6],\n",
    "])\n",
    "print(f\"x{x.shape} =\", x, \"\\n\")\n",
    "\n",
    "y = np.array([\n",
    "    [\n",
    "        [10, 20, 30],\n",
    "        [40, 50, 60],\n",
    "    ],\n",
    "    [\n",
    "        [100, 200, 300],\n",
    "        [400, 500, 600],\n",
    "    ]\n",
    "])\n",
    "print(f\"y{y.shape} =\", y, \"\\n\")\n",
    "\n",
    "z = np.dot(x, y)\n",
    "print(f\"np.dot(x, y) = z{z.shape} =\", z, \"\\n\")\n",
    "\n",
    "try:\n",
    "    z = x * y\n",
    "    print(f\"x * y = z{z.shape} =\", z, \"\\n\")\n",
    "except Exception as e:\n",
    "    print(\"Error : x * y = \", e, \"\\n\")\n",
    "\n",
    "try:\n",
    "    z = x @ y\n",
    "    print(f\"x @ y = z{z.shape} =\", z, \"\\n\")\n",
    "except Exception as e:\n",
    "    print(\"Error : x @ y =\", e, \"\\n\")\n",
    "\n",
    "try:\n",
    "    z = np.matmul(x, y)\n",
    "    print(f\"np.matmul(x, y) = z{z.shape} =\", z, \"\\n\")\n",
    "except Exception as e:\n",
    "    print(\"Error : np.matmul(x, y) =\", e, \"\\n\")"
   ],
   "metadata": {
    "collapsed": false,
    "pycharm": {
     "name": "#%%\n"
    }
   }
  },
  {
   "cell_type": "code",
   "execution_count": 14,
   "outputs": [],
   "source": [],
   "metadata": {
    "collapsed": false,
    "pycharm": {
     "name": "#%%\n"
    }
   }
  }
 ],
 "metadata": {
  "kernelspec": {
   "display_name": "Python 3",
   "language": "python",
   "name": "python3"
  },
  "language_info": {
   "codemirror_mode": {
    "name": "ipython",
    "version": 2
   },
   "file_extension": ".py",
   "mimetype": "text/x-python",
   "name": "python",
   "nbconvert_exporter": "python",
   "pygments_lexer": "ipython2",
   "version": "2.7.6"
  }
 },
 "nbformat": 4,
 "nbformat_minor": 0
}