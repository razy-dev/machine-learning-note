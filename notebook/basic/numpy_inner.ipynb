{
 "cells": [
  {
   "cell_type": "markdown",
   "source": [
    "# Numpy Ops"
   ],
   "metadata": {
    "collapsed": false,
    "pycharm": {
     "name": "#%% md\n"
    }
   }
  },
  {
   "cell_type": "code",
   "execution_count": 1,
   "outputs": [],
   "source": [
    "import numpy as np"
   ],
   "metadata": {
    "collapsed": false,
    "pycharm": {
     "name": "#%%\n"
    }
   }
  },
  {
   "cell_type": "markdown",
   "source": [
    "## [inner product](https://numpy.org/doc/stable/reference/generated/numpy.inner.html) ([kr](https://runebook.dev/ko/docs/numpy/reference/generated/numpy.inner))\n",
    "\n",
    "* 두 행렬의 마지막 차원이 동일 해야함\n",
    "* 연산 결과 두 행렬의 마지막 차원이 없어지며, 두 행렬의 차원이 합쳐짐\n",
    "    - eg> $inner(x(5,4,3, 2), y(6,5,4,3,2) = z(5,4,3,6,5,4,3)$"
   ],
   "metadata": {
    "collapsed": false,
    "pycharm": {
     "name": "#%% md\n"
    }
   }
  },
  {
   "cell_type": "markdown",
   "source": [
    "### $inner(x(k,), y(k,)) = z()$\n",
    "$\\begin{align}\n",
    "np.inner(x, y) = np.inner(\\begin{bmatrix} 1 & 2 \\end{bmatrix}, \\begin{bmatrix} 10 & 20 \\end{bmatrix})\n",
    "&= 1 \\times 10 + 2 \\times 20 \\\\\n",
    "&= 50\n",
    "\\end{align}$"
   ],
   "metadata": {
    "collapsed": false,
    "pycharm": {
     "name": "#%% md\n"
    }
   }
  },
  {
   "cell_type": "code",
   "execution_count": 14,
   "outputs": [
    {
     "name": "stdout",
     "output_type": "stream",
     "text": [
      "x(2,) = [1 2] \n",
      "\n",
      "y(2,) = [10 20] \n",
      "\n",
      "np.inner(x, y) = z() = 50 \n",
      "\n",
      "x * y = z(2,) = [10 40] \n",
      "\n",
      "np.dot(x, y) = z() = 50 \n",
      "\n"
     ]
    }
   ],
   "source": [
    "x = np.array([1, 2])\n",
    "print(f\"x{x.shape} =\", x, \"\\n\")\n",
    "\n",
    "y = np.array([10, 20])\n",
    "print(f\"y{y.shape} =\", y, \"\\n\")\n",
    "\n",
    "z = np.inner(x, y)\n",
    "print(f\"np.inner(x, y) = z{z.shape} =\", z, \"\\n\")\n",
    "\n",
    "try:\n",
    "    z = x * y\n",
    "    print(f\"x * y = z{z.shape} =\", z, \"\\n\")\n",
    "except Exception as e:\n",
    "    print(\"Error x * y :\", e, \"\\n\")\n",
    "\n",
    "try:\n",
    "    z = np.dot(x, y)\n",
    "    print(f\"np.dot(x, y) = z{z.shape} =\", z, \"\\n\")\n",
    "except Exception as e:\n",
    "    print(\"Error np.dot(x, y) :\", e, \"\\n\")"
   ],
   "metadata": {
    "collapsed": false,
    "pycharm": {
     "name": "#%%\n"
    }
   }
  },
  {
   "cell_type": "markdown",
   "source": [
    "### $inner(x(n,), y(..., n)) = z(...)$\n",
    "$\\begin{align}\n",
    "np.inner(x, y) = np.inner(\\begin{bmatrix} 1 & 2 \\end{bmatrix}\n",
    "    ,\n",
    "    \\begin{bmatrix}\n",
    "        10 & 20 \\\\\n",
    "        30 & 40 \\\\\n",
    "        50 & 60\n",
    "    \\end{bmatrix}\n",
    ")\n",
    "&= \\begin{bmatrix}\n",
    "    1 \\times 10 + 2 \\times 20 & 1 \\times 30 + 2 \\times 40 & 1 \\times 50 + 2 \\times 60\n",
    "\\end{bmatrix} \\\\\n",
    "&= \\begin{bmatrix} 50 & 110 & 170 \\end{bmatrix}\n",
    "\\end{align}$"
   ],
   "metadata": {
    "collapsed": false,
    "pycharm": {
     "name": "#%% md\n"
    }
   }
  },
  {
   "cell_type": "code",
   "execution_count": 10,
   "outputs": [
    {
     "name": "stdout",
     "output_type": "stream",
     "text": [
      "x(2,) = [1 2] \n",
      "\n",
      "y(3, 2) = [[10 20]\n",
      " [30 40]\n",
      " [50 60]] \n",
      "\n",
      "np.inner(x, y) = z(3,) = [ 50 110 170] \n",
      "\n",
      "Error : shapes (2,) and (3,2) not aligned: 2 (dim 0) != 3 (dim 0)\n"
     ]
    }
   ],
   "source": [
    "x = np.array([1, 2])\n",
    "print(f\"x{x.shape} =\", x, \"\\n\")\n",
    "\n",
    "y = np.array([\n",
    "    [10, 20],\n",
    "    [30, 40],\n",
    "    [50, 60],\n",
    "])\n",
    "print(f\"y{y.shape} =\", y, \"\\n\")\n",
    "\n",
    "z = np.inner(x, y)\n",
    "print(f\"np.inner(x, y) = z{z.shape} =\", z, \"\\n\")\n",
    "\n",
    "try:\n",
    "    z = np.dot(x, y)\n",
    "    print(f\"np.dot(x, y) = z{z.shape} =\", z, \"\\n\")\n",
    "except Exception as e:\n",
    "    print(\"Error :\", e)"
   ],
   "metadata": {
    "collapsed": false,
    "pycharm": {
     "name": "#%%\n"
    }
   }
  },
  {
   "cell_type": "code",
   "execution_count": 4,
   "outputs": [
    {
     "name": "stdout",
     "output_type": "stream",
     "text": [
      "Error : shapes (2,) and (3,2) not aligned: 2 (dim 0) != 3 (dim 0)\n"
     ]
    }
   ],
   "source": [
    "try:\n",
    "    z = np.dot(x, y)\n",
    "    print(f\"np.dot(x, y) = z{z.shape} =\", z)\n",
    "except Exception as e:\n",
    "    print(\"Error :\", e)"
   ],
   "metadata": {
    "collapsed": false,
    "pycharm": {
     "name": "#%%\n"
    }
   }
  },
  {
   "cell_type": "markdown",
   "source": [
    "### $inner(x(..., k), y(..., k)) = z(..., ...)$\n",
    "$\\begin{align}\n",
    "np.inner(x, y) = np.inner(\n",
    "\\begin{bmatrix}\n",
    "    \\begin{bmatrix} 1 & 2 \\end{bmatrix} \\\\\n",
    "    \\begin{bmatrix} 3 & 4 \\end{bmatrix} \\\\\n",
    "    \\begin{bmatrix} 5 & 6 \\end{bmatrix}\n",
    "\\end{bmatrix}\n",
    ",\n",
    "\\begin{bmatrix}\n",
    "    \\begin{bmatrix}\n",
    "        \\begin{bmatrix} 10 & 20 \\end{bmatrix} \\\\\n",
    "        \\begin{bmatrix} 30 & 40 \\end{bmatrix} \\\\\n",
    "        \\begin{bmatrix} 50 & 60 \\end{bmatrix}\n",
    "    \\end{bmatrix} \\\\\n",
    "    \\begin{bmatrix}\n",
    "        \\begin{bmatrix} 100 & 200 \\end{bmatrix} \\\\\n",
    "        \\begin{bmatrix} 300 & 400 \\end{bmatrix} \\\\\n",
    "        \\begin{bmatrix} 500 & 600 \\end{bmatrix}\n",
    "    \\end{bmatrix}\n",
    "\\end{bmatrix}\n",
    ")\n",
    "&= \\begin{bmatrix}\n",
    "    \\begin{bmatrix}\n",
    "        \\begin{bmatrix}\n",
    "            1 \\times 10 + 2 \\times 20 & 1 \\times 30 + 2 \\times 40 & 1 \\times 50 + 2 \\times 60\n",
    "        \\end{bmatrix} \\\\\n",
    "        \\begin{bmatrix}\n",
    "            1 \\times 100 + 2 \\times 200 & 1 \\times 300 + 2 \\times 400 & 1 \\times 500 + 2 \\times 600\n",
    "        \\end{bmatrix}\n",
    "    \\end{bmatrix} \\\\\n",
    "    \\begin{bmatrix}\n",
    "        \\begin{bmatrix}\n",
    "            3 \\times 10 + 4 \\times 20 & 3 \\times 30 + 4 \\times 40 & 3 \\times 50 + 4 \\times 60\n",
    "        \\end{bmatrix} \\\\\n",
    "        \\begin{bmatrix}\n",
    "            3 \\times 100 + 4 \\times 200 & 3 \\times 300 + 4 \\times 400 & 3 \\times 500 + 4 \\times 600\n",
    "        \\end{bmatrix}\n",
    "    \\end{bmatrix} \\\\\n",
    "    \\begin{bmatrix}\n",
    "        \\begin{bmatrix}\n",
    "            5 \\times 10 + 6 \\times 20 & 5 \\times 30 + 6 \\times 40 & 5 \\times 50 + 6 \\times 60\n",
    "        \\end{bmatrix} \\\\\n",
    "        \\begin{bmatrix}\n",
    "            5 \\times 100 + 6 \\times 200 & 5 \\times 300 + 6 \\times 400 & 5 \\times 500 + 6 \\times 600\n",
    "        \\end{bmatrix}\n",
    "    \\end{bmatrix}\n",
    "\\end{bmatrix} \\\\\n",
    "&= \\begin{bmatrix}\n",
    "    \\begin{bmatrix}\n",
    "        \\begin{bmatrix}\n",
    "            50 & 110 & 170\n",
    "        \\end{bmatrix} \\\\\n",
    "        \\begin{bmatrix}\n",
    "            500 & 1100 & 1700\n",
    "        \\end{bmatrix}\n",
    "    \\end{bmatrix} \\\\\n",
    "    \\begin{bmatrix}\n",
    "        \\begin{bmatrix}\n",
    "            110 & 250 & 390\n",
    "        \\end{bmatrix} \\\\\n",
    "        \\begin{bmatrix}\n",
    "            1100 & 2500 & 3900\n",
    "        \\end{bmatrix}\n",
    "    \\end{bmatrix} \\\\\n",
    "    \\begin{bmatrix}\n",
    "        \\begin{bmatrix}\n",
    "            170 & 390 & 610\n",
    "        \\end{bmatrix} \\\\\n",
    "        \\begin{bmatrix}\n",
    "            1700 & 3900 & 6100\n",
    "        \\end{bmatrix}\n",
    "    \\end{bmatrix}\n",
    "\\end{bmatrix}\n",
    "\\end{align}$"
   ],
   "metadata": {
    "collapsed": false,
    "pycharm": {
     "name": "#%% md\n"
    }
   }
  },
  {
   "cell_type": "code",
   "execution_count": 5,
   "outputs": [
    {
     "name": "stdout",
     "output_type": "stream",
     "text": [
      "x(3, 2) = [[1 2]\n",
      " [3 4]\n",
      " [5 6]]\n",
      "y(2, 3, 2) = [[[ 10  20]\n",
      "  [ 30  40]\n",
      "  [ 50  60]]\n",
      "\n",
      " [[100 200]\n",
      "  [300 400]\n",
      "  [500 600]]]\n",
      "np.inner(x, y) = z(3, 2, 3) = [[[  50  110  170]\n",
      "  [ 500 1100 1700]]\n",
      "\n",
      " [[ 110  250  390]\n",
      "  [1100 2500 3900]]\n",
      "\n",
      " [[ 170  390  610]\n",
      "  [1700 3900 6100]]]\n"
     ]
    }
   ],
   "source": [
    "x = np.array([\n",
    "    [1, 2],\n",
    "    [3, 4],\n",
    "    [5, 6],\n",
    "])\n",
    "print(f\"x{x.shape} =\", x)\n",
    "\n",
    "y = np.array([\n",
    "    [\n",
    "        [10, 20],\n",
    "        [30, 40],\n",
    "        [50, 60],\n",
    "    ],\n",
    "    [\n",
    "        [100, 200],\n",
    "        [300, 400],\n",
    "        [500, 600],\n",
    "    ]\n",
    "])\n",
    "print(f\"y{y.shape} =\", y)\n",
    "\n",
    "z = np.inner(x, y)\n",
    "print(f\"np.inner(x, y) = z{z.shape} =\", z)"
   ],
   "metadata": {
    "collapsed": false,
    "pycharm": {
     "name": "#%%\n"
    }
   }
  },
  {
   "cell_type": "code",
   "execution_count": 6,
   "outputs": [
    {
     "name": "stdout",
     "output_type": "stream",
     "text": [
      "Error : shapes (3,2) and (2,3,2) not aligned: 2 (dim 1) != 3 (dim 1)\n"
     ]
    }
   ],
   "source": [
    "try:\n",
    "    z = np.dot(x, y)\n",
    "    print(f\"np.dot(x, y) = z{z.shape} =\", z)\n",
    "except Exception as e:\n",
    "    print(\"Error :\", e)"
   ],
   "metadata": {
    "collapsed": false,
    "pycharm": {
     "name": "#%%\n"
    }
   }
  }
 ],
 "metadata": {
  "kernelspec": {
   "display_name": "Python 3",
   "language": "python",
   "name": "python3"
  },
  "language_info": {
   "codemirror_mode": {
    "name": "ipython",
    "version": 2
   },
   "file_extension": ".py",
   "mimetype": "text/x-python",
   "name": "python",
   "nbconvert_exporter": "python",
   "pygments_lexer": "ipython2",
   "version": "2.7.6"
  }
 },
 "nbformat": 4,
 "nbformat_minor": 0
}