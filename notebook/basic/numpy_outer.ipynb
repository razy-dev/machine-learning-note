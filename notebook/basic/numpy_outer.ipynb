{
 "cells": [
  {
   "cell_type": "markdown",
   "source": [
    "# Numpy Ops"
   ],
   "metadata": {
    "collapsed": false,
    "pycharm": {
     "name": "#%% md\n"
    }
   }
  },
  {
   "cell_type": "code",
   "execution_count": 8,
   "outputs": [],
   "source": [
    "import numpy as np"
   ],
   "metadata": {
    "collapsed": false,
    "pycharm": {
     "name": "#%%\n"
    }
   }
  },
  {
   "cell_type": "markdown",
   "source": [
    "## [outer product](https://numpy.org/doc/stable/reference/generated/numpy.outer.html) ([kr](https://runebook.dev/ko/docs/numpy/reference/generated/numpy.outer))\n",
    "\n",
    "* 첫번째 행렬의 모든 항목을 순회 하며, 두번째 행렬의 모든 항목과 각각 곱셉 연산 한다.\n",
    "* 결과 차원은 (첫번째 행렬의 모든 항목의 개수 = 차원 크기의 곱, 두번째 행렬의 모든 항목의 개수 = 차원 크기의 곱)\n",
    "    - eg> $inner(x(1,2,3), y(4,5,6) = z(6,120)$"
   ],
   "metadata": {
    "collapsed": false,
    "pycharm": {
     "name": "#%% md\n"
    }
   }
  },
  {
   "cell_type": "markdown",
   "source": [
    "### $outer(x(n,), y(n,)) = z(n, n)$\n",
    "$\\begin{align}\n",
    "np.outer(x, y) = np.outer(\\begin{bmatrix} 1 & 2 \\end{bmatrix}, \\begin{bmatrix} 10 & 20 & 30 \\end{bmatrix})\n",
    "&= \\begin{bmatrix}\n",
    "    \\begin{bmatrix} 1 \\times 10 & 1 \\times 20 & 1 \\times 30 \\end{bmatrix} \\\\\n",
    "    \\begin{bmatrix} 2 \\times 10 & 2 \\times 20 & 2 \\times 30 \\end{bmatrix} \\\\\n",
    "\\end{bmatrix}\n",
    "&= \\begin{bmatrix}\n",
    "    \\begin{bmatrix} 10 & 20 & 30 \\end{bmatrix} \\\\\n",
    "    \\begin{bmatrix} 20 & 40 & 60 \\end{bmatrix} \\\\\n",
    "\\end{bmatrix}\n",
    "\\end{align}$"
   ],
   "metadata": {
    "collapsed": false,
    "pycharm": {
     "name": "#%% md\n"
    }
   }
  },
  {
   "cell_type": "code",
   "execution_count": 9,
   "outputs": [
    {
     "name": "stdout",
     "output_type": "stream",
     "text": [
      "x(2,) = [1 2]\n",
      "y(3,) = [10 20 30]\n",
      "np.outer(x, y) = z(2, 3) = [[10 20 30]\n",
      " [20 40 60]]\n"
     ]
    }
   ],
   "source": [
    "x = np.array([1, 2])\n",
    "print(f\"x{x.shape} =\", x)\n",
    "\n",
    "y = np.array([10, 20, 30])\n",
    "print(f\"y{y.shape} =\", y)\n",
    "\n",
    "z = np.outer(x, y)\n",
    "print(f\"np.outer(x, y) = z{z.shape} =\", z)"
   ],
   "metadata": {
    "collapsed": false,
    "pycharm": {
     "name": "#%%\n"
    }
   }
  },
  {
   "cell_type": "markdown",
   "source": [
    "### $outer(x(n,), y(l, ..., m)) = z(n, l * ... * m)$\n",
    "$\\begin{align}\n",
    "np.inner(x, y) = outer(\\begin{bmatrix} 1 & 2 \\end{bmatrix}\n",
    "    ,\n",
    "    \\begin{bmatrix}\n",
    "        10 & 20 \\\\\n",
    "        30 & 40 \\\\\n",
    "        50 & 60\n",
    "    \\end{bmatrix}\n",
    ")\n",
    "&= \\begin{bmatrix}\n",
    "    \\begin{bmatrix}\n",
    "        1 \\times 10 & 1 \\times 20 & 1 \\times 30 & 1 \\times 40 & 1 \\times 50 & 1 \\times 60\n",
    "    \\end{bmatrix} \\\\\n",
    "    \\begin{bmatrix}\n",
    "        2 \\times 10 & 2 \\times 20 & 2 \\times 30 & 2 \\times 40 & 2 \\times 50 & 2 \\times 60\n",
    "    \\end{bmatrix}\n",
    "\\end{bmatrix} \\\\\n",
    "&= \\begin{bmatrix}\n",
    "    \\begin{bmatrix}\n",
    "        10 & 20 & 30 & 40 & 50 & 60\n",
    "    \\end{bmatrix} \\\\\n",
    "    \\begin{bmatrix}\n",
    "        20 & 40 & 60 & 80 & 100 & 120\n",
    "    \\end{bmatrix}\n",
    "\\end{bmatrix}\n",
    "\\end{align}$"
   ],
   "metadata": {
    "collapsed": false,
    "pycharm": {
     "name": "#%% md\n"
    }
   }
  },
  {
   "cell_type": "code",
   "execution_count": 10,
   "outputs": [
    {
     "name": "stdout",
     "output_type": "stream",
     "text": [
      "x(2,) = [1 2]\n",
      "y(3, 2) = [[10 20]\n",
      " [30 40]\n",
      " [50 60]]\n",
      "np.outer(x, y) = z(2, 6) = [[ 10  20  30  40  50  60]\n",
      " [ 20  40  60  80 100 120]]\n"
     ]
    }
   ],
   "source": [
    "x = np.array([1, 2])\n",
    "print(f\"x{x.shape} =\", x)\n",
    "\n",
    "y = np.array([\n",
    "    [10, 20],\n",
    "    [30, 40],\n",
    "    [50, 60],\n",
    "])\n",
    "print(f\"y{y.shape} =\", y)\n",
    "\n",
    "z = np.outer(x, y)\n",
    "print(f\"np.outer(x, y) = z{z.shape} =\", z)"
   ],
   "metadata": {
    "collapsed": false,
    "pycharm": {
     "name": "#%%\n"
    }
   }
  },
  {
   "cell_type": "markdown",
   "source": [
    "### $inner(x(l, ..., m), y(n, ..., o)) = z(l * ... * m, n * ... * o)$\n",
    "$\\begin{align}\n",
    "np.outer(x, y) = np.outer(\n",
    "\\begin{bmatrix}\n",
    "    \\begin{bmatrix} 1 & 2 \\end{bmatrix} \\\\\n",
    "    \\begin{bmatrix} 3 & 4 \\end{bmatrix}\n",
    "\\end{bmatrix}\n",
    ",\n",
    "\\begin{bmatrix}\n",
    "    \\begin{bmatrix}\n",
    "        \\begin{bmatrix} 10 & 20 \\end{bmatrix} \\\\\n",
    "        \\begin{bmatrix} 30 & 40 \\end{bmatrix}\n",
    "    \\end{bmatrix} \\\\\n",
    "    \\begin{bmatrix}\n",
    "        \\begin{bmatrix} 100 & 200 \\end{bmatrix} \\\\\n",
    "        \\begin{bmatrix} 300 & 400 \\end{bmatrix}\n",
    "    \\end{bmatrix}\n",
    "\\end{bmatrix}\n",
    "&= \\begin{bmatrix}\n",
    "    \\begin{bmatrix}\n",
    "        1 \\times 10     & 1 \\times 20   & 1 \\times 30   & 1 \\times 40\n",
    "        &\n",
    "        1 \\times 100    & 1 \\times 200  & 1 \\times 300  & 1 \\times 400\n",
    "    \\end{bmatrix} \\\\\n",
    "    \\begin{bmatrix}\n",
    "        2 \\times 10     & 2 \\times 20   & 2 \\times 30   & 2 \\times 40\n",
    "        &\n",
    "        2 \\times 100    & 2 \\times 200  & 2 \\times 300  & 2 \\times 400\n",
    "    \\end{bmatrix} \\\\\n",
    "    \\begin{bmatrix}\n",
    "        3 \\times 10     & 3 \\times 20   & 3 \\times 30   & 3 \\times 40\n",
    "        &\n",
    "        3 \\times 100    & 3 \\times 200  & 3 \\times 300  & 3 \\times 400\n",
    "    \\end{bmatrix} \\\\\n",
    "    \\begin{bmatrix}\n",
    "        4 \\times 10     & 4 \\times 20   & 4 \\times 30   & 4 \\times 40\n",
    "        &\n",
    "        4 \\times 100    & 4 \\times 200  & 4 \\times 300  & 4 \\times 400\n",
    "    \\end{bmatrix}\n",
    "\\end{bmatrix} \\\\\n",
    "&= \\begin{bmatrix}\n",
    "    \\begin{bmatrix}\n",
    "        10  & 20    & 30    & 40    & 100   & 200   & 300   & 400\n",
    "    \\end{bmatrix} \\\\\n",
    "    \\begin{bmatrix}\n",
    "        20  & 40    & 60    & 80    & 200   & 400   & 600   & 800\n",
    "    \\end{bmatrix} \\\\\n",
    "    \\begin{bmatrix}\n",
    "        30  & 60    & 90    & 120   & 300   & 600   & 900   & 1200\n",
    "    \\end{bmatrix} \\\\\n",
    "    \\begin{bmatrix}\n",
    "        40  & 80    & 120   & 160   & 400   & 800   & 1200  & 1600\n",
    "    \\end{bmatrix}\n",
    "\\end{bmatrix}\n",
    "\\end{align}$"
   ],
   "metadata": {
    "collapsed": false,
    "pycharm": {
     "name": "#%% md\n"
    }
   }
  },
  {
   "cell_type": "code",
   "execution_count": 11,
   "outputs": [
    {
     "name": "stdout",
     "output_type": "stream",
     "text": [
      "x(2, 2) = [[1 2]\n",
      " [3 4]]\n",
      "y(2, 2, 2) = [[[ 10  20]\n",
      "  [ 30  40]]\n",
      "\n",
      " [[100 200]\n",
      "  [300 400]]]\n",
      "np.outer(x, y) = z(4, 8) = [[  10   20   30   40  100  200  300  400]\n",
      " [  20   40   60   80  200  400  600  800]\n",
      " [  30   60   90  120  300  600  900 1200]\n",
      " [  40   80  120  160  400  800 1200 1600]]\n"
     ]
    }
   ],
   "source": [
    "x = np.array([\n",
    "    [1, 2],\n",
    "    [3, 4]\n",
    "])\n",
    "print(f\"x{x.shape} =\", x)\n",
    "\n",
    "y = np.array([\n",
    "    [\n",
    "        [10, 20],\n",
    "        [30, 40],\n",
    "    ],\n",
    "    [\n",
    "        [100, 200],\n",
    "        [300, 400],\n",
    "    ]\n",
    "])\n",
    "print(f\"y{y.shape} =\", y)\n",
    "\n",
    "z = np.outer(x, y)\n",
    "print(f\"np.outer(x, y) = z{z.shape} =\", z)"
   ],
   "metadata": {
    "collapsed": false,
    "pycharm": {
     "name": "#%%\n"
    }
   }
  },
  {
   "cell_type": "code",
   "execution_count": 11,
   "outputs": [],
   "source": [],
   "metadata": {
    "collapsed": false,
    "pycharm": {
     "name": "#%%\n"
    }
   }
  }
 ],
 "metadata": {
  "kernelspec": {
   "display_name": "Python 3",
   "language": "python",
   "name": "python3"
  },
  "language_info": {
   "codemirror_mode": {
    "name": "ipython",
    "version": 2
   },
   "file_extension": ".py",
   "mimetype": "text/x-python",
   "name": "python",
   "nbconvert_exporter": "python",
   "pygments_lexer": "ipython2",
   "version": "2.7.6"
  }
 },
 "nbformat": 4,
 "nbformat_minor": 0
}