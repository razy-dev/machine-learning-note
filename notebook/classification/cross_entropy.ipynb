{
 "cells": [
  {
   "cell_type": "code",
   "execution_count": 22,
   "metadata": {
    "collapsed": true,
    "pycharm": {
     "name": "#%%\n"
    }
   },
   "outputs": [],
   "source": [
    "import numpy as np\n",
    "import torch\n",
    "import torch.nn.functional as F\n",
    "from matplotlib import pyplot as plt"
   ]
  },
  {
   "cell_type": "code",
   "execution_count": 23,
   "outputs": [
    {
     "data": {
      "text/plain": "[<matplotlib.lines.Line2D at 0x1404a9760>]"
     },
     "execution_count": 23,
     "metadata": {},
     "output_type": "execute_result"
    },
    {
     "data": {
      "text/plain": "<Figure size 640x480 with 1 Axes>",
      "image/png": "[encoded data removed]"
     },
     "metadata": {},
     "output_type": "display_data"
    }
   ],
   "source": [
    "x = np.linspace(0.01, .999, 100, endpoint=False)\n",
    "y_1 = -np.log(x)\n",
    "y_0 = -np.log(1 - x)\n",
    "plt.plot(x, y_1, color='red')\n",
    "plt.plot(x, y_0, color='blue')"
   ],
   "metadata": {
    "collapsed": false,
    "pycharm": {
     "name": "#%%\n"
    }
   }
  },
  {
   "cell_type": "code",
   "execution_count": 24,
   "outputs": [
    {
     "name": "stdout",
     "output_type": "stream",
     "text": [
      "x = torch.Size([5]) tensor([0.0611, 0.2246, 0.2343, 0.1771, 0.5561], dtype=torch.float64) tensor(1.2530, dtype=torch.float64)\n",
      "z = torch.Size([5]) tensor([0.1631, 0.1921, 0.1940, 0.1832, 0.2676], dtype=torch.float64) tensor(1.0000, dtype=torch.float64)\n",
      "y = torch.Size([5]) tensor([0, 1, 0, 1, 1])\n",
      "cross_entropy_loss   = tensor(4.6652, dtype=torch.float64)\n",
      "nll_loss             = tensor(-0.1631, dtype=torch.float64)\n",
      "loss                 = tensor(5.0589, dtype=torch.float64) tensor([0.1781, 1.6497, 0.2156, 1.6972, 1.3182], dtype=torch.float64)\n",
      "cost                 = tensor(4.6652, dtype=torch.float64) tensor([0.0000, 1.6497, 0.0000, 1.6972, 1.3182], dtype=torch.float64)\n"
     ]
    }
   ],
   "source": [
    "torch.manual_seed(1)\n",
    "CLASSES_SIZE = 5\n",
    "\n",
    "x = torch.rand(CLASSES_SIZE, dtype=float)\n",
    "print(\"x =\", x.shape, x, x.sum())\n",
    "\n",
    "z = F.softmax(x, dim=0)\n",
    "print(\"z =\", z.shape, z, z.sum())\n",
    "\n",
    "y = torch.randint(0, 2, (CLASSES_SIZE,))\n",
    "print(\"y =\", y.shape, y)\n",
    "\n",
    "# Case 1\n",
    "try:\n",
    "    print(\"cross_entropy_loss   =\", F.cross_entropy(x, y.float()))  # tensor(2.1438)\n",
    "except Exception as e:\n",
    "    print(f\"ERROR cross_entropy_loss :\", e)\n",
    "\n",
    "# Case 2\n",
    "try:\n",
    "    print(\"nll_loss             =\", F.nll_loss(z + 1e-8, y))  # tensor(2.1438)\n",
    "except Exception as e:\n",
    "    print(f\"ERROR nll_loss :\", e)\n",
    "\n",
    "# Case 3\n",
    "try:\n",
    "    loss = (-(y * torch.log(z) + (1 - y) * torch.log(1 - z)))\n",
    "    print(\"loss                 =\", loss.sum(), loss)\n",
    "except Exception as e:\n",
    "    print(f\"ERROR loss :\", e)\n",
    "\n",
    "# Case 4\n",
    "try:\n",
    "    cost = (-(y * torch.log(z)))\n",
    "    print(\"cost                 =\", cost.sum(), cost)\n",
    "except Exception as e:\n",
    "    print(f\"ERROR cost :\", e)"
   ],
   "metadata": {
    "collapsed": false,
    "pycharm": {
     "name": "#%%\n"
    }
   }
  },
  {
   "cell_type": "markdown",
   "source": [
    "## 뭐가 뭔지 아직 잘 모르겠다!!!"
   ],
   "metadata": {
    "collapsed": false,
    "pycharm": {
     "name": "#%% md\n"
    }
   }
  },
  {
   "cell_type": "code",
   "execution_count": 24,
   "outputs": [],
   "source": [],
   "metadata": {
    "collapsed": false,
    "pycharm": {
     "name": "#%%\n"
    }
   }
  }
 ],
 "metadata": {
  "kernelspec": {
   "display_name": "Python 3",
   "language": "python",
   "name": "python3"
  },
  "language_info": {
   "codemirror_mode": {
    "name": "ipython",
    "version": 2
   },
   "file_extension": ".py",
   "mimetype": "text/x-python",
   "name": "python",
   "nbconvert_exporter": "python",
   "pygments_lexer": "ipython2",
   "version": "2.7.6"
  }
 },
 "nbformat": 4,
 "nbformat_minor": 0
}