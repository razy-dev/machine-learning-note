{
 "cells": [
  {
   "cell_type": "code",
   "execution_count": 1,
   "metadata": {
    "collapsed": true,
    "pycharm": {
     "name": "#%%\n"
    }
   },
   "outputs": [],
   "source": [
    "import torch\n",
    "from torch import Tensor"
   ]
  },
  {
   "cell_type": "code",
   "execution_count": 10,
   "outputs": [
    {
     "name": "stdout",
     "output_type": "stream",
     "text": [
      "torch.Size([5, 1, 1]) tensor([[[0.7378]],\n",
      "\n",
      "        [[0.1149]],\n",
      "\n",
      "        [[0.6903]],\n",
      "\n",
      "        [[0.3882]],\n",
      "\n",
      "        [[0.7372]]])\n",
      "torch.Size([1, 1]) tensor([[0.7378]]) 0.7377938628196716\n",
      "torch.Size([1, 1]) tensor([[0.1149]]) 0.11485201120376587\n",
      "torch.Size([1, 1]) tensor([[0.6903]]) 0.6903244256973267\n",
      "torch.Size([1, 1]) tensor([[0.3882]]) 0.38823235034942627\n",
      "torch.Size([1, 1]) tensor([[0.7372]]) 0.737197995185852\n"
     ]
    }
   ],
   "source": [
    "data: Tensor = torch.rand(5, 1, 1)\n",
    "print(data.shape, data)\n",
    "for d in data:\n",
    "    print(d.shape, d, d.squeeze().item())"
   ],
   "metadata": {
    "collapsed": false,
    "pycharm": {
     "name": "#%%\n"
    }
   }
  },
  {
   "cell_type": "code",
   "execution_count": null,
   "outputs": [],
   "source": [],
   "metadata": {
    "collapsed": false,
    "pycharm": {
     "name": "#%%\n"
    }
   }
  }
 ],
 "metadata": {
  "kernelspec": {
   "display_name": "Python 3",
   "language": "python",
   "name": "python3"
  },
  "language_info": {
   "codemirror_mode": {
    "name": "ipython",
    "version": 2
   },
   "file_extension": ".py",
   "mimetype": "text/x-python",
   "name": "python",
   "nbconvert_exporter": "python",
   "pygments_lexer": "ipython2",
   "version": "2.7.6"
  }
 },
 "nbformat": 4,
 "nbformat_minor": 0
}