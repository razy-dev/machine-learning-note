{
 "cells": [
  {
   "cell_type": "code",
   "execution_count": 1,
   "metadata": {
    "collapsed": true,
    "pycharm": {
     "name": "#%%\n"
    }
   },
   "outputs": [],
   "source": [
    "import torch\n",
    "from torch import Tensor"
   ]
  },
  {
   "cell_type": "code",
   "execution_count": 10,
   "outputs": [
    {
     "name": "stdout",
     "output_type": "stream",
     "text": [
      "torch.Size([5, 1, 1]) tensor([[[0.7378]],\n",
      "\n",
      "        [[0.1149]],\n",
      "\n",
      "        [[0.6903]],\n",
      "\n",
      "        [[0.3882]],\n",
      "\n",
      "        [[0.7372]]])\n",
      "torch.Size([1, 1]) tensor([[0.7378]]) 0.7377938628196716\n",
      "torch.Size([1, 1]) tensor([[0.1149]]) 0.11485201120376587\n",
      "torch.Size([1, 1]) tensor([[0.6903]]) 0.6903244256973267\n",
      "torch.Size([1, 1]) tensor([[0.3882]]) 0.38823235034942627\n",
      "torch.Size([1, 1]) tensor([[0.7372]]) 0.737197995185852\n"
     ]
    }
   ],
   "source": [
    "data: Tensor = torch.rand(5, 1, 1)\n",
    "print(data.shape, data)\n",
    "for d in data:\n",
    "    print(d.shape, d, d.squeeze().item())"
   ],
   "metadata": {
    "collapsed": false,
    "pycharm": {
     "name": "#%%\n"
    }
   }
  },
  {
   "cell_type": "code",
   "execution_count": 23,
   "outputs": [
    {
     "name": "stdout",
     "output_type": "stream",
     "text": [
      "0 tensor([0., 0., 0.]) tensor([0.0000, 0.0000, 0.1000]) tensor(3.3333) tensor(3.3333)\n",
      "1 tensor([0.0000, 0.0000, 0.5000]) tensor([0.0000, 0.0000, 0.1000]) tensor(0.2310) tensor(0.2310)\n",
      "2 tensor([0.0000, 0.5000, 0.0000]) tensor([0.0000, 0.0000, 0.1000]) tensor(3.5644) tensor(0.2310)\n",
      "3 tensor([0.0000, 0.5000, 0.5000]) tensor([0.0000, 0.0000, 0.1000]) tensor(0.4621) tensor(0.2310)\n",
      "4 tensor([0.5000, 0.0000, 0.0000]) tensor([0.0000, 0.0000, 0.1000]) tensor(3.5644) tensor(0.2310)\n",
      "5 tensor([0.5000, 0.0000, 0.5000]) tensor([0.0000, 0.0000, 0.1000]) tensor(0.4621) tensor(0.2310)\n",
      "6 tensor([0.5000, 0.5000, 0.0000]) tensor([0.0000, 0.0000, 0.1000]) tensor(3.7954) tensor(0.2310)\n",
      "7 tensor([0.5000, 0.5000, 0.5000]) tensor([0.0000, 0.0000, 0.1000]) tensor(0.6931) tensor(0.2310)\n"
     ]
    }
   ],
   "source": [
    "import torch\n",
    "import torch.nn as nn\n",
    "\n",
    "f = nn.BCELoss()\n",
    "v = .5\n",
    "t = torch.FloatTensor([\n",
    "    [0, 0, 0],\n",
    "    [0, 0, v],\n",
    "    [0, v, 0],\n",
    "    [0, v, v],\n",
    "\n",
    "    [v, 0, 0],\n",
    "    [v, 0, v],\n",
    "    [v, v, 0],\n",
    "    [v, v, v],\n",
    "])\n",
    "y = torch.FloatTensor([0, 0, .1])\n",
    "\n",
    "m = 0\n",
    "for i, x in enumerate(t):\n",
    "    z = f(x, y)\n",
    "    m = min(m, z) if m else z\n",
    "    print(i, x, y, z, m)"
   ],
   "metadata": {
    "collapsed": false,
    "pycharm": {
     "name": "#%%\n"
    }
   }
  },
  {
   "cell_type": "code",
   "execution_count": 67,
   "outputs": [
    {
     "name": "stdout",
     "output_type": "stream",
     "text": [
      "[-0.04  0.45  0.36 -0.12 -0.28  0.15  0.06 -0.33  0.72]\n",
      "[0.96 1.45 1.36 0.88 0.72 1.15 1.06 0.67 1.72]\n",
      "[0.48  0.725 0.68  0.44  0.36  0.575 0.53  0.335 0.86 ]\n"
     ]
    }
   ],
   "source": [
    "import numpy as np\n",
    "import matplotlib.pyplot as plt\n",
    "\n",
    "data = np.random.randint(100, 200, 10)\n",
    "grad = np.array([(data[i + 1] - data[i]) / data[i] for i in range(len(data) - 1)]).round(2)\n",
    "print(grad)\n",
    "print(grad + 1)\n",
    "print((grad + 1) / 2)"
   ],
   "metadata": {
    "collapsed": false,
    "pycharm": {
     "name": "#%%\n"
    }
   }
  },
  {
   "cell_type": "code",
   "execution_count": null,
   "outputs": [],
   "source": [],
   "metadata": {
    "collapsed": false,
    "pycharm": {
     "name": "#%%\n"
    }
   }
  }
 ],
 "metadata": {
  "kernelspec": {
   "display_name": "Python 3",
   "language": "python",
   "name": "python3"
  },
  "language_info": {
   "codemirror_mode": {
    "name": "ipython",
    "version": 2
   },
   "file_extension": ".py",
   "mimetype": "text/x-python",
   "name": "python",
   "nbconvert_exporter": "python",
   "pygments_lexer": "ipython2",
   "version": "2.7.6"
  }
 },
 "nbformat": 4,
 "nbformat_minor": 0
}