{
 "cells": [
  {
   "cell_type": "code",
   "execution_count": 1,
   "metadata": {
    "collapsed": true,
    "pycharm": {
     "name": "#%%\n"
    }
   },
   "outputs": [],
   "source": [
    "import torch\n",
    "from torch import Tensor"
   ]
  },
  {
   "cell_type": "code",
   "execution_count": 10,
   "outputs": [
    {
     "name": "stdout",
     "output_type": "stream",
     "text": [
      "torch.Size([5, 1, 1]) tensor([[[0.7378]],\n",
      "\n",
      "        [[0.1149]],\n",
      "\n",
      "        [[0.6903]],\n",
      "\n",
      "        [[0.3882]],\n",
      "\n",
      "        [[0.7372]]])\n",
      "torch.Size([1, 1]) tensor([[0.7378]]) 0.7377938628196716\n",
      "torch.Size([1, 1]) tensor([[0.1149]]) 0.11485201120376587\n",
      "torch.Size([1, 1]) tensor([[0.6903]]) 0.6903244256973267\n",
      "torch.Size([1, 1]) tensor([[0.3882]]) 0.38823235034942627\n",
      "torch.Size([1, 1]) tensor([[0.7372]]) 0.737197995185852\n"
     ]
    }
   ],
   "source": [
    "data: Tensor = torch.rand(5, 1, 1)\n",
    "print(data.shape, data)\n",
    "for d in data:\n",
    "    print(d.shape, d, d.squeeze().item())"
   ],
   "metadata": {
    "collapsed": false,
    "pycharm": {
     "name": "#%%\n"
    }
   }
  },
  {
   "cell_type": "code",
   "execution_count": 23,
   "outputs": [
    {
     "name": "stdout",
     "output_type": "stream",
     "text": [
      "0 tensor([0., 0., 0.]) tensor([0.0000, 0.0000, 0.1000]) tensor(3.3333) tensor(3.3333)\n",
      "1 tensor([0.0000, 0.0000, 0.5000]) tensor([0.0000, 0.0000, 0.1000]) tensor(0.2310) tensor(0.2310)\n",
      "2 tensor([0.0000, 0.5000, 0.0000]) tensor([0.0000, 0.0000, 0.1000]) tensor(3.5644) tensor(0.2310)\n",
      "3 tensor([0.0000, 0.5000, 0.5000]) tensor([0.0000, 0.0000, 0.1000]) tensor(0.4621) tensor(0.2310)\n",
      "4 tensor([0.5000, 0.0000, 0.0000]) tensor([0.0000, 0.0000, 0.1000]) tensor(3.5644) tensor(0.2310)\n",
      "5 tensor([0.5000, 0.0000, 0.5000]) tensor([0.0000, 0.0000, 0.1000]) tensor(0.4621) tensor(0.2310)\n",
      "6 tensor([0.5000, 0.5000, 0.0000]) tensor([0.0000, 0.0000, 0.1000]) tensor(3.7954) tensor(0.2310)\n",
      "7 tensor([0.5000, 0.5000, 0.5000]) tensor([0.0000, 0.0000, 0.1000]) tensor(0.6931) tensor(0.2310)\n"
     ]
    }
   ],
   "source": [
    "import torch\n",
    "import torch.nn as nn\n",
    "\n",
    "f = nn.BCELoss()\n",
    "v = .5\n",
    "t = torch.FloatTensor([\n",
    "    [0, 0, 0],\n",
    "    [0, 0, v],\n",
    "    [0, v, 0],\n",
    "    [0, v, v],\n",
    "\n",
    "    [v, 0, 0],\n",
    "    [v, 0, v],\n",
    "    [v, v, 0],\n",
    "    [v, v, v],\n",
    "])\n",
    "y = torch.FloatTensor([0, 0, .1])\n",
    "\n",
    "m = 0\n",
    "for i, x in enumerate(t):\n",
    "    z = f(x, y)\n",
    "    m = min(m, z) if m else z\n",
    "    print(i, x, y, z, m)"
   ],
   "metadata": {
    "collapsed": false,
    "pycharm": {
     "name": "#%%\n"
    }
   }
  },
  {
   "cell_type": "code",
   "execution_count": 71,
   "outputs": [
    {
     "name": "stdout",
     "output_type": "stream",
     "text": [
      "[ 0.39 -0.43 -0.09  0.61  0.   -0.12  0.05 -0.09  0.04]\n",
      "[1.39 0.57 0.91 1.61 1.   0.88 1.05 0.91 1.04]\n",
      "[0.695 0.285 0.455 0.805 0.5   0.44  0.525 0.455 0.52 ]\n",
      "----------------------------------------\n",
      "[ 0.57 -0.22 -0.09  0.23  0.18 -0.23  0.26 -0.48  0.2 ]\n",
      "[1.57 0.78 0.91 1.23 1.18 0.77 1.26 0.52 1.2 ]\n",
      "[0.785 0.39  0.455 0.615 0.59  0.385 0.63  0.26  0.6  ]\n",
      "----------------------------------------\n",
      "[-0.1   0.15 -0.34  0.83 -0.32  0.16  0.23 -0.38  0.67]\n",
      "[0.9  1.15 0.66 1.83 0.68 1.16 1.23 0.62 1.67]\n",
      "[0.45  0.575 0.33  0.915 0.34  0.58  0.615 0.31  0.835]\n",
      "----------------------------------------\n"
     ]
    }
   ],
   "source": [
    "import numpy as np\n",
    "import matplotlib.pyplot as plt\n",
    "\n",
    "for i in range(3):\n",
    "    data = np.random.randint(100, 200, 10)\n",
    "    grad = np.array([(data[i + 1] - data[i]) / data[i] for i in range(len(data) - 1)]).round(2)\n",
    "    print(grad)\n",
    "    print(grad + 1)\n",
    "    print((grad + 1) / 2)\n",
    "    print('-' * 40)"
   ],
   "metadata": {
    "collapsed": false,
    "pycharm": {
     "name": "#%%\n"
    }
   }
  },
  {
   "cell_type": "code",
   "execution_count": 84,
   "outputs": [
    {
     "name": "stdout",
     "output_type": "stream",
     "text": [
      "323 720 1.2291021671826625 2 [0. 0. 1.]\n",
      "720 582 -0.19166666666666668 0 [1. 0. 0.]\n",
      "582 310 -0.46735395189003437 0 [1. 0. 0.]\n",
      "310 315 0.016129032258064516 1 [0. 1. 0.]\n",
      "315 611 0.9396825396825397 2 [0. 0. 1.]\n",
      "611 619 0.01309328968903437 1 [0. 1. 0.]\n",
      "619 100 -0.8384491114701131 0 [1. 0. 0.]\n",
      "100 236 1.36 2 [0. 0. 1.]\n",
      "236 988 3.1864406779661016 2 [0. 0. 1.]\n"
     ]
    }
   ],
   "source": [
    "import numpy as np\n",
    "\n",
    "midrange = 0.1  # 표준 편차로 부터\n",
    "data = np.random.randint(100, 1000, 10)\n",
    "for i in range(len(data) - 1):\n",
    "    r = (data[i + 1] - data[i]) / data[i]\n",
    "    d = 2\n",
    "    if abs(r) <= midrange:\n",
    "        d = 1\n",
    "    elif r < 0:\n",
    "        d = 0\n",
    "    print(data[i], data[i + 1], r, d, np.eye(3)[d])"
   ],
   "metadata": {
    "collapsed": false,
    "pycharm": {
     "name": "#%%\n"
    }
   }
  },
  {
   "cell_type": "code",
   "execution_count": 85,
   "outputs": [
    {
     "ename": "TypeError",
     "evalue": "'float' object cannot be interpreted as an integer",
     "output_type": "error",
     "traceback": [
      "\u001B[0;31m---------------------------------------------------------------------------\u001B[0m",
      "\u001B[0;31mTypeError\u001B[0m                                 Traceback (most recent call last)",
      "Cell \u001B[0;32mIn [85], line 1\u001B[0m\n\u001B[0;32m----> 1\u001B[0m \u001B[38;5;28mprint\u001B[39m(\u001B[38;5;28;43mrange\u001B[39;49m\u001B[43m(\u001B[49m\u001B[38;5;241;43m0.1\u001B[39;49m\u001B[43m,\u001B[49m\u001B[43m \u001B[49m\u001B[38;5;241;43m0.5\u001B[39;49m\u001B[43m,\u001B[49m\u001B[43m \u001B[49m\u001B[38;5;241;43m0.1\u001B[39;49m\u001B[43m)\u001B[49m)\n",
      "\u001B[0;31mTypeError\u001B[0m: 'float' object cannot be interpreted as an integer"
     ]
    }
   ],
   "source": [
    "print(range(0.1, 0.5, 0.1))"
   ],
   "metadata": {
    "collapsed": false,
    "pycharm": {
     "name": "#%%\n"
    }
   }
  },
  {
   "cell_type": "code",
   "execution_count": null,
   "outputs": [],
   "source": [],
   "metadata": {
    "collapsed": false,
    "pycharm": {
     "name": "#%%\n"
    }
   }
  }
 ],
 "metadata": {
  "kernelspec": {
   "display_name": "Python 3",
   "language": "python",
   "name": "python3"
  },
  "language_info": {
   "codemirror_mode": {
    "name": "ipython",
    "version": 2
   },
   "file_extension": ".py",
   "mimetype": "text/x-python",
   "name": "python",
   "nbconvert_exporter": "python",
   "pygments_lexer": "ipython2",
   "version": "2.7.6"
  }
 },
 "nbformat": 4,
 "nbformat_minor": 0
}