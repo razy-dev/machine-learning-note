{
 "cells": [
  {
   "cell_type": "code",
   "execution_count": 1,
   "metadata": {
    "collapsed": true,
    "pycharm": {
     "name": "#%%\n"
    }
   },
   "outputs": [],
   "source": [
    "import torch\n",
    "from torch import Tensor"
   ]
  },
  {
   "cell_type": "code",
   "execution_count": 10,
   "outputs": [
    {
     "name": "stdout",
     "output_type": "stream",
     "text": [
      "torch.Size([5, 1, 1]) tensor([[[0.7378]],\n",
      "\n",
      "        [[0.1149]],\n",
      "\n",
      "        [[0.6903]],\n",
      "\n",
      "        [[0.3882]],\n",
      "\n",
      "        [[0.7372]]])\n",
      "torch.Size([1, 1]) tensor([[0.7378]]) 0.7377938628196716\n",
      "torch.Size([1, 1]) tensor([[0.1149]]) 0.11485201120376587\n",
      "torch.Size([1, 1]) tensor([[0.6903]]) 0.6903244256973267\n",
      "torch.Size([1, 1]) tensor([[0.3882]]) 0.38823235034942627\n",
      "torch.Size([1, 1]) tensor([[0.7372]]) 0.737197995185852\n"
     ]
    }
   ],
   "source": [
    "data: Tensor = torch.rand(5, 1, 1)\n",
    "print(data.shape, data)\n",
    "for d in data:\n",
    "    print(d.shape, d, d.squeeze().item())"
   ],
   "metadata": {
    "collapsed": false,
    "pycharm": {
     "name": "#%%\n"
    }
   }
  },
  {
   "cell_type": "code",
   "execution_count": 23,
   "outputs": [
    {
     "name": "stdout",
     "output_type": "stream",
     "text": [
      "0 tensor([0., 0., 0.]) tensor([0.0000, 0.0000, 0.1000]) tensor(3.3333) tensor(3.3333)\n",
      "1 tensor([0.0000, 0.0000, 0.5000]) tensor([0.0000, 0.0000, 0.1000]) tensor(0.2310) tensor(0.2310)\n",
      "2 tensor([0.0000, 0.5000, 0.0000]) tensor([0.0000, 0.0000, 0.1000]) tensor(3.5644) tensor(0.2310)\n",
      "3 tensor([0.0000, 0.5000, 0.5000]) tensor([0.0000, 0.0000, 0.1000]) tensor(0.4621) tensor(0.2310)\n",
      "4 tensor([0.5000, 0.0000, 0.0000]) tensor([0.0000, 0.0000, 0.1000]) tensor(3.5644) tensor(0.2310)\n",
      "5 tensor([0.5000, 0.0000, 0.5000]) tensor([0.0000, 0.0000, 0.1000]) tensor(0.4621) tensor(0.2310)\n",
      "6 tensor([0.5000, 0.5000, 0.0000]) tensor([0.0000, 0.0000, 0.1000]) tensor(3.7954) tensor(0.2310)\n",
      "7 tensor([0.5000, 0.5000, 0.5000]) tensor([0.0000, 0.0000, 0.1000]) tensor(0.6931) tensor(0.2310)\n"
     ]
    }
   ],
   "source": [
    "import torch\n",
    "import torch.nn as nn\n",
    "\n",
    "f = nn.BCELoss()\n",
    "v = .5\n",
    "t = torch.FloatTensor([\n",
    "    [0, 0, 0],\n",
    "    [0, 0, v],\n",
    "    [0, v, 0],\n",
    "    [0, v, v],\n",
    "\n",
    "    [v, 0, 0],\n",
    "    [v, 0, v],\n",
    "    [v, v, 0],\n",
    "    [v, v, v],\n",
    "])\n",
    "y = torch.FloatTensor([0, 0, .1])\n",
    "\n",
    "m = 0\n",
    "for i, x in enumerate(t):\n",
    "    z = f(x, y)\n",
    "    m = min(m, z) if m else z\n",
    "    print(i, x, y, z, m)"
   ],
   "metadata": {
    "collapsed": false,
    "pycharm": {
     "name": "#%%\n"
    }
   }
  },
  {
   "cell_type": "code",
   "execution_count": 71,
   "outputs": [
    {
     "name": "stdout",
     "output_type": "stream",
     "text": [
      "[ 0.39 -0.43 -0.09  0.61  0.   -0.12  0.05 -0.09  0.04]\n",
      "[1.39 0.57 0.91 1.61 1.   0.88 1.05 0.91 1.04]\n",
      "[0.695 0.285 0.455 0.805 0.5   0.44  0.525 0.455 0.52 ]\n",
      "----------------------------------------\n",
      "[ 0.57 -0.22 -0.09  0.23  0.18 -0.23  0.26 -0.48  0.2 ]\n",
      "[1.57 0.78 0.91 1.23 1.18 0.77 1.26 0.52 1.2 ]\n",
      "[0.785 0.39  0.455 0.615 0.59  0.385 0.63  0.26  0.6  ]\n",
      "----------------------------------------\n",
      "[-0.1   0.15 -0.34  0.83 -0.32  0.16  0.23 -0.38  0.67]\n",
      "[0.9  1.15 0.66 1.83 0.68 1.16 1.23 0.62 1.67]\n",
      "[0.45  0.575 0.33  0.915 0.34  0.58  0.615 0.31  0.835]\n",
      "----------------------------------------\n"
     ]
    }
   ],
   "source": [
    "import numpy as np\n",
    "import matplotlib.pyplot as plt\n",
    "\n",
    "for i in range(3):\n",
    "    data = np.random.randint(100, 200, 10)\n",
    "    grad = np.array([(data[i + 1] - data[i]) / data[i] for i in range(len(data) - 1)]).round(2)\n",
    "    print(grad)\n",
    "    print(grad + 1)\n",
    "    print((grad + 1) / 2)\n",
    "    print('-' * 40)"
   ],
   "metadata": {
    "collapsed": false,
    "pycharm": {
     "name": "#%%\n"
    }
   }
  },
  {
   "cell_type": "code",
   "execution_count": null,
   "outputs": [],
   "source": [],
   "metadata": {
    "collapsed": false,
    "pycharm": {
     "name": "#%%\n"
    }
   }
  }
 ],
 "metadata": {
  "kernelspec": {
   "display_name": "Python 3",
   "language": "python",
   "name": "python3"
  },
  "language_info": {
   "codemirror_mode": {
    "name": "ipython",
    "version": 2
   },
   "file_extension": ".py",
   "mimetype": "text/x-python",
   "name": "python",
   "nbconvert_exporter": "python",
   "pygments_lexer": "ipython2",
   "version": "2.7.6"
  }
 },
 "nbformat": 4,
 "nbformat_minor": 0
}