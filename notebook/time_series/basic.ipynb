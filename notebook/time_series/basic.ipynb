{
 "cells": [
  {
   "cell_type": "markdown",
   "source": [
    "https://coding-yoon.tistory.com/55"
   ],
   "metadata": {
    "collapsed": false,
    "pycharm": {
     "name": "#%% md\n"
    }
   }
  },
  {
   "cell_type": "code",
   "execution_count": 268,
   "metadata": {
    "collapsed": true,
    "pycharm": {
     "name": "#%%\n"
    }
   },
   "outputs": [],
   "source": [
    "import numpy as np\n",
    "import pandas as pd\n",
    "import yfinance as yf\n",
    "\n",
    "import torch\n",
    "import torch.nn as nn\n",
    "import torch.optim as optim\n",
    "\n",
    "from matplotlib import pyplot as plt"
   ]
  },
  {
   "cell_type": "code",
   "execution_count": 269,
   "outputs": [],
   "source": [
    "MAX = 10\n",
    "data = np.linspace(1, MAX, MAX, endpoint=True)\n",
    "train_size = round(len(data) * .7)\n",
    "train = data[:train_size]\n",
    "test = data[train_size:]"
   ],
   "metadata": {
    "collapsed": false,
    "pycharm": {
     "name": "#%%\n"
    }
   }
  },
  {
   "cell_type": "code",
   "execution_count": 270,
   "outputs": [
    {
     "name": "stdout",
     "output_type": "stream",
     "text": [
      "[1. 2. 3. 4. 5. 6. 7.]\n",
      "x_train(batch_size, time_steps, features) =  torch.Size([4, 3, 1]) tensor([[[1.],\n",
      "         [2.],\n",
      "         [3.]],\n",
      "\n",
      "        [[2.],\n",
      "         [3.],\n",
      "         [4.]],\n",
      "\n",
      "        [[3.],\n",
      "         [4.],\n",
      "         [5.]],\n",
      "\n",
      "        [[4.],\n",
      "         [5.],\n",
      "         [6.]]])\n",
      "y_train =  torch.Size([4, 1]) tensor([[4.],\n",
      "        [5.],\n",
      "        [6.],\n",
      "        [7.]])\n"
     ]
    }
   ],
   "source": [
    "def build_data(data, steps):\n",
    "    print(data)\n",
    "    x, y = [], []\n",
    "    for i in range(steps, len(data)):\n",
    "        x.append(data[i - steps:i])\n",
    "        y.append(data[i:i + 1])\n",
    "    return torch.FloatTensor(x), torch.FloatTensor(y)\n",
    "\n",
    "\n",
    "debug = True\n",
    "STEPS = 3\n",
    "features = 1  # input_size\n",
    "hidden_size = 1\n",
    "x_train, y_train = build_data(train, STEPS)\n",
    "x_train = torch.reshape(x_train, (x_train.shape[0], x_train.shape[1], 1))\n",
    "debug and print(\"x_train(batch_size, time_steps, features) = \", x_train.shape, x_train)\n",
    "debug and print(\"y_train = \", y_train.shape, y_train)"
   ],
   "metadata": {
    "collapsed": false,
    "pycharm": {
     "name": "#%%\n"
    }
   }
  },
  {
   "cell_type": "code",
   "execution_count": 271,
   "outputs": [
    {
     "name": "stdout",
     "output_type": "stream",
     "text": [
      "Output = torch.Size([4, 3, 1]) tensor([[[ 0.0184],\n",
      "         [-0.6600],\n",
      "         [-0.9073]],\n",
      "\n",
      "        [[-0.6586],\n",
      "         [-0.9074],\n",
      "         [-0.9796]],\n",
      "\n",
      "        [[-0.9215],\n",
      "         [-0.9796],\n",
      "         [-0.9958]],\n",
      "\n",
      "        [[-0.9839],\n",
      "         [-0.9958],\n",
      "         [-0.9992]]]) tensor([[-0.9073],\n",
      "        [-0.9796],\n",
      "        [-0.9958],\n",
      "        [-0.9992]])\n"
     ]
    }
   ],
   "source": [
    "model = nn.RNN(features, hidden_size, batch_first=True)\n",
    "with torch.no_grad():\n",
    "    outputs, _status = model(x_train)\n",
    "    print(\"Output =\", outputs.shape, outputs, outputs[:, 2])"
   ],
   "metadata": {
    "collapsed": false,
    "pycharm": {
     "name": "#%%\n"
    }
   }
  },
  {
   "cell_type": "code",
   "execution_count": 274,
   "outputs": [
    {
     "name": "stdout",
     "output_type": "stream",
     "text": [
      "tensor([[-0.8864],\n",
      "        [-0.9734],\n",
      "        [-0.9943],\n",
      "        [-0.9988]], grad_fn=<SelectBackward0>) tensor([[4.],\n",
      "        [5.],\n",
      "        [6.],\n",
      "        [7.]])\n",
      "Loss : 43.11492156982422\n",
      "tensor([[-0.8853],\n",
      "        [-0.9730],\n",
      "        [-0.9942],\n",
      "        [-0.9988]], grad_fn=<SelectBackward0>) tensor([[4.],\n",
      "        [5.],\n",
      "        [6.],\n",
      "        [7.]])\n",
      "Loss : 43.11067581176758\n",
      "tensor([[-0.8841],\n",
      "        [-0.9727],\n",
      "        [-0.9941],\n",
      "        [-0.9988]], grad_fn=<SelectBackward0>) tensor([[4.],\n",
      "        [5.],\n",
      "        [6.],\n",
      "        [7.]])\n",
      "Loss : 43.10638427734375\n",
      "tensor([[-0.8830],\n",
      "        [-0.9723],\n",
      "        [-0.9940],\n",
      "        [-0.9987]], grad_fn=<SelectBackward0>) tensor([[4.],\n",
      "        [5.],\n",
      "        [6.],\n",
      "        [7.]])\n",
      "Loss : 43.10205078125\n",
      "tensor([[-0.8818],\n",
      "        [-0.9719],\n",
      "        [-0.9939],\n",
      "        [-0.9987]], grad_fn=<SelectBackward0>) tensor([[4.],\n",
      "        [5.],\n",
      "        [6.],\n",
      "        [7.]])\n",
      "Loss : 43.09767150878906\n",
      "tensor([[-0.8806],\n",
      "        [-0.9716],\n",
      "        [-0.9938],\n",
      "        [-0.9987]], grad_fn=<SelectBackward0>) tensor([[4.],\n",
      "        [5.],\n",
      "        [6.],\n",
      "        [7.]])\n",
      "Loss : 43.09324264526367\n",
      "tensor([[-0.8794],\n",
      "        [-0.9712],\n",
      "        [-0.9937],\n",
      "        [-0.9987]], grad_fn=<SelectBackward0>) tensor([[4.],\n",
      "        [5.],\n",
      "        [6.],\n",
      "        [7.]])\n",
      "Loss : 43.088768005371094\n",
      "tensor([[-0.8782],\n",
      "        [-0.9708],\n",
      "        [-0.9936],\n",
      "        [-0.9987]], grad_fn=<SelectBackward0>) tensor([[4.],\n",
      "        [5.],\n",
      "        [6.],\n",
      "        [7.]])\n",
      "Loss : 43.08424377441406\n",
      "tensor([[-0.8770],\n",
      "        [-0.9704],\n",
      "        [-0.9935],\n",
      "        [-0.9986]], grad_fn=<SelectBackward0>) tensor([[4.],\n",
      "        [5.],\n",
      "        [6.],\n",
      "        [7.]])\n",
      "Loss : 43.07966613769531\n",
      "tensor([[-0.8758],\n",
      "        [-0.9700],\n",
      "        [-0.9934],\n",
      "        [-0.9986]], grad_fn=<SelectBackward0>) tensor([[4.],\n",
      "        [5.],\n",
      "        [6.],\n",
      "        [7.]])\n",
      "Loss : 43.07503890991211\n"
     ]
    }
   ],
   "source": [
    "criterion = nn.MSELoss()\n",
    "\n",
    "lr = 1e-3\n",
    "optimizer = optim.Adam(model.parameters(), lr=lr)\n",
    "for epoch in range(10):\n",
    "    outputs, _status = model(x_train)\n",
    "    print(outputs[:, 2], y_train)\n",
    "    loss = criterion(outputs[:, 2], y_train)\n",
    "\n",
    "    optimizer.zero_grad()  #\n",
    "    loss.backward()  # loss가 최소가 되게하는\n",
    "    optimizer.step()  # 가중치 업\n",
    "\n",
    "    print(f\"Loss : {loss}\")"
   ],
   "metadata": {
    "collapsed": false,
    "pycharm": {
     "name": "#%%\n"
    }
   }
  },
  {
   "cell_type": "code",
   "execution_count": 272,
   "outputs": [],
   "source": [],
   "metadata": {
    "collapsed": false,
    "pycharm": {
     "name": "#%%\n"
    }
   }
  }
 ],
 "metadata": {
  "kernelspec": {
   "display_name": "Python 3",
   "language": "python",
   "name": "python3"
  },
  "language_info": {
   "codemirror_mode": {
    "name": "ipython",
    "version": 2
   },
   "file_extension": ".py",
   "mimetype": "text/x-python",
   "name": "python",
   "nbconvert_exporter": "python",
   "pygments_lexer": "ipython2",
   "version": "2.7.6"
  }
 },
 "nbformat": 4,
 "nbformat_minor": 0
}