{
 "cells": [
  {
   "cell_type": "markdown",
   "source": [
    "* https://diane-space.tistory.com/331\n",
    "* https://data-science-hi.tistory.com/190"
   ],
   "metadata": {
    "collapsed": false,
    "pycharm": {
     "name": "#%% md\n"
    }
   }
  },
  {
   "cell_type": "code",
   "execution_count": 128,
   "metadata": {
    "collapsed": true,
    "pycharm": {
     "name": "#%%\n"
    }
   },
   "outputs": [
    {
     "name": "stdout",
     "output_type": "stream",
     "text": [
      "There are 1510 observations in the training data\n",
      "There are 251 observations in the test data\n"
     ]
    }
   ],
   "source": [
    "import numpy as np\n",
    "import pandas as pd\n",
    "import yfinance as yf\n",
    "\n",
    "import torch\n",
    "import torch.nn as nn\n",
    "import torch.optim as optim\n",
    "\n",
    "AMZN = yf.download('AMZN', start='2013-01-01', end='2019-12-31', progress=False)\n",
    "all_data = AMZN[['Adj Close', 'Open', 'High', 'Low', \"Close\", \"Volume\"]].round(2)\n",
    "print(\"There are \" + str(all_data[:'2018'].shape[0]) + \" observations in the training data\")\n",
    "print(\"There are \" + str(all_data['2019':].shape[0]) + \" observations in the test data\")\n",
    "\n",
    "#all_data['Adj Close'].plot()"
   ]
  },
  {
   "cell_type": "code",
   "execution_count": 136,
   "outputs": [],
   "source": [
    "def split_data(data, steps: int = 5, features: int = 1, outputs: int = 2, debug: bool = False) -> tuple:\n",
    "    debug and print(\"Split Data Source =\", data)\n",
    "    x, y = [], []\n",
    "    for i in range(steps, len(data) - outputs + 1):\n",
    "        x.append(data[i - steps:i])\n",
    "        y.append(data[i:i + outputs, 0])\n",
    "    return torch.FloatTensor(x), torch.FloatTensor(y)\n",
    "\n",
    "\n",
    "def build_data(data, steps: int = 5, features: int = 1, outputs: int = 2, debug: bool = False) -> tuple:\n",
    "    debug and print(\"Build Data Source =\", data)\n",
    "    return split_data(\n",
    "        data[:'2018'].iloc[:, 0:features].values,\n",
    "        steps, features, outputs, debug\n",
    "    ) + split_data(\n",
    "        data['2019':].iloc[:, 0:features].values,\n",
    "        steps, features, outputs, debug\n",
    "    )\n",
    "\n",
    "\n",
    "debug = False\n",
    "x_train, y_train, x_test, y_test = build_data(all_data[:10], features=1, outputs=1, debug=debug)\n",
    "debug and print(\"x_train = \", x_train.shape, x_train)\n",
    "debug and print(\"y_train = \", y_train.shape, y_train)\n",
    "debug and print(\"x_test = \", x_test.shape, x_test)\n",
    "debug and print(\"y_test = \", y_test.shape, y_test)\n",
    "\n",
    "from torch.utils.data import TensorDataset, DataLoader\n",
    "\n",
    "BATCH_SIZE = 2\n",
    "train_data_loader = DataLoader(TensorDataset(x_train, y_train), batch_size=BATCH_SIZE, shuffle=False, drop_last=True)\n",
    "test_data_loader = DataLoader(TensorDataset(x_test, y_test), batch_size=BATCH_SIZE, shuffle=False, drop_last=True)"
   ],
   "metadata": {
    "collapsed": false,
    "pycharm": {
     "name": "#%%\n"
    }
   }
  },
  {
   "cell_type": "code",
   "execution_count": 130,
   "outputs": [],
   "source": [],
   "metadata": {
    "collapsed": false,
    "pycharm": {
     "name": "#%%\n"
    }
   }
  }
 ],
 "metadata": {
  "kernelspec": {
   "display_name": "Python 3",
   "language": "python",
   "name": "python3"
  },
  "language_info": {
   "codemirror_mode": {
    "name": "ipython",
    "version": 2
   },
   "file_extension": ".py",
   "mimetype": "text/x-python",
   "name": "python",
   "nbconvert_exporter": "python",
   "pygments_lexer": "ipython2",
   "version": "2.7.6"
  }
 },
 "nbformat": 4,
 "nbformat_minor": 0
}