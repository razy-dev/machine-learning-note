{
 "cells": [
  {
   "cell_type": "code",
   "execution_count": 9,
   "metadata": {
    "collapsed": true,
    "pycharm": {
     "name": "#%%\n"
    }
   },
   "outputs": [
    {
     "name": "stdout",
     "output_type": "stream",
     "text": [
      "Inputs = torch.Size([3, 5, 4]) tensor([[[1., 0., 0., 0.],\n",
      "         [0., 1., 0., 0.],\n",
      "         [0., 0., 1., 0.],\n",
      "         [0., 0., 1., 0.],\n",
      "         [0., 0., 0., 1.]],\n",
      "\n",
      "        [[0., 1., 0., 0.],\n",
      "         [0., 0., 0., 1.],\n",
      "         [0., 0., 1., 0.],\n",
      "         [0., 0., 1., 0.],\n",
      "         [0., 0., 1., 0.]],\n",
      "\n",
      "        [[0., 0., 1., 0.],\n",
      "         [0., 0., 1., 0.],\n",
      "         [0., 1., 0., 0.],\n",
      "         [0., 1., 0., 0.],\n",
      "         [0., 0., 1., 0.]]])\n",
      "Outputs = torch.Size([3, 5, 1]) tensor([[[ 0.2184],\n",
      "         [ 0.1247],\n",
      "         [-0.5436],\n",
      "         [-0.4957],\n",
      "         [-0.1771]],\n",
      "\n",
      "        [[ 0.1458],\n",
      "         [-0.2374],\n",
      "         [-0.5181],\n",
      "         [-0.4976],\n",
      "         [-0.4991]],\n",
      "\n",
      "        [[-0.5349],\n",
      "         [-0.4964],\n",
      "         [ 0.1931],\n",
      "         [ 0.1272],\n",
      "         [-0.5438]]], grad_fn=<TransposeBackward1>)\n",
      "Status = torch.Size([1, 3, 1]) tensor([[[-0.1771],\n",
      "         [-0.4991],\n",
      "         [-0.5438]]], grad_fn=<StackBackward0>)\n"
     ]
    }
   ],
   "source": [
    "import torch\n",
    "import numpy as np\n",
    "\n",
    "input_size = 4\n",
    "hidden_size = 1\n",
    "\n",
    "# 1-hot encoding\n",
    "h = [1, 0, 0, 0]\n",
    "e = [0, 1, 0, 0]\n",
    "l = [0, 0, 1, 0]\n",
    "o = [0, 0, 0, 1]\n",
    "\n",
    "input_data_np = np.array([\n",
    "    [h, e, l, l, o],\n",
    "    [e, o, l, l, l],\n",
    "    [l, l, e, e, l]],\n",
    "    dtype=np.float32\n",
    ")\n",
    "\n",
    "# transform as torch tensor\n",
    "input_data = torch.Tensor(input_data_np)\n",
    "print(\"Inputs =\", input_data.shape, input_data)\n",
    "rnn = torch.nn.RNN(input_size, hidden_size, batch_first=True)\n",
    "outputs, _status = rnn(input_data)\n",
    "print(\"Outputs =\", outputs.shape, outputs)\n",
    "print(\"Status =\", _status.shape, _status)"
   ]
  },
  {
   "cell_type": "code",
   "execution_count": null,
   "outputs": [],
   "source": [],
   "metadata": {
    "collapsed": false,
    "pycharm": {
     "name": "#%%\n"
    }
   }
  }
 ],
 "metadata": {
  "kernelspec": {
   "display_name": "Python 3",
   "language": "python",
   "name": "python3"
  },
  "language_info": {
   "codemirror_mode": {
    "name": "ipython",
    "version": 2
   },
   "file_extension": ".py",
   "mimetype": "text/x-python",
   "name": "python",
   "nbconvert_exporter": "python",
   "pygments_lexer": "ipython2",
   "version": "2.7.6"
  }
 },
 "nbformat": 4,
 "nbformat_minor": 0
}