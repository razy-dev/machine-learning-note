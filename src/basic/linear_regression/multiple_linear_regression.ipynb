{
 "cells": [
  {
   "cell_type": "markdown",
   "source": [
    "$\n",
    "\\begin{align}\n",
    "    y &= w_1x_1 + \\cdots + w_ix_i + b \\\\\n",
    "    &= \\begin{bmatrix}x_1 & \\cdots & x_i & 1\\end{bmatrix}\n",
    "    \\begin{bmatrix}\n",
    "        w_1 \\\\\n",
    "        \\vdots \\\\\n",
    "        w_i \\\\\n",
    "        b\n",
    "    \\end{bmatrix}\n",
    "\\end{align}\n",
    "$"
   ],
   "metadata": {
    "collapsed": false,
    "pycharm": {
     "name": "#%% md\n"
    }
   }
  },
  {
   "cell_type": "code",
   "execution_count": null,
   "outputs": [],
   "source": [
    "import numpy as np\n",
    "from matplotlib import pyplot as plt\n",
    "from numpy import ndarray"
   ],
   "metadata": {
    "collapsed": false,
    "pycharm": {
     "name": "#%%\n"
    }
   }
  },
  {
   "cell_type": "code",
   "execution_count": 62,
   "outputs": [
    {
     "name": "stdout",
     "output_type": "stream",
     "text": [
      "[[ 0.   1. ]\n",
      " [ 2.5  1. ]\n",
      " [ 5.   1. ]\n",
      " [ 7.5  1. ]\n",
      " [10.   1. ]]\n"
     ]
    }
   ],
   "source": [
    "MAX = 5\n",
    "x = np.linspace(0, 10, MAX, endpoint=True)\n",
    "X = np.c_[x, np.ones((MAX,))]"
   ],
   "metadata": {
    "collapsed": false,
    "pycharm": {
     "name": "#%%\n"
    }
   }
  },
  {
   "cell_type": "code",
   "execution_count": 67,
   "outputs": [],
   "source": [
    "y = 10 * x + np.random.randint(-10, 10, MAX)\n",
    "Y = np.expand_dims(y, axis=1)"
   ],
   "metadata": {
    "collapsed": false,
    "pycharm": {
     "name": "#%%\n"
    }
   }
  },
  {
   "cell_type": "code",
   "execution_count": 69,
   "outputs": [
    {
     "data": {
      "text/plain": "<matplotlib.collections.PathCollection at 0x12693eee0>"
     },
     "execution_count": 69,
     "metadata": {},
     "output_type": "execute_result"
    },
    {
     "data": {
      "text/plain": "<Figure size 640x480 with 1 Axes>",
      "image/png": "[encoded data removed]"
     },
     "metadata": {},
     "output_type": "display_data"
    }
   ],
   "source": [
    "plt.scatter(X[:, :1], Y)"
   ],
   "metadata": {
    "collapsed": false,
    "pycharm": {
     "name": "#%%\n"
    }
   }
  },
  {
   "cell_type": "code",
   "execution_count": null,
   "outputs": [],
   "source": [
    "W = np.random.randint(1, 10, size=(2,))\n",
    "\n",
    "\n",
    "def hypothesis(x):\n",
    "    return np.sum(x * W)  # wx + b"
   ],
   "metadata": {
    "collapsed": false,
    "pycharm": {
     "name": "#%%\n"
    }
   }
  },
  {
   "cell_type": "code",
   "execution_count": null,
   "outputs": [],
   "source": [
    "def cost(y: ndarray, x: ndarray):\n",
    "    return np.sum((y - hypothesis(x)) ** 2) / len(y)"
   ],
   "metadata": {
    "collapsed": false,
    "pycharm": {
     "name": "#%%\n"
    }
   }
  },
  {
   "cell_type": "code",
   "execution_count": null,
   "outputs": [],
   "source": [
    "def dcost_dw(y: ndarray, x: ndarray):\n",
    "    return (-2 / len(y)) * np.sum(x * (y - hypothesis(x)))"
   ],
   "metadata": {
    "collapsed": false,
    "pycharm": {
     "name": "#%%\n"
    }
   }
  },
  {
   "cell_type": "code",
   "execution_count": null,
   "outputs": [],
   "source": [
    "def dcost_db(y: ndarray, x: ndarray):\n",
    "    return (-2 / len(y)) * np.sum(y - hypothesis(x))"
   ],
   "metadata": {
    "collapsed": false,
    "pycharm": {
     "name": "#%%\n"
    }
   }
  },
  {
   "cell_type": "code",
   "execution_count": null,
   "outputs": [],
   "source": [
    "costs = []\n",
    "lr = 0.001\n",
    "for e in range(100):\n",
    "    costs.append(cost(y, x))\n",
    "    w = w - lr * dcost_dw(y, x)\n",
    "    b = b - lr * dcost_db(y, x)\n",
    "\n",
    "    plt.subplot(211)\n",
    "    if not e % 10: plt.plot(x, hypothesis(x), '--y', label=f\"epoch {e}\")"
   ],
   "metadata": {
    "collapsed": false,
    "pycharm": {
     "name": "#%%\n"
    }
   }
  },
  {
   "cell_type": "code",
   "execution_count": null,
   "outputs": [],
   "source": [
    "plt.subplot(211)\n",
    "plt.plot(x, y, 'oc')\n",
    "plt.plot(x, hypothesis(x), 'r')\n",
    "plt.xlabel('x axis')\n",
    "plt.ylabel('y axis')"
   ],
   "metadata": {
    "collapsed": false,
    "pycharm": {
     "name": "#%%\n"
    }
   }
  },
  {
   "cell_type": "code",
   "execution_count": null,
   "outputs": [],
   "source": [
    "plt.subplot(212)\n",
    "plt.plot(costs)\n",
    "plt.xlabel('epoch')\n",
    "plt.ylabel('cost')"
   ],
   "metadata": {
    "collapsed": false,
    "pycharm": {
     "name": "#%%\n"
    }
   }
  }
 ],
 "metadata": {
  "kernelspec": {
   "display_name": "Python 3",
   "language": "python",
   "name": "python3"
  },
  "language_info": {
   "codemirror_mode": {
    "name": "ipython",
    "version": 2
   },
   "file_extension": ".py",
   "mimetype": "text/x-python",
   "name": "python",
   "nbconvert_exporter": "python",
   "pygments_lexer": "ipython2",
   "version": "2.7.6"
  }
 },
 "nbformat": 4,
 "nbformat_minor": 0
}