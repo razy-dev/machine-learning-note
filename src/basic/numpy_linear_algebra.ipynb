{
 "cells": [
  {
   "cell_type": "code",
   "execution_count": 118,
   "metadata": {
    "collapsed": true,
    "pycharm": {
     "name": "#%%\n"
    }
   },
   "outputs": [],
   "source": [
    "import numpy as np\n",
    "\n",
    "\n",
    "def algebra(x, y, all=False, basic=False, algebra=True, mat=False):\n",
    "    x = np.array(x)\n",
    "    y = np.array(y)\n",
    "    print(f\"x{x.shape} =\", x, \"\\n\")\n",
    "    print(f\"y{y.shape} =\", y, \"\\n\")\n",
    "    result = {}\n",
    "    if all or basic:\n",
    "        try:\n",
    "            result['sum'] = z = x + y\n",
    "            print(f\"x + y = {x.shape} + {y.shape} = z{z.shape} =\", z, \"\\n\")\n",
    "        except Exception as e:\n",
    "            print(\"Error x + y :\", e, \"\\n\")\n",
    "\n",
    "        try:\n",
    "            result['product'] = z = x * y\n",
    "            print(f\"x * y = z{z.shape} =\", z, \"\\n\")\n",
    "        except Exception as e:\n",
    "            print(\"Error x * y :\", e, \"\\n\")\n",
    "\n",
    "        try:\n",
    "            result['division'] = z = x / y\n",
    "            print(f\"x / y = z{z.shape} =\", z, \"\\n\")\n",
    "        except Exception as e:\n",
    "            print(\"Error x / y :\", e, \"\\n\")\n",
    "        pass\n",
    "\n",
    "    if (all or algebra) and not mat:\n",
    "        try:\n",
    "            result['inner'] = z = np.inner(x, y)\n",
    "            print(f\"np.inner(x, y) \\n= np.inner({x.shape}, {y.shape}) = z{z.shape} \\n=\", z, \"\\n\")\n",
    "        except Exception as e:\n",
    "            print(\"Error np.inner(x, y) :\", e, \"\\n\")\n",
    "\n",
    "        try:\n",
    "            result['outer'] = z = np.outer(x, y)\n",
    "            print(f\"np.outer(x, y) \\n= np.outer({x.shape}, {y.shape}) = z{z.shape} \\n=\", z, \"\\n\")\n",
    "        except Exception as e:\n",
    "            print(\"Error np.outer(x, y) :\", e, \"\\n\")\n",
    "\n",
    "    if all or algebra or mat:\n",
    "        try:\n",
    "            result['dot'] = z = np.dot(x, y)\n",
    "            print(f\"np.dot(x, y) \\n= np.dot({x.shape}, {y.shape}) = z{z.shape} \\n=\", z, \"\\n\")\n",
    "        except Exception as e:\n",
    "            print(\"Error np.dot(x, y) :\", e, \"\\n\")\n",
    "\n",
    "        try:\n",
    "            result['matmul'] = z = np.matmul(x, y)\n",
    "            print(f\"np.matmul(x, y) \\n= np.matmul({x.shape}, {y.shape}) = z{z.shape} \\n=\", z, \"\\n\")\n",
    "        except Exception as e:\n",
    "            print(\"Error np.matmul(x, y) :\", e, \"\\n\")\n",
    "\n",
    "    #return result"
   ]
  },
  {
   "cell_type": "code",
   "execution_count": 119,
   "outputs": [
    {
     "name": "stdout",
     "output_type": "stream",
     "text": [
      "x(2,) = [1 2] \n",
      "\n",
      "y(2,) = [10 20] \n",
      "\n",
      "np.inner(x, y) \n",
      "= np.inner((2,), (2,)) = z() \n",
      "= 50 \n",
      "\n",
      "np.outer(x, y) \n",
      "= np.outer((2,), (2,)) = z(2, 2) \n",
      "= [[10 20]\n",
      " [20 40]] \n",
      "\n",
      "np.dot(x, y) \n",
      "= np.dot((2,), (2,)) = z() \n",
      "= 50 \n",
      "\n",
      "np.matmul(x, y) \n",
      "= np.matmul((2,), (2,)) = z() \n",
      "= 50 \n",
      "\n"
     ]
    }
   ],
   "source": [
    "algebra(\n",
    "    [1, 2],\n",
    "    [10, 20]\n",
    ")"
   ],
   "metadata": {
    "collapsed": false,
    "pycharm": {
     "name": "#%%\n"
    }
   }
  },
  {
   "cell_type": "code",
   "execution_count": 120,
   "outputs": [
    {
     "name": "stdout",
     "output_type": "stream",
     "text": [
      "x(2, 2) = [[1 2]\n",
      " [3 4]] \n",
      "\n",
      "y(2,) = [10 20] \n",
      "\n",
      "np.inner(x, y) \n",
      "= np.inner((2, 2), (2,)) = z(2,) \n",
      "= [ 50 110] \n",
      "\n",
      "np.outer(x, y) \n",
      "= np.outer((2, 2), (2,)) = z(4, 2) \n",
      "= [[10 20]\n",
      " [20 40]\n",
      " [30 60]\n",
      " [40 80]] \n",
      "\n",
      "np.dot(x, y) \n",
      "= np.dot((2, 2), (2,)) = z(2,) \n",
      "= [ 50 110] \n",
      "\n",
      "np.matmul(x, y) \n",
      "= np.matmul((2, 2), (2,)) = z(2,) \n",
      "= [ 50 110] \n",
      "\n"
     ]
    }
   ],
   "source": [
    "algebra(\n",
    "    [\n",
    "        [1, 2],\n",
    "        [3, 4]\n",
    "    ],\n",
    "    [10, 20]\n",
    ")"
   ],
   "metadata": {
    "collapsed": false,
    "pycharm": {
     "name": "#%%\n"
    }
   }
  },
  {
   "cell_type": "code",
   "execution_count": 121,
   "outputs": [
    {
     "name": "stdout",
     "output_type": "stream",
     "text": [
      "x(2, 2) = [[1 2]\n",
      " [3 4]] \n",
      "\n",
      "y(2, 2) = [[10 20]\n",
      " [10 20]] \n",
      "\n",
      "np.inner(x, y) \n",
      "= np.inner((2, 2), (2, 2)) = z(2, 2) \n",
      "= [[ 50  50]\n",
      " [110 110]] \n",
      "\n",
      "np.outer(x, y) \n",
      "= np.outer((2, 2), (2, 2)) = z(4, 4) \n",
      "= [[10 20 10 20]\n",
      " [20 40 20 40]\n",
      " [30 60 30 60]\n",
      " [40 80 40 80]] \n",
      "\n",
      "np.dot(x, y) \n",
      "= np.dot((2, 2), (2, 2)) = z(2, 2) \n",
      "= [[ 30  60]\n",
      " [ 70 140]] \n",
      "\n",
      "np.matmul(x, y) \n",
      "= np.matmul((2, 2), (2, 2)) = z(2, 2) \n",
      "= [[ 30  60]\n",
      " [ 70 140]] \n",
      "\n"
     ]
    }
   ],
   "source": [
    "algebra(\n",
    "    [\n",
    "        [1, 2],\n",
    "        [3, 4]\n",
    "    ],\n",
    "    [\n",
    "        [10, 20],\n",
    "        [10, 20]\n",
    "    ]\n",
    ")"
   ],
   "metadata": {
    "collapsed": false,
    "pycharm": {
     "name": "#%%\n"
    }
   }
  },
  {
   "cell_type": "code",
   "execution_count": 122,
   "outputs": [
    {
     "name": "stdout",
     "output_type": "stream",
     "text": [
      "x(2, 3, 2) = [[[ 1  2]\n",
      "  [ 3  4]\n",
      "  [ 5  6]]\n",
      "\n",
      " [[10 20]\n",
      "  [30 40]\n",
      "  [50 60]]] \n",
      "\n",
      "y(3, 2, 2) = [[[10 20]\n",
      "  [30 40]]\n",
      "\n",
      " [[50 60]\n",
      "  [70 80]]\n",
      "\n",
      " [[50 60]\n",
      "  [70 80]]] \n",
      "\n",
      "np.dot(x, y) \n",
      "= np.dot((2, 3, 2), (3, 2, 2)) = z(2, 3, 3, 2) \n",
      "= [[[[  70  100]\n",
      "   [ 190  220]\n",
      "   [ 190  220]]\n",
      "\n",
      "  [[ 150  220]\n",
      "   [ 430  500]\n",
      "   [ 430  500]]\n",
      "\n",
      "  [[ 230  340]\n",
      "   [ 670  780]\n",
      "   [ 670  780]]]\n",
      "\n",
      "\n",
      " [[[ 700 1000]\n",
      "   [1900 2200]\n",
      "   [1900 2200]]\n",
      "\n",
      "  [[1500 2200]\n",
      "   [4300 5000]\n",
      "   [4300 5000]]\n",
      "\n",
      "  [[2300 3400]\n",
      "   [6700 7800]\n",
      "   [6700 7800]]]] \n",
      "\n",
      "Error np.matmul(x, y) : operands could not be broadcast together with remapped shapes [original->remapped]: (2,3,2)->(2,newaxis,newaxis) (3,2,2)->(3,newaxis,newaxis)  and requested shape (3,2) \n",
      "\n"
     ]
    }
   ],
   "source": [
    "algebra(\n",
    "    [\n",
    "        [\n",
    "            [1, 2],\n",
    "            [3, 4],\n",
    "            [5, 6],\n",
    "        ],\n",
    "        [\n",
    "            [10, 20],\n",
    "            [30, 40],\n",
    "            [50, 60],\n",
    "        ]\n",
    "    ],\n",
    "    [\n",
    "        [\n",
    "            [10, 20],\n",
    "            [30, 40]\n",
    "        ],\n",
    "        [\n",
    "            [50, 60],\n",
    "            [70, 80]\n",
    "        ],\n",
    "        [\n",
    "            [50, 60],\n",
    "            [70, 80]\n",
    "        ]\n",
    "    ],\n",
    "    mat=True\n",
    ")"
   ],
   "metadata": {
    "collapsed": false,
    "pycharm": {
     "name": "#%%\n"
    }
   }
  },
  {
   "cell_type": "code",
   "execution_count": 123,
   "outputs": [
    {
     "name": "stdout",
     "output_type": "stream",
     "text": [
      "x(3, 3, 2) = [[[  1   2]\n",
      "  [  3   4]\n",
      "  [  5   6]]\n",
      "\n",
      " [[ 10  20]\n",
      "  [ 30  40]\n",
      "  [ 50  60]]\n",
      "\n",
      " [[100 200]\n",
      "  [300 400]\n",
      "  [500 600]]] \n",
      "\n",
      "y(3, 2, 3) = [[[10 20 90]\n",
      "  [30 40 90]]\n",
      "\n",
      " [[50 60 90]\n",
      "  [70 80 90]]\n",
      "\n",
      " [[50 60 90]\n",
      "  [70 80 90]]] \n",
      "\n",
      "np.dot(x, y) \n",
      "= np.dot((3, 3, 2), (3, 2, 3)) = z(3, 3, 3, 3) \n",
      "= [[[[   70   100   270]\n",
      "   [  190   220   270]\n",
      "   [  190   220   270]]\n",
      "\n",
      "  [[  150   220   630]\n",
      "   [  430   500   630]\n",
      "   [  430   500   630]]\n",
      "\n",
      "  [[  230   340   990]\n",
      "   [  670   780   990]\n",
      "   [  670   780   990]]]\n",
      "\n",
      "\n",
      " [[[  700  1000  2700]\n",
      "   [ 1900  2200  2700]\n",
      "   [ 1900  2200  2700]]\n",
      "\n",
      "  [[ 1500  2200  6300]\n",
      "   [ 4300  5000  6300]\n",
      "   [ 4300  5000  6300]]\n",
      "\n",
      "  [[ 2300  3400  9900]\n",
      "   [ 6700  7800  9900]\n",
      "   [ 6700  7800  9900]]]\n",
      "\n",
      "\n",
      " [[[ 7000 10000 27000]\n",
      "   [19000 22000 27000]\n",
      "   [19000 22000 27000]]\n",
      "\n",
      "  [[15000 22000 63000]\n",
      "   [43000 50000 63000]\n",
      "   [43000 50000 63000]]\n",
      "\n",
      "  [[23000 34000 99000]\n",
      "   [67000 78000 99000]\n",
      "   [67000 78000 99000]]]] \n",
      "\n",
      "np.matmul(x, y) \n",
      "= np.matmul((3, 3, 2), (3, 2, 3)) = z(3, 3, 3) \n",
      "= [[[   70   100   270]\n",
      "  [  150   220   630]\n",
      "  [  230   340   990]]\n",
      "\n",
      " [[ 1900  2200  2700]\n",
      "  [ 4300  5000  6300]\n",
      "  [ 6700  7800  9900]]\n",
      "\n",
      " [[19000 22000 27000]\n",
      "  [43000 50000 63000]\n",
      "  [67000 78000 99000]]] \n",
      "\n"
     ]
    }
   ],
   "source": [
    "algebra(\n",
    "    [\n",
    "        [\n",
    "            [1, 2],\n",
    "            [3, 4],\n",
    "            [5, 6],\n",
    "        ],\n",
    "        [\n",
    "            [10, 20],\n",
    "            [30, 40],\n",
    "            [50, 60],\n",
    "        ],\n",
    "        [\n",
    "            [100, 200],\n",
    "            [300, 400],\n",
    "            [500, 600],\n",
    "        ]\n",
    "    ],\n",
    "    [\n",
    "        [\n",
    "            [10, 20, 90],\n",
    "            [30, 40, 90]\n",
    "        ],\n",
    "        [\n",
    "            [50, 60, 90],\n",
    "            [70, 80, 90]\n",
    "        ],\n",
    "        [\n",
    "            [50, 60, 90],\n",
    "            [70, 80, 90]\n",
    "        ]\n",
    "    ],\n",
    "    mat=True\n",
    ")"
   ],
   "metadata": {
    "collapsed": false,
    "pycharm": {
     "name": "#%%\n"
    }
   }
  },
  {
   "cell_type": "code",
   "execution_count": 124,
   "outputs": [
    {
     "name": "stdout",
     "output_type": "stream",
     "text": [
      "x(3, 4) = [[1 2 3 4]\n",
      " [5 6 7 8]\n",
      " [9 0 1 2]] \n",
      "\n",
      "y(4,) = [10 20 30 40] \n",
      "\n",
      "np.dot(x, y) \n",
      "= np.dot((3, 4), (4,)) = z(3,) \n",
      "= [300 700 200] \n",
      "\n",
      "np.matmul(x, y) \n",
      "= np.matmul((3, 4), (4,)) = z(3,) \n",
      "= [300 700 200] \n",
      "\n"
     ]
    }
   ],
   "source": [
    "algebra(\n",
    "    [\n",
    "        [1, 2, 3, 4],\n",
    "        [5, 6, 7, 8],\n",
    "        [9, 0, 1, 2],\n",
    "    ],\n",
    "    [10, 20, 30, 40],\n",
    "    mat=True\n",
    ")"
   ],
   "metadata": {
    "collapsed": false,
    "pycharm": {
     "name": "#%%\n"
    }
   }
  },
  {
   "cell_type": "code",
   "execution_count": 124,
   "outputs": [],
   "source": [],
   "metadata": {
    "collapsed": false,
    "pycharm": {
     "name": "#%%\n"
    }
   }
  }
 ],
 "metadata": {
  "kernelspec": {
   "display_name": "Python 3",
   "language": "python",
   "name": "python3"
  },
  "language_info": {
   "codemirror_mode": {
    "name": "ipython",
    "version": 2
   },
   "file_extension": ".py",
   "mimetype": "text/x-python",
   "name": "python",
   "nbconvert_exporter": "python",
   "pygments_lexer": "ipython2",
   "version": "2.7.6"
  }
 },
 "nbformat": 4,
 "nbformat_minor": 0
}