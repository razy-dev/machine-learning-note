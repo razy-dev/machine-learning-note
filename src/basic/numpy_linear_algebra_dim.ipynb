{
 "cells": [
  {
   "cell_type": "code",
   "execution_count": 22,
   "metadata": {
    "collapsed": true,
    "pycharm": {
     "name": "#%%\n"
    }
   },
   "outputs": [],
   "source": [
    "import numpy as np\n",
    "\n",
    "\n",
    "def algebra(x, y, all=False, basic=False, algebra=True, mat=False):\n",
    "    x = np.array(x)\n",
    "    y = np.array(y)\n",
    "\n",
    "    if all or basic:\n",
    "        try:\n",
    "            z = x + y\n",
    "            print(f\"x + y = {x.shape} + {y.shape} = z{z.shape}\\n\")\n",
    "        except Exception as e:\n",
    "            print(\"Error x + y :\", e, \"\\n\")\n",
    "\n",
    "        try:\n",
    "            z = x * y\n",
    "            print(f\"x * y = {x.shape} * {y.shape} = z{z.shape}\\n\")\n",
    "        except Exception as e:\n",
    "            print(\"Error x * y :\", e, \"\\n\")\n",
    "\n",
    "        try:\n",
    "            z = x / y\n",
    "            print(f\"x / y = {x.shape} / {y.shape} = z{z.shape}\\n\")\n",
    "        except Exception as e:\n",
    "            print(\"Error x / y :\", e, \"\\n\")\n",
    "        pass\n",
    "\n",
    "    if (all or algebra) and not mat:\n",
    "        try:\n",
    "            z = np.inner(x, y)\n",
    "            print(f\"np.inner(x, y) = np.inner({x.shape}, {y.shape}) = z{z.shape}\\n\")\n",
    "        except Exception as e:\n",
    "            print(\"Error np.inner(x, y) :\", e, \"\\n\")\n",
    "\n",
    "        try:\n",
    "            z = np.outer(x, y)\n",
    "            print(f\"np.outer(x, y) = np.outer({x.shape}, {y.shape}) = z{z.shape}\\n\")\n",
    "        except Exception as e:\n",
    "            print(\"Error np.outer(x, y) :\", e, \"\\n\")\n",
    "\n",
    "    if all or algebra or mat:\n",
    "        try:\n",
    "            z = np.dot(x, y)\n",
    "            print(f\"np.dot(x, y) = np.dot({x.shape}, {y.shape}) = z{z.shape}\\n\")\n",
    "        except Exception as e:\n",
    "            print(\"Error np.dot(x, y) :\", e, \"\\n\")\n",
    "\n",
    "        try:\n",
    "            z = np.matmul(x, y)\n",
    "            print(f\"np.matmul(x, y) = np.matmul({x.shape}, {y.shape}) = z{z.shape}\\n\")\n",
    "        except Exception as e:\n",
    "            print(\"Error np.matmul(x, y) :\", e, \"\\n\")"
   ]
  },
  {
   "cell_type": "code",
   "execution_count": 23,
   "outputs": [
    {
     "name": "stdout",
     "output_type": "stream",
     "text": [
      "x + y = (2,) + (2,) = z(2,)\n",
      "\n",
      "x * y = (2,) * (2,) = z(2,)\n",
      "\n",
      "x / y = (2,) / (2,) = z(2,)\n",
      "\n",
      "np.inner(x, y) = np.inner((2,), (2,)) = z()\n",
      "\n",
      "np.outer(x, y) = np.outer((2,), (2,)) = z(2, 2)\n",
      "\n",
      "np.dot(x, y) = np.dot((2,), (2,)) = z()\n",
      "\n",
      "np.matmul(x, y) = np.matmul((2,), (2,)) = z()\n",
      "\n"
     ]
    }
   ],
   "source": [
    "algebra(\n",
    "    [1, 2],\n",
    "    [10, 20],\n",
    "    all=True\n",
    ")"
   ],
   "metadata": {
    "collapsed": false,
    "pycharm": {
     "name": "#%%\n"
    }
   }
  },
  {
   "cell_type": "code",
   "execution_count": 24,
   "outputs": [
    {
     "name": "stdout",
     "output_type": "stream",
     "text": [
      "x + y = (2, 1) + (2,) = z(2, 2)\n",
      "\n",
      "x * y = (2, 1) * (2,) = z(2, 2)\n",
      "\n",
      "x / y = (2, 1) / (2,) = z(2, 2)\n",
      "\n",
      "Error np.inner(x, y) : shapes (2,1) and (2,) not aligned: 1 (dim 1) != 2 (dim 0) \n",
      "\n",
      "np.outer(x, y) = np.outer((2, 1), (2,)) = z(2, 2)\n",
      "\n",
      "Error np.dot(x, y) : shapes (2,1) and (2,) not aligned: 1 (dim 1) != 2 (dim 0) \n",
      "\n",
      "Error np.matmul(x, y) : matmul: Input operand 1 has a mismatch in its core dimension 0, with gufunc signature (n?,k),(k,m?)->(n?,m?) (size 2 is different from 1) \n",
      "\n"
     ]
    }
   ],
   "source": [
    "algebra(\n",
    "    [\n",
    "        [1],\n",
    "        [2],\n",
    "    ],\n",
    "    [10, 20],\n",
    "    all=True\n",
    ")"
   ],
   "metadata": {
    "collapsed": false,
    "pycharm": {
     "name": "#%%\n"
    }
   }
  },
  {
   "cell_type": "code",
   "execution_count": 25,
   "outputs": [
    {
     "name": "stdout",
     "output_type": "stream",
     "text": [
      "x + y = (2, 2) + (2,) = z(2, 2)\n",
      "\n",
      "x * y = (2, 2) * (2,) = z(2, 2)\n",
      "\n",
      "x / y = (2, 2) / (2,) = z(2, 2)\n",
      "\n",
      "np.inner(x, y) = np.inner((2, 2), (2,)) = z(2,)\n",
      "\n",
      "np.outer(x, y) = np.outer((2, 2), (2,)) = z(4, 2)\n",
      "\n",
      "np.dot(x, y) = np.dot((2, 2), (2,)) = z(2,)\n",
      "\n",
      "np.matmul(x, y) = np.matmul((2, 2), (2,)) = z(2,)\n",
      "\n"
     ]
    }
   ],
   "source": [
    "algebra(\n",
    "    [\n",
    "        [1, 2],\n",
    "        [3, 4]\n",
    "    ],\n",
    "    [10, 20],\n",
    "    all=True\n",
    ")"
   ],
   "metadata": {
    "collapsed": false,
    "pycharm": {
     "name": "#%%\n"
    }
   }
  },
  {
   "cell_type": "code",
   "execution_count": 30,
   "outputs": [
    {
     "name": "stdout",
     "output_type": "stream",
     "text": [
      "Error x + y : operands could not be broadcast together with shapes (3,2) (2,3)  \n",
      "\n",
      "Error x * y : operands could not be broadcast together with shapes (3,2) (2,3)  \n",
      "\n",
      "Error x / y : operands could not be broadcast together with shapes (3,2) (2,3)  \n",
      "\n",
      "Error np.inner(x, y) : shapes (3,2) and (3,2) not aligned: 2 (dim 1) != 3 (dim 0) \n",
      "\n",
      "np.outer(x, y) = np.outer((3, 2), (2, 3)) = z(6, 6)\n",
      "\n",
      "np.dot(x, y) = np.dot((3, 2), (2, 3)) = z(3, 3)\n",
      "\n",
      "np.matmul(x, y) = np.matmul((3, 2), (2, 3)) = z(3, 3)\n",
      "\n"
     ]
    }
   ],
   "source": [
    "algebra(\n",
    "    [\n",
    "        [1, 2],\n",
    "        [3, 4],\n",
    "        [5, 6],\n",
    "    ],\n",
    "    [\n",
    "        [10, 20, 30],\n",
    "        [10, 20, 30]\n",
    "    ],\n",
    "    all=True\n",
    ")"
   ],
   "metadata": {
    "collapsed": false,
    "pycharm": {
     "name": "#%%\n"
    }
   }
  },
  {
   "cell_type": "code",
   "execution_count": 27,
   "outputs": [
    {
     "name": "stdout",
     "output_type": "stream",
     "text": [
      "Error x + y : operands could not be broadcast together with shapes (2,3,2) (3,2,2)  \n",
      "\n",
      "Error x * y : operands could not be broadcast together with shapes (2,3,2) (3,2,2)  \n",
      "\n",
      "Error x / y : operands could not be broadcast together with shapes (2,3,2) (3,2,2)  \n",
      "\n",
      "np.inner(x, y) = np.inner((2, 3, 2), (3, 2, 2)) = z(2, 3, 3, 2)\n",
      "\n",
      "np.outer(x, y) = np.outer((2, 3, 2), (3, 2, 2)) = z(12, 12)\n",
      "\n",
      "np.dot(x, y) = np.dot((2, 3, 2), (3, 2, 2)) = z(2, 3, 3, 2)\n",
      "\n",
      "Error np.matmul(x, y) : operands could not be broadcast together with remapped shapes [original->remapped]: (2,3,2)->(2,newaxis,newaxis) (3,2,2)->(3,newaxis,newaxis)  and requested shape (3,2) \n",
      "\n"
     ]
    }
   ],
   "source": [
    "algebra(\n",
    "    [\n",
    "        [\n",
    "            [1, 2],\n",
    "            [3, 4],\n",
    "            [5, 6],\n",
    "        ],\n",
    "        [\n",
    "            [10, 20],\n",
    "            [30, 40],\n",
    "            [50, 60],\n",
    "        ]\n",
    "    ],\n",
    "    [\n",
    "        [\n",
    "            [10, 20],\n",
    "            [30, 40]\n",
    "        ],\n",
    "        [\n",
    "            [50, 60],\n",
    "            [70, 80]\n",
    "        ],\n",
    "        [\n",
    "            [50, 60],\n",
    "            [70, 80]\n",
    "        ]\n",
    "    ],\n",
    "    all=True\n",
    ")"
   ],
   "metadata": {
    "collapsed": false,
    "pycharm": {
     "name": "#%%\n"
    }
   }
  },
  {
   "cell_type": "code",
   "execution_count": 28,
   "outputs": [
    {
     "name": "stdout",
     "output_type": "stream",
     "text": [
      "Error x + y : operands could not be broadcast together with shapes (3,3,2) (3,2,3)  \n",
      "\n",
      "Error x * y : operands could not be broadcast together with shapes (3,3,2) (3,2,3)  \n",
      "\n",
      "Error x / y : operands could not be broadcast together with shapes (3,3,2) (3,2,3)  \n",
      "\n",
      "Error np.inner(x, y) : shapes (3,3,2) and (3,3,2) not aligned: 2 (dim 2) != 3 (dim 1) \n",
      "\n",
      "np.outer(x, y) = np.outer((3, 3, 2), (3, 2, 3)) = z(18, 18)\n",
      "\n",
      "np.dot(x, y) = np.dot((3, 3, 2), (3, 2, 3)) = z(3, 3, 3, 3)\n",
      "\n",
      "np.matmul(x, y) = np.matmul((3, 3, 2), (3, 2, 3)) = z(3, 3, 3)\n",
      "\n"
     ]
    }
   ],
   "source": [
    "algebra(\n",
    "    [\n",
    "        [\n",
    "            [1, 2],\n",
    "            [3, 4],\n",
    "            [5, 6],\n",
    "        ],\n",
    "        [\n",
    "            [10, 20],\n",
    "            [30, 40],\n",
    "            [50, 60],\n",
    "        ],\n",
    "        [\n",
    "            [100, 200],\n",
    "            [300, 400],\n",
    "            [500, 600],\n",
    "        ]\n",
    "    ],\n",
    "    [\n",
    "        [\n",
    "            [10, 20, 90],\n",
    "            [30, 40, 90]\n",
    "        ],\n",
    "        [\n",
    "            [50, 60, 90],\n",
    "            [70, 80, 90]\n",
    "        ],\n",
    "        [\n",
    "            [50, 60, 90],\n",
    "            [70, 80, 90]\n",
    "        ]\n",
    "    ],\n",
    "    all=True\n",
    ")"
   ],
   "metadata": {
    "collapsed": false,
    "pycharm": {
     "name": "#%%\n"
    }
   }
  },
  {
   "cell_type": "code",
   "execution_count": 28,
   "outputs": [],
   "source": [
    "algebra(\n",
    "    [\n",
    "        [1, 2, 3, 4],\n",
    "        [5, 6, 7, 8],\n",
    "        [5, 6],\n",
    "    ],\n",
    "    [\n",
    "        [10, 20],\n",
    "        [30, 40],\n",
    "        [50, 60],\n",
    "    ],\n",
    "    [\n",
    "        [100, 200],\n",
    "        [300, 400],\n",
    "        [500, 600],\n",
    "    ]\n",
    "],\n",
    "[\n",
    "    [\n",
    "        [10, 20, 90],\n",
    "        [30, 40, 90]\n",
    "    ],\n",
    "    [\n",
    "        [50, 60, 90],\n",
    "        [70, 80, 90]\n",
    "    ],\n",
    "    [\n",
    "        [50, 60, 90],\n",
    "        [70, 80, 90]\n",
    "    ]\n",
    "],\n",
    "all = True\n",
    ")"
   ],
   "metadata": {
    "collapsed": false,
    "pycharm": {
     "name": "#%%\n"
    }
   }
  }
 ],
 "metadata": {
  "kernelspec": {
   "display_name": "Python 3",
   "language": "python",
   "name": "python3"
  },
  "language_info": {
   "codemirror_mode": {
    "name": "ipython",
    "version": 2
   },
   "file_extension": ".py",
   "mimetype": "text/x-python",
   "name": "python",
   "nbconvert_exporter": "python",
   "pygments_lexer": "ipython2",
   "version": "2.7.6"
  }
 },
 "nbformat": 4,
 "nbformat_minor": 0
}