{
 "cells": [
  {
   "cell_type": "markdown",
   "source": [
    "# Numpy Ops"
   ],
   "metadata": {
    "collapsed": false,
    "pycharm": {
     "name": "#%% md\n"
    }
   }
  },
  {
   "cell_type": "code",
   "execution_count": 117,
   "outputs": [],
   "source": [
    "import numpy as np"
   ],
   "metadata": {
    "collapsed": false,
    "pycharm": {
     "name": "#%%\n"
    }
   }
  },
  {
   "cell_type": "markdown",
   "source": [
    "## [matmul product](https://numpy.org/doc/stable/reference/generated/numpy.matmul.html) ([kr](https://runebook.dev/ko/docs/numpy/reference/generated/numpy.matmul))\n",
    "* 첫 행렬의 마지막 차원과, 두번째 행렬의 끝에서 두번째 차원의 크기가 동일 해야함\n",
    "* 연산 결과 두 행렬의 연산 차원이 없어지며, 두 행렬의 차원이 합쳐짐\n",
    "    - eg> $inner(x(5,4,3,2), y(6,5,4,2,3) = z(5,4,3,6,5,4,3)$\n",
    "\n",
    "cf> dot product"
   ],
   "metadata": {
    "collapsed": false,
    "pycharm": {
     "name": "#%% md\n"
    }
   }
  },
  {
   "cell_type": "markdown",
   "source": [
    "### $matmul(x(k,), y(k,)) = z()$\n",
    "$\\begin{align}\n",
    "np.matmul(x, y) = np.matmul(\n",
    "    \\begin{bmatrix} 1 & 2 \\end{bmatrix}\n",
    "    ,\n",
    "    \\begin{bmatrix}\n",
    "        10 \\\\\n",
    "        20\n",
    "    \\end{bmatrix})\n",
    "&= 1 \\times 10 + 2 \\times 20 \\\\\n",
    "&= 50\n",
    "\\end{align}$"
   ],
   "metadata": {
    "collapsed": false,
    "pycharm": {
     "name": "#%% md\n"
    }
   }
  },
  {
   "cell_type": "code",
   "execution_count": 118,
   "outputs": [
    {
     "name": "stdout",
     "output_type": "stream",
     "text": [
      "x(2,) = [1 2]\n",
      "y(2,) = [10 20]\n",
      "np.matmul(x, y) = z() = 50\n",
      "np.dot(x, y) = z() = 50\n"
     ]
    }
   ],
   "source": [
    "x = np.array([1, 2])\n",
    "print(f\"x{x.shape} =\", x)\n",
    "\n",
    "y = np.array([10, 20])\n",
    "print(f\"y{y.shape} =\", y)\n",
    "\n",
    "z = np.matmul(x, y)\n",
    "print(f\"np.matmul(x, y) = z{z.shape} =\", z)\n",
    "\n",
    "z = np.dot(x, y)\n",
    "print(f\"np.dot(x, y) = z{z.shape} =\", z)"
   ],
   "metadata": {
    "collapsed": false,
    "pycharm": {
     "name": "#%%\n"
    }
   }
  },
  {
   "cell_type": "markdown",
   "source": [
    "---\n",
    "### dim < 3 : $matmul(x(n, k), y(k, m)) = z(n, m)$\n",
    "$\\begin{align}\n",
    "np.matmul(x, y) = np.matmul(\n",
    "    \\begin{bmatrix}\n",
    "        \\begin{bmatrix} 1 & 2 \\end{bmatrix} \\\\\n",
    "        \\begin{bmatrix} 3 & 4 \\end{bmatrix} \\\\\n",
    "        \\begin{bmatrix} 5 & 6 \\end{bmatrix} \\\\\n",
    "    \\end{bmatrix}\n",
    "    ,\n",
    "    \\begin{bmatrix}\n",
    "        10 & 20 & 30 \\\\\n",
    "        40 & 50 & 60 \\\\\n",
    "    \\end{bmatrix}\n",
    ")\n",
    "&=  \\begin{bmatrix}\n",
    "        \\begin{bmatrix} 1 \\times 10 + 2 \\times 40   & 1 \\times 20 + 2 \\times 50     & 1 \\times 30 + 2 \\times 60   \\end{bmatrix} \\\\\n",
    "        \\begin{bmatrix} 3 \\times 10 + 4 \\times 40   & 3 \\times 20 + 4 \\times 50     & 3 \\times 30 + 4 \\times 60   \\end{bmatrix} \\\\\n",
    "        \\begin{bmatrix} 5 \\times 10 + 6 \\times 40   & 5 \\times 20 + 6 \\times 50     & 5 \\times 30 + 6 \\times 60   \\end{bmatrix} \\\\\n",
    "    \\end{bmatrix} \\\\\n",
    "&=  \\begin{bmatrix}\n",
    "        \\begin{bmatrix}  90 & 120 & 150 \\end{bmatrix} \\\\\n",
    "        \\begin{bmatrix} 190 & 260 & 330 \\end{bmatrix} \\\\\n",
    "        \\begin{bmatrix} 290 & 400 & 510 \\end{bmatrix} \\\\\n",
    "    \\end{bmatrix}\n",
    "\\end{align}$"
   ],
   "metadata": {
    "collapsed": false,
    "pycharm": {
     "name": "#%% md\n"
    }
   }
  },
  {
   "cell_type": "code",
   "execution_count": 125,
   "outputs": [
    {
     "name": "stdout",
     "output_type": "stream",
     "text": [
      "x(3, 2) = [[1 2]\n",
      " [3 4]\n",
      " [5 6]]\n",
      "y(2, 3) = [[10 20 30]\n",
      " [40 50 60]]\n",
      "np.matmul(x, y) = z(3, 3) = [[ 90 120 150]\n",
      " [190 260 330]\n",
      " [290 400 510]]\n"
     ]
    }
   ],
   "source": [
    "x = np.array([\n",
    "    [1, 2],\n",
    "    [3, 4],\n",
    "    [5, 6]\n",
    "])\n",
    "print(f\"x{x.shape} =\", x)\n",
    "\n",
    "y = np.array([\n",
    "    [10, 20, 30],\n",
    "    [40, 50, 60]\n",
    "])\n",
    "print(f\"y{y.shape} =\", y)\n",
    "\n",
    "z = np.matmul(x, y)\n",
    "print(f\"np.matmul(x, y) = z{z.shape} =\", z)\n",
    "\n",
    "# z = np.dot(x, y)\n",
    "# print(f\"np.dot(x, y) = z{z.shape} =\", z)"
   ],
   "metadata": {
    "collapsed": false,
    "pycharm": {
     "name": "#%%\n"
    }
   }
  },
  {
   "cell_type": "markdown",
   "source": [
    "---\n",
    "### dim >= 3 : $matmul(x(l(or 1)+, m, k), y(l(or 1)+, k, o)) = z(l, m, o)$\n",
    "$\\begin{align}\n",
    "np.matmul(x, y) = np.matmul(\n",
    "    \\begin{bmatrix}\n",
    "        \\begin{bmatrix}\n",
    "            \\begin{bmatrix} 1 & 2 \\end{bmatrix} \\\\\n",
    "            \\begin{bmatrix} 3 & 4 \\end{bmatrix} \\\\\n",
    "            \\begin{bmatrix} 5 & 6 \\end{bmatrix} \\\\\n",
    "        \\end{bmatrix} \\\\\n",
    "        \\begin{bmatrix}\n",
    "            \\begin{bmatrix} 10 & 20 \\end{bmatrix} \\\\\n",
    "            \\begin{bmatrix} 30 & 40 \\end{bmatrix} \\\\\n",
    "            \\begin{bmatrix} 50 & 60 \\end{bmatrix} \\\\\n",
    "        \\end{bmatrix}\n",
    "    \\end{bmatrix}\n",
    "    ,\n",
    "    \\begin{bmatrix}\n",
    "        \\begin{bmatrix}\n",
    "            \\begin{bmatrix} 10 & 20 \\end{bmatrix} \\\\\n",
    "            \\begin{bmatrix} 30 & 40 \\end{bmatrix} \\\\\n",
    "        \\end{bmatrix} \\\\\n",
    "        \\begin{bmatrix}\n",
    "            \\begin{bmatrix} 50 & 60 \\end{bmatrix} \\\\\n",
    "            \\begin{bmatrix} 70 & 80 \\end{bmatrix} \\\\\n",
    "        \\end{bmatrix}\n",
    "    \\end{bmatrix}\n",
    ")\n",
    "&=  \\begin{bmatrix}\n",
    "        \\begin{bmatrix}\n",
    "            \\begin{bmatrix} 1 \\times 10 + 2 \\times 30   &   1 \\times 20 + 2 \\times 40   \\end{bmatrix} \\\\\n",
    "            \\begin{bmatrix} 3 \\times 10 + 4 \\times 30   &   3 \\times 20 + 4 \\times 40   \\end{bmatrix} \\\\\n",
    "            \\begin{bmatrix} 5 \\times 10 + 6 \\times 30   &   5 \\times 20 + 6 \\times 40   \\end{bmatrix} \\\\\n",
    "        \\end{bmatrix} \\\\\n",
    "        \\begin{bmatrix}\n",
    "            \\begin{bmatrix} 10 \\times 50 + 20 \\times 70   &   10 \\times 60 + 20 \\times 80   \\end{bmatrix} \\\\\n",
    "            \\begin{bmatrix} 30 \\times 50 + 40 \\times 70   &   30 \\times 60 + 40 \\times 80   \\end{bmatrix} \\\\\n",
    "            \\begin{bmatrix} 50 \\times 50 + 60 \\times 70   &   50 \\times 60 + 60 \\times 80   \\end{bmatrix} \\\\\n",
    "        \\end{bmatrix} \\\\\n",
    "    \\end{bmatrix} \\\\\n",
    "&=  \\begin{bmatrix}\n",
    "        \\begin{bmatrix}\n",
    "            \\begin{bmatrix} 70  & 100   \\end{bmatrix} \\\\\n",
    "            \\begin{bmatrix} 170 & 220   \\end{bmatrix} \\\\\n",
    "            \\begin{bmatrix} 230 & 340   \\end{bmatrix} \\\\\n",
    "        \\end{bmatrix} \\\\\n",
    "        \\begin{bmatrix}\n",
    "            \\begin{bmatrix} 1900    & 2200   \\end{bmatrix} \\\\\n",
    "            \\begin{bmatrix} 4300    & 5000   \\end{bmatrix} \\\\\n",
    "            \\begin{bmatrix} 6700    & 7800   \\end{bmatrix} \\\\\n",
    "        \\end{bmatrix} \\\\\n",
    "    \\end{bmatrix}\n",
    "\\end{align}$"
   ],
   "metadata": {
    "collapsed": false,
    "pycharm": {
     "name": "#%% md\n"
    }
   }
  },
  {
   "cell_type": "code",
   "execution_count": 120,
   "outputs": [
    {
     "name": "stdout",
     "output_type": "stream",
     "text": [
      "x(2, 3, 2) = [[[ 1  2]\n",
      "  [ 3  4]\n",
      "  [ 5  6]]\n",
      "\n",
      " [[10 20]\n",
      "  [30 40]\n",
      "  [50 60]]]\n",
      "y(2, 2, 2) = [[[10 20]\n",
      "  [30 40]]\n",
      "\n",
      " [[50 60]\n",
      "  [70 80]]]\n",
      "np.matmul(x, y) = z(2, 3, 2) = [[[  70  100]\n",
      "  [ 150  220]\n",
      "  [ 230  340]]\n",
      "\n",
      " [[1900 2200]\n",
      "  [4300 5000]\n",
      "  [6700 7800]]]\n"
     ]
    }
   ],
   "source": [
    "x = np.array([\n",
    "    [[1, 2], [3, 4], [5, 6]],\n",
    "    [[10, 20], [30, 40], [50, 60]],\n",
    "])\n",
    "print(f\"x{x.shape} =\", x)\n",
    "\n",
    "y = np.array([\n",
    "    [[10, 20], [30, 40]],\n",
    "    [[50, 60], [70, 80]],\n",
    "])\n",
    "print(f\"y{y.shape} =\", y)\n",
    "\n",
    "z = np.matmul(x, y)\n",
    "print(f\"np.matmul(x, y) = z{z.shape} =\", z)\n",
    "\n",
    "# z = np.dot(x, y)\n",
    "# print(f\"np.dot(x, y) = z{z.shape} =\", z)"
   ],
   "metadata": {
    "collapsed": false,
    "pycharm": {
     "name": "#%%\n"
    }
   }
  },
  {
   "cell_type": "code",
   "execution_count": 165,
   "outputs": [
    {
     "name": "stdout",
     "output_type": "stream",
     "text": [
      "x(4, 3, 3, 35, 5) =\n",
      "y(3, 3, 1, 5, 50) =\n"
     ]
    },
    {
     "ename": "ValueError",
     "evalue": "operands could not be broadcast together with remapped shapes [original->remapped]: (4,3,3,35,5)->(4,3,3,newaxis,newaxis) (3,3,1,5,50)->(3,3,1,newaxis,newaxis)  and requested shape (35,50)",
     "output_type": "error",
     "traceback": [
      "\u001B[0;31m---------------------------------------------------------------------------\u001B[0m",
      "\u001B[0;31mValueError\u001B[0m                                Traceback (most recent call last)",
      "Cell \u001B[0;32mIn [165], line 7\u001B[0m\n\u001B[1;32m      4\u001B[0m y \u001B[38;5;241m=\u001B[39m np\u001B[38;5;241m.\u001B[39mones([\u001B[38;5;241m3\u001B[39m, \u001B[38;5;241m3\u001B[39m, \u001B[38;5;241m1\u001B[39m, \u001B[38;5;241m5\u001B[39m, \u001B[38;5;241m50\u001B[39m])\n\u001B[1;32m      5\u001B[0m \u001B[38;5;28mprint\u001B[39m(\u001B[38;5;124mf\u001B[39m\u001B[38;5;124m\"\u001B[39m\u001B[38;5;124my\u001B[39m\u001B[38;5;132;01m{\u001B[39;00my\u001B[38;5;241m.\u001B[39mshape\u001B[38;5;132;01m}\u001B[39;00m\u001B[38;5;124m =\u001B[39m\u001B[38;5;124m\"\u001B[39m)  \u001B[38;5;66;03m#, y)\u001B[39;00m\n\u001B[0;32m----> 7\u001B[0m z \u001B[38;5;241m=\u001B[39m \u001B[43mnp\u001B[49m\u001B[38;5;241;43m.\u001B[39;49m\u001B[43mmatmul\u001B[49m\u001B[43m(\u001B[49m\u001B[43mx\u001B[49m\u001B[43m,\u001B[49m\u001B[43m \u001B[49m\u001B[43my\u001B[49m\u001B[43m)\u001B[49m\n\u001B[1;32m      8\u001B[0m \u001B[38;5;28mprint\u001B[39m(\u001B[38;5;124mf\u001B[39m\u001B[38;5;124m\"\u001B[39m\u001B[38;5;124mnp.matmul(x, y) = z\u001B[39m\u001B[38;5;132;01m{\u001B[39;00mz\u001B[38;5;241m.\u001B[39mshape\u001B[38;5;132;01m}\u001B[39;00m\u001B[38;5;124m =\u001B[39m\u001B[38;5;124m\"\u001B[39m)  \u001B[38;5;66;03m#, z)\u001B[39;00m\n\u001B[1;32m     10\u001B[0m \u001B[38;5;66;03m# z = np.dot(x, y)\u001B[39;00m\n\u001B[1;32m     11\u001B[0m \u001B[38;5;66;03m# print(f\"np.dot(x, y) = z{z.shape} =\")  #, z)\u001B[39;00m\n",
      "\u001B[0;31mValueError\u001B[0m: operands could not be broadcast together with remapped shapes [original->remapped]: (4,3,3,35,5)->(4,3,3,newaxis,newaxis) (3,3,1,5,50)->(3,3,1,newaxis,newaxis)  and requested shape (35,50)"
     ]
    }
   ],
   "source": [
    "x = np.ones([4, 3, 3, 35, 5])\n",
    "print(f\"x{x.shape} =\")  #, x)\n",
    "\n",
    "y = np.ones([3, 3, 1, 5, 50])\n",
    "print(f\"y{y.shape} =\")  #, y)\n",
    "\n",
    "z = np.matmul(x, y)\n",
    "print(f\"np.matmul(x, y) = z{z.shape} =\")  #, z)\n",
    "\n",
    "# z = np.dot(x, y)\n",
    "# print(f\"np.dot(x, y) = z{z.shape} =\")  #, z)"
   ],
   "metadata": {
    "collapsed": false,
    "pycharm": {
     "name": "#%%\n"
    }
   }
  },
  {
   "cell_type": "code",
   "execution_count": 121,
   "outputs": [
    {
     "name": "stdout",
     "output_type": "stream",
     "text": [
      "x(3, 2, 2) = [[[1 2]\n",
      "  [1 2]]\n",
      "\n",
      " [[5 6]\n",
      "  [5 6]]\n",
      "\n",
      " [[7 8]\n",
      "  [7 8]]]\n",
      "y(3, 2, 4) = [[[ 10  20  30  40]\n",
      "  [ 40  50  60  60]]\n",
      "\n",
      " [[100 200 300 400]\n",
      "  [400 500 600 600]]\n",
      "\n",
      " [[100 200 300 400]\n",
      "  [400 500 600 600]]]\n",
      "np.matmul(x, y) = z(3, 2, 4) = [[[  90  120  150  160]\n",
      "  [  90  120  150  160]]\n",
      "\n",
      " [[2900 4000 5100 5600]\n",
      "  [2900 4000 5100 5600]]\n",
      "\n",
      " [[3900 5400 6900 7600]\n",
      "  [3900 5400 6900 7600]]]\n",
      "np.dot(x, y) = z(3, 2, 3, 4) = [[[[  90  120  150  160]\n",
      "   [ 900 1200 1500 1600]\n",
      "   [ 900 1200 1500 1600]]\n",
      "\n",
      "  [[  90  120  150  160]\n",
      "   [ 900 1200 1500 1600]\n",
      "   [ 900 1200 1500 1600]]]\n",
      "\n",
      "\n",
      " [[[ 290  400  510  560]\n",
      "   [2900 4000 5100 5600]\n",
      "   [2900 4000 5100 5600]]\n",
      "\n",
      "  [[ 290  400  510  560]\n",
      "   [2900 4000 5100 5600]\n",
      "   [2900 4000 5100 5600]]]\n",
      "\n",
      "\n",
      " [[[ 390  540  690  760]\n",
      "   [3900 5400 6900 7600]\n",
      "   [3900 5400 6900 7600]]\n",
      "\n",
      "  [[ 390  540  690  760]\n",
      "   [3900 5400 6900 7600]\n",
      "   [3900 5400 6900 7600]]]]\n"
     ]
    }
   ],
   "source": [
    "x = np.array([\n",
    "    [\n",
    "        [1, 2],\n",
    "        [1, 2],\n",
    "    ],\n",
    "    [\n",
    "        [5, 6],\n",
    "        [5, 6]\n",
    "    ],\n",
    "    [\n",
    "        [7, 8],\n",
    "        [7, 8],\n",
    "    ],\n",
    "])\n",
    "print(f\"x{x.shape} =\", x)\n",
    "\n",
    "y = np.array([\n",
    "    [\n",
    "        [10, 20, 30, 40],\n",
    "        [40, 50, 60, 60],\n",
    "    ],\n",
    "    [\n",
    "        [100, 200, 300, 400],\n",
    "        [400, 500, 600, 600],\n",
    "    ],\n",
    "    [\n",
    "        [100, 200, 300, 400],\n",
    "        [400, 500, 600, 600],\n",
    "    ]\n",
    "])\n",
    "print(f\"y{y.shape} =\", y)\n",
    "\n",
    "z = np.matmul(x, y)\n",
    "print(f\"np.matmul(x, y) = z{z.shape} =\", z)\n",
    "\n",
    "z = np.dot(x, y)\n",
    "print(f\"np.dot(x, y) = z{z.shape} =\", z)"
   ],
   "metadata": {
    "collapsed": false,
    "pycharm": {
     "name": "#%%\n"
    }
   }
  },
  {
   "cell_type": "code",
   "execution_count": 121,
   "outputs": [],
   "source": [],
   "metadata": {
    "collapsed": false,
    "pycharm": {
     "name": "#%%\n"
    }
   }
  }
 ],
 "metadata": {
  "kernelspec": {
   "display_name": "Python 3",
   "language": "python",
   "name": "python3"
  },
  "language_info": {
   "codemirror_mode": {
    "name": "ipython",
    "version": 2
   },
   "file_extension": ".py",
   "mimetype": "text/x-python",
   "name": "python",
   "nbconvert_exporter": "python",
   "pygments_lexer": "ipython2",
   "version": "2.7.6"
  }
 },
 "nbformat": 4,
 "nbformat_minor": 0
}