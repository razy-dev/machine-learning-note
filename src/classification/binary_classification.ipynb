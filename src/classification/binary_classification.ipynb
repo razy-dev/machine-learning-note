{
 "cells": [
  {
   "cell_type": "code",
   "execution_count": 26,
   "metadata": {
    "collapsed": true,
    "pycharm": {
     "name": "#%%\n"
    }
   },
   "outputs": [],
   "source": [
    "import torch\n",
    "import pandas as pd\n",
    "from torch import nn\n",
    "from torch import optim\n",
    "from torch.utils.data import Dataset, DataLoader"
   ]
  },
  {
   "cell_type": "code",
   "execution_count": 27,
   "outputs": [],
   "source": [
    "class CustomDataset(Dataset):\n",
    "    def __init__(self, file_path):\n",
    "        df = pd.read_csv(file_path)\n",
    "        self.x1 = df.iloc[:, 0].values\n",
    "        self.x2 = df.iloc[:, 1].values\n",
    "        self.x3 = df.iloc[:, 2].values\n",
    "        self.y = df.iloc[:, 3].values\n",
    "        self.length = len(df)\n",
    "\n",
    "    def __getitem__(self, index):\n",
    "        x = torch.FloatTensor([self.x1[index], self.x2[index], self.x3[index]])\n",
    "        y = torch.FloatTensor([1. if self.y[index] else 0.])\n",
    "        return x, y\n",
    "\n",
    "    def __len__(self):\n",
    "        return self.length"
   ],
   "metadata": {
    "collapsed": false,
    "pycharm": {
     "name": "#%%\n"
    }
   }
  },
  {
   "cell_type": "code",
   "execution_count": 28,
   "outputs": [],
   "source": [
    "class CustomModel(nn.Module):\n",
    "    def __init__(self):\n",
    "        super(CustomModel, self).__init__()\n",
    "        self.layer = nn.Sequential(\n",
    "            nn.Linear(3, 1),\n",
    "            nn.Sigmoid()\n",
    "        )\n",
    "\n",
    "    def forward(self, x):\n",
    "        x = self.layer(x)\n",
    "        return x"
   ],
   "metadata": {
    "collapsed": false,
    "pycharm": {
     "name": "#%%\n"
    }
   }
  },
  {
   "cell_type": "code",
   "execution_count": 29,
   "outputs": [],
   "source": [
    "train_dataset = CustomDataset(\"./binary_classification_data.csv\")\n",
    "train_dataloader = DataLoader(train_dataset, batch_size=128, shuffle=True, drop_last=True)\n",
    "\n",
    "device = \"cuda\" if torch.cuda.is_available() else \"cpu\"\n",
    "model = CustomModel().to(device)\n",
    "criterion = nn.BCELoss().to(device)\n",
    "optimizer = optim.SGD(model.parameters(), lr=0.0001)"
   ],
   "metadata": {
    "collapsed": false,
    "pycharm": {
     "name": "#%%\n"
    }
   }
  },
  {
   "cell_type": "code",
   "execution_count": 30,
   "outputs": [
    {
     "name": "stdout",
     "output_type": "stream",
     "text": [
      "Epoch : 1000, Model : [Parameter containing:\n",
      "tensor([[3.7334e-03, 4.1033e-05, 2.7357e-03]], requires_grad=True), Parameter containing:\n",
      "tensor([0.0539], requires_grad=True)], Cost : 0.673\n",
      "Epoch : 2000, Model : [Parameter containing:\n",
      "tensor([[0.0045, 0.0008, 0.0033]], requires_grad=True), Parameter containing:\n",
      "tensor([-0.0218], requires_grad=True)], Cost : 0.662\n",
      "Epoch : 3000, Model : [Parameter containing:\n",
      "tensor([[0.0046, 0.0008, 0.0030]], requires_grad=True), Parameter containing:\n",
      "tensor([-0.0966], requires_grad=True)], Cost : 0.661\n",
      "Epoch : 4000, Model : [Parameter containing:\n",
      "tensor([[0.0052, 0.0014, 0.0041]], requires_grad=True), Parameter containing:\n",
      "tensor([-0.1702], requires_grad=True)], Cost : 0.650\n",
      "Epoch : 5000, Model : [Parameter containing:\n",
      "tensor([[0.0054, 0.0018, 0.0047]], requires_grad=True), Parameter containing:\n",
      "tensor([-0.2428], requires_grad=True)], Cost : 0.641\n",
      "Epoch : 6000, Model : [Parameter containing:\n",
      "tensor([[0.0054, 0.0022, 0.0041]], requires_grad=True), Parameter containing:\n",
      "tensor([-0.3143], requires_grad=True)], Cost : 0.633\n",
      "Epoch : 7000, Model : [Parameter containing:\n",
      "tensor([[0.0060, 0.0027, 0.0049]], requires_grad=True), Parameter containing:\n",
      "tensor([-0.3849], requires_grad=True)], Cost : 0.625\n",
      "Epoch : 8000, Model : [Parameter containing:\n",
      "tensor([[0.0065, 0.0031, 0.0051]], requires_grad=True), Parameter containing:\n",
      "tensor([-0.4544], requires_grad=True)], Cost : 0.621\n",
      "Epoch : 9000, Model : [Parameter containing:\n",
      "tensor([[0.0064, 0.0036, 0.0056]], requires_grad=True), Parameter containing:\n",
      "tensor([-0.5230], requires_grad=True)], Cost : 0.614\n",
      "Epoch : 10000, Model : [Parameter containing:\n",
      "tensor([[0.0070, 0.0042, 0.0061]], requires_grad=True), Parameter containing:\n",
      "tensor([-0.5906], requires_grad=True)], Cost : 0.607\n"
     ]
    }
   ],
   "source": [
    "for epoch in range(10000):\n",
    "    cost = 0.0\n",
    "\n",
    "    for x, y in train_dataloader:\n",
    "        x = x.to(device)\n",
    "        y = y.to(device)\n",
    "\n",
    "        output = model(x)\n",
    "        loss = criterion(output, y)\n",
    "\n",
    "        optimizer.zero_grad()\n",
    "        loss.backward()\n",
    "        optimizer.step()\n",
    "\n",
    "        cost += loss\n",
    "\n",
    "    cost = cost / len(train_dataloader)\n",
    "\n",
    "    if (epoch + 1) % 1000 == 0:\n",
    "        print(f\"Epoch : {epoch + 1:4d}, Model : {list(model.parameters())}, Cost : {cost:.3f}\")"
   ],
   "metadata": {
    "collapsed": false,
    "pycharm": {
     "name": "#%%\n"
    }
   }
  },
  {
   "cell_type": "code",
   "execution_count": 31,
   "outputs": [
    {
     "name": "stdout",
     "output_type": "stream",
     "text": [
      "---------\n",
      "tensor([[0.7072],\n",
      "        [0.6254],\n",
      "        [0.5759],\n",
      "        [0.5142],\n",
      "        [0.4576]])\n",
      "tensor([[ True],\n",
      "        [ True],\n",
      "        [ True],\n",
      "        [ True],\n",
      "        [False]])\n"
     ]
    }
   ],
   "source": [
    "with torch.no_grad():\n",
    "    model.eval()\n",
    "    inputs = torch.FloatTensor(\n",
    "        [[89, 92, 75], [75, 64, 50], [38, 58, 63], [33, 42, 39], [23, 15, 32]]\n",
    "    ).to(device)\n",
    "    outputs = model(inputs)\n",
    "\n",
    "    print(\"---------\")\n",
    "    print(outputs)\n",
    "    print(outputs >= torch.FloatTensor([0.5]).to(device))"
   ],
   "metadata": {
    "collapsed": false,
    "pycharm": {
     "name": "#%%\n"
    }
   }
  }
 ],
 "metadata": {
  "kernelspec": {
   "display_name": "Python 3",
   "language": "python",
   "name": "python3"
  },
  "language_info": {
   "codemirror_mode": {
    "name": "ipython",
    "version": 2
   },
   "file_extension": ".py",
   "mimetype": "text/x-python",
   "name": "python",
   "nbconvert_exporter": "python",
   "pygments_lexer": "ipython2",
   "version": "2.7.6"
  }
 },
 "nbformat": 4,
 "nbformat_minor": 0
}