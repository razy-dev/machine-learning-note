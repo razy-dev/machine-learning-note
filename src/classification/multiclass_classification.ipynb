{
 "cells": [
  {
   "cell_type": "code",
   "execution_count": 25,
   "metadata": {
    "collapsed": true,
    "pycharm": {
     "name": "#%%\n"
    }
   },
   "outputs": [],
   "source": [
    "import torch\n",
    "import pandas as pd\n",
    "from torch import nn\n",
    "from torch import optim\n",
    "from torch.nn import functional as F\n",
    "from torch.utils.data import Dataset, DataLoader"
   ]
  },
  {
   "cell_type": "code",
   "execution_count": 26,
   "outputs": [],
   "source": [
    "class CustomDataset(Dataset):\n",
    "    def __init__(self, file_path):\n",
    "        df = pd.read_csv(file_path)\n",
    "        self.a = df.iloc[:, 0].values\n",
    "        self.b = df.iloc[:, 1].values\n",
    "        self.c = df.iloc[:, 2].values\n",
    "        self.y = df.iloc[:, 3].values\n",
    "        self.y = list(map(self.string_to_vector, self.y))\n",
    "        self.length = len(df)\n",
    "\n",
    "    def string_to_vector(self, value):\n",
    "        data = {\"acute triangle\": 0, \"right triangle\": 1, \"obtuse triangle\": 2}\n",
    "        return data.get(value, None)\n",
    "\n",
    "    def __getitem__(self, index):\n",
    "        x = torch.FloatTensor(sorted([self.a[index], self.b[index], self.c[index]]))\n",
    "        y = torch.LongTensor(self.y)[index]\n",
    "        return x, y\n",
    "\n",
    "    def __len__(self):\n",
    "        return self.length"
   ],
   "metadata": {
    "collapsed": false,
    "pycharm": {
     "name": "#%%\n"
    }
   }
  },
  {
   "cell_type": "code",
   "execution_count": 27,
   "outputs": [],
   "source": [
    "class CustomModel(nn.Module):\n",
    "    def __init__(self):\n",
    "        super(CustomModel, self).__init__()\n",
    "\n",
    "        self.layer = nn.Sequential(\n",
    "            nn.Linear(3, 3)\n",
    "        )\n",
    "\n",
    "    def forward(self, x):\n",
    "        x = self.layer(x)\n",
    "        return x"
   ],
   "metadata": {
    "collapsed": false,
    "pycharm": {
     "name": "#%%\n"
    }
   }
  },
  {
   "cell_type": "code",
   "execution_count": 28,
   "outputs": [],
   "source": [
    "train_dataset = CustomDataset(\"./multiclass_classification_data.csv\")\n",
    "train_dataloader = DataLoader(train_dataset, batch_size=128, shuffle=True, drop_last=True)\n",
    "\n",
    "device = \"cuda\" if torch.cuda.is_available() else \"cpu\"\n",
    "model = CustomModel().to(device)\n",
    "criterion = nn.CrossEntropyLoss().to(device)\n",
    "optimizer = optim.SGD(model.parameters(), lr=0.001)"
   ],
   "metadata": {
    "collapsed": false,
    "pycharm": {
     "name": "#%%\n"
    }
   }
  },
  {
   "cell_type": "code",
   "execution_count": 29,
   "outputs": [
    {
     "name": "stdout",
     "output_type": "stream",
     "text": [
      "Epoch : 1000, Cost : 0.196\n",
      "Epoch : 2000, Cost : 0.127\n",
      "Epoch : 3000, Cost : 0.094\n",
      "Epoch : 4000, Cost : 0.075\n",
      "Epoch : 5000, Cost : 0.062\n",
      "Epoch : 6000, Cost : 0.053\n",
      "Epoch : 7000, Cost : 0.046\n",
      "Epoch : 8000, Cost : 0.041\n",
      "Epoch : 9000, Cost : 0.036\n",
      "Epoch : 10000, Cost : 0.033\n"
     ]
    }
   ],
   "source": [
    "for epoch in range(10000):\n",
    "    cost = 0.0\n",
    "\n",
    "    for x, y in train_dataloader:\n",
    "        x = x.to(device)\n",
    "        y = y.to(device)\n",
    "\n",
    "        output = model(x)\n",
    "        loss = criterion(output, y)\n",
    "\n",
    "        optimizer.zero_grad()\n",
    "        loss.backward()\n",
    "        optimizer.step()\n",
    "\n",
    "        cost += loss\n",
    "\n",
    "    cost = cost / len(train_dataloader)\n",
    "\n",
    "    if (epoch + 1) % 1000 == 0:\n",
    "        print(f\"Epoch : {epoch + 1:4d}, Cost : {cost:.3f}\")"
   ],
   "metadata": {
    "collapsed": false,
    "pycharm": {
     "name": "#%%\n"
    }
   }
  },
  {
   "cell_type": "code",
   "execution_count": null,
   "outputs": [],
   "source": [
    "with torch.no_grad():\n",
    "    model.eval()\n",
    "    classes = {0: \"acute triangle\", 1: \"right triangle\", 2: \"obtuse triangle\"}\n",
    "    inputs = torch.FloatTensor([\n",
    "        [9.02, 9.77, 9.96],  # 0 | acute triangle\n",
    "        [8.01, 8.08, 8.32],  # 0 | acute triangle\n",
    "        [3.55, 5.15, 6.26],  # 1 | right triangle\n",
    "        [3.32, 3.93, 5.14],  # 1 | right triangle\n",
    "        [4.39, 5.56, 9.99],  # 2 | obtuse triangle\n",
    "        [3.01, 3.08, 9.98],  # 2 | obtuse triangle\n",
    "        [5.21, 5.38, 5.39],  # 0 | acute triangle\n",
    "        [3.85, 6.23, 7.32],  # 1 | right triangle\n",
    "        [4.16, 4.98, 8.54],  # 2 | obtuse triangle\n",
    "    ]).to(device)\n",
    "    outputs = model(inputs)\n",
    "\n",
    "    print('---------')\n",
    "    print(outputs)\n",
    "    print(torch.round(F.softmax(outputs, dim=1), decimals=2))\n",
    "    print(outputs.argmax(1))\n",
    "    print(list(map(classes.get, outputs.argmax(1).tolist())))"
   ],
   "metadata": {
    "collapsed": false,
    "pycharm": {
     "name": "#%%\n"
    }
   }
  }
 ],
 "metadata": {
  "kernelspec": {
   "display_name": "Python 3",
   "language": "python",
   "name": "python3"
  },
  "language_info": {
   "codemirror_mode": {
    "name": "ipython",
    "version": 2
   },
   "file_extension": ".py",
   "mimetype": "text/x-python",
   "name": "python",
   "nbconvert_exporter": "python",
   "pygments_lexer": "ipython2",
   "version": "2.7.6"
  }
 },
 "nbformat": 4,
 "nbformat_minor": 0
}