{
 "cells": [
  {
   "cell_type": "code",
   "execution_count": 1,
   "metadata": {
    "collapsed": true,
    "pycharm": {
     "name": "#%%\n"
    }
   },
   "outputs": [],
   "source": [
    "import torch\n",
    "from torch import nn\n",
    "from torch import optim"
   ]
  },
  {
   "cell_type": "code",
   "execution_count": 2,
   "outputs": [
    {
     "name": "stdout",
     "output_type": "stream",
     "text": [
      "Epoch : 1000, Model : [Parameter containing:\n",
      "tensor([[ 0.9476, -0.0366]], requires_grad=True), Parameter containing:\n",
      "tensor([0.3636], requires_grad=True)], Cost : 0.257\n",
      "Epoch : 2000, Model : [Parameter containing:\n",
      "tensor([[ 0.9187, -0.0655]], requires_grad=True), Parameter containing:\n",
      "tensor([0.6989], requires_grad=True)], Cost : 0.141\n",
      "Epoch : 3000, Model : [Parameter containing:\n",
      "tensor([[ 0.9003, -0.0839]], requires_grad=True), Parameter containing:\n",
      "tensor([0.9125], requires_grad=True)], Cost : 0.094\n",
      "Epoch : 4000, Model : [Parameter containing:\n",
      "tensor([[ 0.8886, -0.0956]], requires_grad=True), Parameter containing:\n",
      "tensor([1.0486], requires_grad=True)], Cost : 0.075\n",
      "Epoch : 5000, Model : [Parameter containing:\n",
      "tensor([[ 0.8811, -0.1031]], requires_grad=True), Parameter containing:\n",
      "tensor([1.1354], requires_grad=True)], Cost : 0.067\n",
      "Epoch : 6000, Model : [Parameter containing:\n",
      "tensor([[ 0.8764, -0.1078]], requires_grad=True), Parameter containing:\n",
      "tensor([1.1906], requires_grad=True)], Cost : 0.064\n",
      "Epoch : 7000, Model : [Parameter containing:\n",
      "tensor([[ 0.8734, -0.1109]], requires_grad=True), Parameter containing:\n",
      "tensor([1.2259], requires_grad=True)], Cost : 0.063\n",
      "Epoch : 8000, Model : [Parameter containing:\n",
      "tensor([[ 0.8714, -0.1128]], requires_grad=True), Parameter containing:\n",
      "tensor([1.2483], requires_grad=True)], Cost : 0.062\n",
      "Epoch : 9000, Model : [Parameter containing:\n",
      "tensor([[ 0.8702, -0.1140]], requires_grad=True), Parameter containing:\n",
      "tensor([1.2626], requires_grad=True)], Cost : 0.062\n",
      "Epoch : 10000, Model : [Parameter containing:\n",
      "tensor([[ 0.8694, -0.1148]], requires_grad=True), Parameter containing:\n",
      "tensor([1.2717], requires_grad=True)], Cost : 0.062\n"
     ]
    }
   ],
   "source": [
    "x = torch.FloatTensor([\n",
    "    [0, 1], [1, 2], [2, 3], [3, 4], [4, 5],\n",
    "    [5, 6], [6, 7], [7, 8], [8, 9], [9, 0]\n",
    "])\n",
    "y = torch.FloatTensor([\n",
    "    [0.94], [1.98], [2.88], [3.92], [3.96],\n",
    "    [4.55], [5.64], [6.30], [7.44], [9.10]\n",
    "])\n",
    "\n",
    "model = nn.Linear(2, 1)\n",
    "criterion = nn.MSELoss()\n",
    "optimizer = optim.SGD(model.parameters(), lr=0.001)\n",
    "\n",
    "for epoch in range(10000):\n",
    "    y_pred = model(x)\n",
    "    cost = criterion(y_pred, y)\n",
    "\n",
    "    optimizer.zero_grad()\n",
    "    cost.backward()\n",
    "    optimizer.step()\n",
    "\n",
    "    if (epoch + 1) % 1000 == 0:\n",
    "        print(f\"Epoch : {epoch + 1:4d}, Model : {list(model.parameters())}, Cost : {cost:.3f}\")"
   ],
   "metadata": {
    "collapsed": false,
    "pycharm": {
     "name": "#%%\n"
    }
   }
  },
  {
   "cell_type": "code",
   "execution_count": 2,
   "outputs": [],
   "source": [],
   "metadata": {
    "collapsed": false,
    "pycharm": {
     "name": "#%%\n"
    }
   }
  }
 ],
 "metadata": {
  "kernelspec": {
   "display_name": "Python 3",
   "language": "python",
   "name": "python3"
  },
  "language_info": {
   "codemirror_mode": {
    "name": "ipython",
    "version": 2
   },
   "file_extension": ".py",
   "mimetype": "text/x-python",
   "name": "python",
   "nbconvert_exporter": "python",
   "pygments_lexer": "ipython2",
   "version": "2.7.6"
  }
 },
 "nbformat": 4,
 "nbformat_minor": 0
}