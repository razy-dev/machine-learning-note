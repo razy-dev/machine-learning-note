{
 "cells": [
  {
   "cell_type": "code",
   "execution_count": 5,
   "metadata": {
    "collapsed": true,
    "pycharm": {
     "name": "#%%\n"
    }
   },
   "outputs": [],
   "source": [
    "import torch\n",
    "from torch import nn\n",
    "from torch import optim"
   ]
  },
  {
   "cell_type": "code",
   "execution_count": 6,
   "outputs": [
    {
     "name": "stdout",
     "output_type": "stream",
     "text": [
      "Epoch : 1000, Model : [Parameter containing:\n",
      "tensor([[ 0.9027, -0.0814]], requires_grad=True), Parameter containing:\n",
      "tensor([0.8838], requires_grad=True)], Cost : 0.099\n",
      "Epoch : 2000, Model : [Parameter containing:\n",
      "tensor([[ 0.8902, -0.0940]], requires_grad=True), Parameter containing:\n",
      "tensor([1.0303], requires_grad=True)], Cost : 0.077\n",
      "Epoch : 3000, Model : [Parameter containing:\n",
      "tensor([[ 0.8821, -0.1021]], requires_grad=True), Parameter containing:\n",
      "tensor([1.1237], requires_grad=True)], Cost : 0.068\n",
      "Epoch : 4000, Model : [Parameter containing:\n",
      "tensor([[ 0.8770, -0.1072]], requires_grad=True), Parameter containing:\n",
      "tensor([1.1832], requires_grad=True)], Cost : 0.064\n",
      "Epoch : 5000, Model : [Parameter containing:\n",
      "tensor([[ 0.8738, -0.1105]], requires_grad=True), Parameter containing:\n",
      "tensor([1.2211], requires_grad=True)], Cost : 0.063\n",
      "Epoch : 6000, Model : [Parameter containing:\n",
      "tensor([[ 0.8717, -0.1125]], requires_grad=True), Parameter containing:\n",
      "tensor([1.2453], requires_grad=True)], Cost : 0.062\n",
      "Epoch : 7000, Model : [Parameter containing:\n",
      "tensor([[ 0.8704, -0.1139]], requires_grad=True), Parameter containing:\n",
      "tensor([1.2607], requires_grad=True)], Cost : 0.062\n",
      "Epoch : 8000, Model : [Parameter containing:\n",
      "tensor([[ 0.8695, -0.1147]], requires_grad=True), Parameter containing:\n",
      "tensor([1.2705], requires_grad=True)], Cost : 0.062\n",
      "Epoch : 9000, Model : [Parameter containing:\n",
      "tensor([[ 0.8690, -0.1152]], requires_grad=True), Parameter containing:\n",
      "tensor([1.2768], requires_grad=True)], Cost : 0.062\n",
      "Epoch : 10000, Model : [Parameter containing:\n",
      "tensor([[ 0.8686, -0.1156]], requires_grad=True), Parameter containing:\n",
      "tensor([1.2807], requires_grad=True)], Cost : 0.062\n"
     ]
    }
   ],
   "source": [
    "x = torch.FloatTensor([\n",
    "    [0, 1], [1, 2], [2, 3], [3, 4], [4, 5],\n",
    "    [5, 6], [6, 7], [7, 8], [8, 9], [9, 0]\n",
    "])\n",
    "y = torch.FloatTensor([\n",
    "    [0.94], [1.98], [2.88], [3.92], [3.96],\n",
    "    [4.55], [5.64], [6.30], [7.44], [9.10]\n",
    "])\n",
    "\n",
    "model = nn.Linear(2, 1)\n",
    "criterion = nn.MSELoss()\n",
    "optimizer = optim.SGD(model.parameters(), lr=0.001)\n",
    "\n",
    "for epoch in range(10000):\n",
    "    y_pred = model(x)\n",
    "    cost = criterion(y_pred, y)\n",
    "\n",
    "    optimizer.zero_grad()\n",
    "    cost.backward()\n",
    "    optimizer.step()\n",
    "\n",
    "    if (epoch + 1) % 1000 == 0:\n",
    "        print(f\"Epoch : {epoch + 1:4d}, Model : {list(model.parameters())}, Cost : {cost:.3f}\")"
   ],
   "metadata": {
    "collapsed": false,
    "pycharm": {
     "name": "#%%\n"
    }
   }
  },
  {
   "cell_type": "code",
   "execution_count": 6,
   "outputs": [],
   "source": [],
   "metadata": {
    "collapsed": false,
    "pycharm": {
     "name": "#%%\n"
    }
   }
  }
 ],
 "metadata": {
  "kernelspec": {
   "display_name": "Python 3",
   "language": "python",
   "name": "python3"
  },
  "language_info": {
   "codemirror_mode": {
    "name": "ipython",
    "version": 2
   },
   "file_extension": ".py",
   "mimetype": "text/x-python",
   "name": "python",
   "nbconvert_exporter": "python",
   "pygments_lexer": "ipython2",
   "version": "2.7.6"
  }
 },
 "nbformat": 4,
 "nbformat_minor": 0
}