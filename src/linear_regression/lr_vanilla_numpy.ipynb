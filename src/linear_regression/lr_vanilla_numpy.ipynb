{
 "cells": [
  {
   "cell_type": "code",
   "execution_count": null,
   "outputs": [],
   "source": [
    "import numpy as np\n",
    "from matplotlib import pyplot as plt\n",
    "from numpy import ndarray"
   ],
   "metadata": {
    "collapsed": false,
    "pycharm": {
     "name": "#%%\n"
    }
   }
  },
  {
   "cell_type": "code",
   "execution_count": null,
   "outputs": [],
   "source": [],
   "metadata": {
    "collapsed": false,
    "pycharm": {
     "name": "#%%\n"
    }
   }
  },
  {
   "cell_type": "code",
   "execution_count": null,
   "outputs": [],
   "source": [
    "MAX = 100\n",
    "x = np.linspace(0, 10, MAX, endpoint=True)\n",
    "y = 10 * x + np.random.randint(-10, 10, MAX)\n",
    "plt.scatter(x, y)"
   ],
   "metadata": {
    "collapsed": false,
    "pycharm": {
     "name": "#%%\n"
    }
   }
  },
  {
   "cell_type": "code",
   "execution_count": null,
   "outputs": [],
   "source": [
    "w = 5\n",
    "b = 1\n",
    "\n",
    "\n",
    "def hypothesis(x):\n",
    "    return w * x + b"
   ],
   "metadata": {
    "collapsed": false,
    "pycharm": {
     "name": "#%%\n"
    }
   }
  },
  {
   "cell_type": "code",
   "execution_count": null,
   "outputs": [],
   "source": [
    "def cost(input: ndarray, target: ndarray):\n",
    "    return np.sum((input - target) ** 2) / len(y)"
   ],
   "metadata": {
    "collapsed": false,
    "pycharm": {
     "name": "#%%\n"
    }
   }
  },
  {
   "cell_type": "code",
   "execution_count": null,
   "outputs": [],
   "source": [
    "def dcost_dw(input: ndarray, target: ndarray, x: ndarray):\n",
    "    return (-2 / len(target)) * np.sum(x * (target - input))"
   ],
   "metadata": {
    "collapsed": false,
    "pycharm": {
     "name": "#%%\n"
    }
   }
  },
  {
   "cell_type": "code",
   "execution_count": null,
   "outputs": [],
   "source": [
    "def dcost_db(input: ndarray, target: ndarray):\n",
    "    return (-2 / len(target)) * np.sum(target - input)"
   ],
   "metadata": {
    "collapsed": false,
    "pycharm": {
     "name": "#%%\n"
    }
   }
  },
  {
   "cell_type": "code",
   "execution_count": null,
   "outputs": [],
   "source": [
    "costs = []\n",
    "lr = 0.001\n",
    "print(f\"int : cost = {0} H(x) = {w}x + {b}\")\n",
    "for e in range(100):\n",
    "    y_pred = hypothesis(x)\n",
    "    costs.append(cost(y_pred, y))\n",
    "    w = w - lr * dcost_dw(y_pred, y, x)\n",
    "    b = b - lr * dcost_db(y_pred, y)\n",
    "\n",
    "    print(f\"{e:4} : cost = {costs[-1]} H(x) = {w}x + {b}\")\n",
    "    plt.subplot(211)\n",
    "    if not e % 10: plt.plot(x, hypothesis(x), '--y', label=f\"epoch {e}\")"
   ],
   "metadata": {
    "collapsed": false,
    "pycharm": {
     "name": "#%%\n"
    }
   }
  },
  {
   "cell_type": "code",
   "execution_count": null,
   "outputs": [],
   "source": [
    "plt.subplot(211)\n",
    "plt.plot(x, y, 'oc')\n",
    "plt.plot(x, hypothesis(x), 'r')\n",
    "plt.xlabel('x axis')\n",
    "plt.ylabel('y axis')"
   ],
   "metadata": {
    "collapsed": false,
    "pycharm": {
     "name": "#%%\n"
    }
   }
  },
  {
   "cell_type": "code",
   "execution_count": null,
   "outputs": [],
   "source": [
    "plt.subplot(212)\n",
    "plt.plot(costs)\n",
    "plt.xlabel('epoch')\n",
    "plt.ylabel('cost')"
   ],
   "metadata": {
    "collapsed": false,
    "pycharm": {
     "name": "#%%\n"
    }
   }
  }
 ],
 "metadata": {
  "kernelspec": {
   "display_name": "Python 3",
   "language": "python",
   "name": "python3"
  },
  "language_info": {
   "codemirror_mode": {
    "name": "ipython",
    "version": 2
   },
   "file_extension": ".py",
   "mimetype": "text/x-python",
   "name": "python",
   "nbconvert_exporter": "python",
   "pygments_lexer": "ipython2",
   "version": "2.7.6"
  }
 },
 "nbformat": 4,
 "nbformat_minor": 0
}