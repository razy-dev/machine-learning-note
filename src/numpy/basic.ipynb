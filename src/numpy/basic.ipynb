{
 "cells": [
  {
   "cell_type": "code",
   "execution_count": 52,
   "outputs": [],
   "source": [
    "import numpy as np"
   ],
   "metadata": {
    "collapsed": false,
    "pycharm": {
     "name": "#%%\n"
    }
   }
  },
  {
   "cell_type": "code",
   "execution_count": 53,
   "outputs": [
    {
     "name": "stdout",
     "output_type": "stream",
     "text": [
      "[[[ 1  2]\n",
      "  [ 3  4]]\n",
      "\n",
      " [[ 5  6]\n",
      "  [ 7  8]]\n",
      "\n",
      " [[ 9 10]\n",
      "  [11 12]]]\n",
      "(3, 2, 2)\n",
      "\n",
      " [[15 18]\n",
      " [21 24]]\n",
      "\n",
      " [[ 4  6]\n",
      " [12 14]\n",
      " [20 22]]\n",
      "\n",
      " [[ 3  7]\n",
      " [11 15]\n",
      " [19 23]]\n"
     ]
    }
   ],
   "source": [
    "x = np.array([\n",
    "    [\n",
    "        [1, 2],\n",
    "        [3, 4]\n",
    "    ],\n",
    "    [\n",
    "        [5, 6],\n",
    "        [7, 8]\n",
    "    ],\n",
    "    [\n",
    "        [9, 10],\n",
    "        [11, 12]\n",
    "    ]\n",
    "])\n",
    "print(x)\n",
    "print(x.shape)\n",
    "\n",
    "print(\"\\n\", np.sum(x, axis=0))\n",
    "print(\"\\n\", np.sum(x, axis=1))\n",
    "print(\"\\n\", np.sum(x, axis=2))"
   ],
   "metadata": {
    "collapsed": false,
    "pycharm": {
     "name": "#%%\n"
    }
   }
  },
  {
   "cell_type": "code",
   "execution_count": 59,
   "outputs": [
    {
     "name": "stdout",
     "output_type": "stream",
     "text": [
      "[1 2 3 4 5]\n",
      "(5,)\n"
     ]
    }
   ],
   "source": [
    "a = np.linspace(1, 5, 5, endpoint=True, dtype=\"int\")\n",
    "print(a)\n",
    "print(a.shape)"
   ],
   "metadata": {
    "collapsed": false,
    "pycharm": {
     "name": "#%%\n"
    }
   }
  },
  {
   "cell_type": "code",
   "execution_count": 58,
   "outputs": [
    {
     "name": "stdout",
     "output_type": "stream",
     "text": [
      "[[0 1 2 3 4 5]]\n",
      "(1, 6)\n",
      "[[0]\n",
      " [1]\n",
      " [2]\n",
      " [3]\n",
      " [4]\n",
      " [5]]\n",
      "(6, 1)\n"
     ]
    }
   ],
   "source": [
    "a0 = np.expand_dims(a, axis=0)\n",
    "print(a0)\n",
    "print(a0.shape)\n",
    "\n",
    "a1 = np.expand_dims(a, axis=1)\n",
    "print(a1)\n",
    "print(a1.shape)"
   ],
   "metadata": {
    "collapsed": false,
    "pycharm": {
     "name": "#%%\n"
    }
   }
  },
  {
   "cell_type": "code",
   "execution_count": 62,
   "outputs": [
    {
     "name": "stdout",
     "output_type": "stream",
     "text": [
      "[ 1  2  3  4  5  6  7  8  9 10]\n",
      "[ 1  2  3  4  5  6  7  8  9 10]\n",
      "[ 1  2  3  4  5  6  7  8  9 10]\n"
     ]
    }
   ],
   "source": [
    "b = np.linspace(6, 10, 5, endpoint=True, dtype=\"int\")\n",
    "\n",
    "r_ab = np.r_[a, b]\n",
    "print(r_ab)\n",
    "\n",
    "hstack_ab = np.hstack([a, b])\n",
    "print(hstack_ab)\n",
    "\n",
    "con_ab = np.concatenate((a, b), axis=0)\n",
    "print(con_ab)"
   ],
   "metadata": {
    "collapsed": false,
    "pycharm": {
     "name": "#%%\n"
    }
   }
  },
  {
   "cell_type": "code",
   "execution_count": 68,
   "outputs": [
    {
     "name": "stdout",
     "output_type": "stream",
     "text": [
      "[[ 1  2  3  4  5]\n",
      " [ 6  7  8  9 10]]\n",
      "[[ 1  2  3  4  5]\n",
      " [ 6  7  8  9 10]]\n",
      "[[ 1  2  3  4  5]\n",
      " [ 6  7  8  9 10]\n",
      " [ 1  2  3  4  5]\n",
      " [ 6  7  8  9 10]]\n",
      "[[ 1  2  3  4  5  1  2  3  4  5]\n",
      " [ 6  7  8  9 10  6  7  8  9 10]]\n"
     ]
    }
   ],
   "source": [
    "b = np.linspace(6, 10, 5, endpoint=True, dtype=\"int\")\n",
    "\n",
    "r_ab = np.r_[[a], [b]]\n",
    "print(r_ab)\n",
    "\n",
    "vstack_ab = np.vstack([a, b])\n",
    "print(vstack_ab)\n",
    "\n",
    "con0_ab = np.concatenate((r_ab, vstack_ab), axis=0)\n",
    "print(con0_ab)\n",
    "\n",
    "con1_ab = np.concatenate((r_ab, vstack_ab), axis=1)\n",
    "print(con1_ab)"
   ],
   "metadata": {
    "collapsed": false,
    "pycharm": {
     "name": "#%%\n"
    }
   }
  },
  {
   "cell_type": "code",
   "execution_count": 72,
   "outputs": [
    {
     "name": "stdout",
     "output_type": "stream",
     "text": [
      "[[ 1  6]\n",
      " [ 2  7]\n",
      " [ 3  8]\n",
      " [ 4  9]\n",
      " [ 5 10]]\n",
      "[[ 1  6]\n",
      " [ 2  7]\n",
      " [ 3  8]\n",
      " [ 4  9]\n",
      " [ 5 10]]\n",
      "[[ 1  2  3  4  5]\n",
      " [ 6  7  8  9 10]]\n",
      "[[ 1  2  3  4  5]\n",
      " [ 6  7  8  9 10]]\n",
      "[[ 1  2  3  4  5]\n",
      " [ 6  7  8  9 10]\n",
      " [ 1  2  3  4  5]\n",
      " [ 6  7  8  9 10]]\n",
      "[[ 1  2  3  4  5  1  2  3  4  5]\n",
      " [ 6  7  8  9 10  6  7  8  9 10]]\n"
     ]
    }
   ],
   "source": [
    "b = np.linspace(6, 10, 5, endpoint=True, dtype=\"int\")\n",
    "\n",
    "c_ab = np.c_[a, b]\n",
    "print(c_ab)\n",
    "\n",
    "cstack_ab = np.column_stack([a, b])\n",
    "print(cstack_ab)\n",
    "\n",
    "print(c_ab.T)\n",
    "print(cstack_ab.T)\n",
    "con0_ab = np.concatenate((c_ab.T, cstack_ab.T), axis=0)\n",
    "print(con0_ab)\n",
    "\n",
    "con1_ab = np.concatenate((c_ab.T, cstack_ab.T), axis=1)\n",
    "print(con1_ab)"
   ],
   "metadata": {
    "collapsed": false,
    "pycharm": {
     "name": "#%%\n"
    }
   }
  },
  {
   "cell_type": "code",
   "execution_count": 73,
   "outputs": [
    {
     "name": "stdout",
     "output_type": "stream",
     "text": [
      "[[1 2 3 0 0 4 5 6]]\n"
     ]
    }
   ],
   "source": [
    "print(np.c_[np.array([[1, 2, 3]]), 0, 0, np.array([[4, 5, 6]])])"
   ],
   "metadata": {
    "collapsed": false,
    "pycharm": {
     "name": "#%%\n"
    }
   }
  },
  {
   "cell_type": "code",
   "execution_count": null,
   "outputs": [],
   "source": [],
   "metadata": {
    "collapsed": false,
    "pycharm": {
     "name": "#%%\n"
    }
   }
  }
 ],
 "metadata": {
  "kernelspec": {
   "display_name": "Python 3",
   "language": "python",
   "name": "python3"
  },
  "language_info": {
   "codemirror_mode": {
    "name": "ipython",
    "version": 2
   },
   "file_extension": ".py",
   "mimetype": "text/x-python",
   "name": "python",
   "nbconvert_exporter": "python",
   "pygments_lexer": "ipython2",
   "version": "2.7.6"
  }
 },
 "nbformat": 4,
 "nbformat_minor": 0
}