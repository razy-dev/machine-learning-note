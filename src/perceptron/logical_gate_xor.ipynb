{
 "cells": [
  {
   "cell_type": "code",
   "execution_count": 51,
   "metadata": {
    "collapsed": true,
    "pycharm": {
     "name": "#%%\n"
    }
   },
   "outputs": [],
   "source": [
    "import torch\n",
    "from torch import nn\n",
    "from torch import optim\n",
    "\n",
    "torch.manual_seed(777)\n",
    "if torch.cuda.is_available():\n",
    "    device = 'cuda'\n",
    "    torch.cuda.manual_seed_all(777)\n",
    "else:\n",
    "    device = 'cpu'"
   ]
  },
  {
   "cell_type": "code",
   "execution_count": 52,
   "outputs": [
    {
     "name": "stdout",
     "output_type": "stream",
     "text": [
      "Model : Inputs = 2 | Hidden Outputs = 2 | Output = 1 | Layers = 2\n",
      "\n",
      "Start ... for 10000\n",
      "Epoch : 1000, Cost : 0.693\n",
      "Epoch : 2000, Cost : 0.693\n",
      "Epoch : 3000, Cost : 0.693\n",
      "Epoch : 4000, Cost : 0.486\n",
      "Epoch : 5000, Cost : 0.018\n",
      "Epoch : 6000, Cost : 0.006\n",
      "Epoch : 7000, Cost : 0.004\n",
      "Epoch : 8000, Cost : 0.003\n",
      "Epoch : 9000, Cost : 0.002\n",
      "Epoch : 10000, Cost : 0.002\n",
      "\n",
      "Final Cost =  tensor(0.0016, grad_fn=<BinaryCrossEntropyBackward0>)\n",
      "x = tensor([[0., 0.],\n",
      "        [0., 1.],\n",
      "        [1., 0.],\n",
      "        [1., 1.]])\n",
      "o =  tensor([[False],\n",
      "        [ True],\n",
      "        [ True],\n",
      "        [False]])\n",
      "y = tensor([[0.],\n",
      "        [1.],\n",
      "        [1.],\n",
      "        [0.]])\n"
     ]
    }
   ],
   "source": [
    "x = torch.FloatTensor([[0, 0], [0, 1], [1, 0], [1, 1]]).to(device)\n",
    "y = torch.FloatTensor([[0], [1], [1], [0]]).to(device)\n",
    "\n",
    "INPUTS = 2\n",
    "HIDDEN_INPUTS = 2\n",
    "OUTPUTS = 1\n",
    "\n",
    "\n",
    "class GateModel(nn.Module):\n",
    "    def __init__(self, i, h, o=1, l=1):\n",
    "        super(GateModel, self).__init__()\n",
    "\n",
    "        print(f\"Model : Inputs = {i} | Hidden Outputs = {h} | Output = {o} | Layers = {l}\")\n",
    "        self.layer = nn.Sequential()\n",
    "        if not l or l == 1:\n",
    "            self.layer.append(nn.Linear(i, o, bias=True))\n",
    "            self.layer.append(nn.Sigmoid())\n",
    "        elif l and l > 1:\n",
    "            self.layer.append(nn.Linear(i, h, bias=True))\n",
    "            self.layer.append(nn.Sigmoid())\n",
    "            for k in range(l - 1):\n",
    "                self.layer.append(nn.Linear(h, h, bias=True))\n",
    "                self.layer.append(nn.Sigmoid())\n",
    "            self.layer.append(nn.Linear(h, o, bias=True))\n",
    "            self.layer.append(nn.Sigmoid())\n",
    "\n",
    "    def forward(self, x):\n",
    "        return self.layer(x)\n",
    "\n",
    "\n",
    "def train(x, y, model, criterion, optimizer, epochs=10000):\n",
    "    #[l.reset_parameters() for l in model.layer if isinstance(l, nn.Conv2d) or isinstance(l, nn.Linear)]\n",
    "\n",
    "    priod = round(epochs / 10)\n",
    "    print(f\"\\nStart ... for {epochs}\")\n",
    "    for epoch in range(epochs):\n",
    "        output = model(x)\n",
    "        loss = criterion(output, y)\n",
    "\n",
    "        optimizer.zero_grad()\n",
    "        loss.backward()\n",
    "        optimizer.step()\n",
    "\n",
    "        if (epoch + 1) % priod == 0: print(f\"Epoch : {epoch + 1:4d}, Cost : {loss:.3f}\")\n",
    "    print(\"\\nFinal Cost = \", loss)\n",
    "\n",
    "    with torch.no_grad():\n",
    "        model.eval()\n",
    "        print(\"x =\", x)\n",
    "        print(\"o = \", model(x) > 0.5)\n",
    "        print(\"y =\", y)\n",
    "\n",
    "\n",
    "model = GateModel(2, 2, l=2).to(device)\n",
    "criterion = nn.BCELoss().to(device)\n",
    "optimizer = torch.optim.SGD(model.parameters(), lr=1)\n",
    "\n",
    "train(x, y, model, criterion, optimizer)"
   ],
   "metadata": {
    "collapsed": false,
    "pycharm": {
     "name": "#%%\n"
    }
   }
  },
  {
   "cell_type": "code",
   "execution_count": 52,
   "outputs": [],
   "source": [],
   "metadata": {
    "collapsed": false,
    "pycharm": {
     "name": "#%%\n"
    }
   }
  }
 ],
 "metadata": {
  "kernelspec": {
   "display_name": "Python 3",
   "language": "python",
   "name": "python3"
  },
  "language_info": {
   "codemirror_mode": {
    "name": "ipython",
    "version": 2
   },
   "file_extension": ".py",
   "mimetype": "text/x-python",
   "name": "python",
   "nbconvert_exporter": "python",
   "pygments_lexer": "ipython2",
   "version": "2.7.6"
  }
 },
 "nbformat": 4,
 "nbformat_minor": 0
}