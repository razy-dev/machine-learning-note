{
 "cells": [
  {
   "cell_type": "code",
   "execution_count": 28,
   "outputs": [
    {
     "name": "stdout",
     "output_type": "stream",
     "text": [
      "tensor([1., 2., 3., 4., 5.]) tensor([0.0667, 0.1333, 0.2000, 0.2667, 0.3333]) tensor(1.)\n",
      "tensor([1., 2., 3., 4., 5.]) tensor([0.0117, 0.0317, 0.0861, 0.2341, 0.6364]) tensor(1.)\n"
     ]
    }
   ],
   "source": [
    "import torch\n",
    "\n",
    "x = torch.Tensor([\n",
    "    1, 2, 3, 4, 5\n",
    "])\n",
    "\n",
    "z1 = x / x.sum()\n",
    "print(x, z1, z1.sum())\n",
    "z2 = x.exp() / x.exp().sum()\n",
    "print(x, z2, z2.sum())"
   ],
   "metadata": {
    "collapsed": false,
    "pycharm": {
     "name": "#%%\n"
    }
   }
  },
  {
   "cell_type": "code",
   "execution_count": 22,
   "outputs": [],
   "source": [
    "def softmax(x):\n",
    "    print(x)\n",
    "    e = x.exp()\n",
    "    print(x, e)\n",
    "    #return x.exp() / x.exp().sum()\n",
    "    return x / x.sum()"
   ],
   "metadata": {
    "collapsed": false,
    "pycharm": {
     "name": "#%%\n"
    }
   }
  },
  {
   "cell_type": "code",
   "execution_count": 23,
   "outputs": [
    {
     "name": "stdout",
     "output_type": "stream",
     "text": [
      "tensor([1., 2., 3.])\n",
      "tensor([1., 2., 3.]) tensor([ 2.7183,  7.3891, 20.0855])\n",
      "tensor([0.1667, 0.3333, 0.5000])\n",
      "tensor(1.)\n"
     ]
    }
   ],
   "source": [
    "z = softmax(x)\n",
    "print(z)\n",
    "print(z.sum())"
   ],
   "metadata": {
    "collapsed": false,
    "pycharm": {
     "name": "#%%\n"
    }
   }
  },
  {
   "cell_type": "code",
   "execution_count": null,
   "outputs": [],
   "source": [],
   "metadata": {
    "collapsed": false,
    "pycharm": {
     "name": "#%%\n"
    }
   }
  }
 ],
 "metadata": {
  "kernelspec": {
   "display_name": "Python 3",
   "language": "python",
   "name": "python3"
  },
  "language_info": {
   "codemirror_mode": {
    "name": "ipython",
    "version": 2
   },
   "file_extension": ".py",
   "mimetype": "text/x-python",
   "name": "python",
   "nbconvert_exporter": "python",
   "pygments_lexer": "ipython2",
   "version": "2.7.6"
  }
 },
 "nbformat": 4,
 "nbformat_minor": 0
}