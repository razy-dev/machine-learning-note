{
 "cells": [
  {
   "cell_type": "markdown",
   "source": [
    "## DatatSet"
   ],
   "metadata": {
    "collapsed": false,
    "pycharm": {
     "name": "#%% md\n"
    }
   }
  },
  {
   "cell_type": "code",
   "execution_count": 1,
   "outputs": [],
   "source": [
    "import torch\n",
    "from torch.utils.data import Dataset\n",
    "from torchvision import datasets\n",
    "from torchvision.transforms import ToTensor\n",
    "import matplotlib.pyplot as plt"
   ],
   "metadata": {
    "collapsed": false,
    "pycharm": {
     "name": "#%%\n"
    }
   }
  },
  {
   "cell_type": "code",
   "execution_count": 2,
   "outputs": [
    {
     "name": "stdout",
     "output_type": "stream",
     "text": [
      "Downloading http://fashion-mnist.s3-website.eu-central-1.amazonaws.com/train-images-idx3-ubyte.gz\n",
      "Downloading http://fashion-mnist.s3-website.eu-central-1.amazonaws.com/train-images-idx3-ubyte.gz to data/FashionMNIST/raw/train-images-idx3-ubyte.gz\n"
     ]
    },
    {
     "name": "stderr",
     "output_type": "stream",
     "text": [
      "100.0%\n"
     ]
    },
    {
     "name": "stdout",
     "output_type": "stream",
     "text": [
      "Extracting data/FashionMNIST/raw/train-images-idx3-ubyte.gz to data/FashionMNIST/raw\n",
      "\n",
      "Downloading http://fashion-mnist.s3-website.eu-central-1.amazonaws.com/train-labels-idx1-ubyte.gz\n",
      "Downloading http://fashion-mnist.s3-website.eu-central-1.amazonaws.com/train-labels-idx1-ubyte.gz to data/FashionMNIST/raw/train-labels-idx1-ubyte.gz\n"
     ]
    },
    {
     "name": "stderr",
     "output_type": "stream",
     "text": [
      "100.0%\n"
     ]
    },
    {
     "name": "stdout",
     "output_type": "stream",
     "text": [
      "Extracting data/FashionMNIST/raw/train-labels-idx1-ubyte.gz to data/FashionMNIST/raw\n",
      "\n",
      "Downloading http://fashion-mnist.s3-website.eu-central-1.amazonaws.com/t10k-images-idx3-ubyte.gz\n",
      "Downloading http://fashion-mnist.s3-website.eu-central-1.amazonaws.com/t10k-images-idx3-ubyte.gz to data/FashionMNIST/raw/t10k-images-idx3-ubyte.gz\n"
     ]
    },
    {
     "name": "stderr",
     "output_type": "stream",
     "text": [
      "100.0%\n"
     ]
    },
    {
     "name": "stdout",
     "output_type": "stream",
     "text": [
      "Extracting data/FashionMNIST/raw/t10k-images-idx3-ubyte.gz to data/FashionMNIST/raw\n",
      "\n",
      "Downloading http://fashion-mnist.s3-website.eu-central-1.amazonaws.com/t10k-labels-idx1-ubyte.gz\n",
      "Downloading http://fashion-mnist.s3-website.eu-central-1.amazonaws.com/t10k-labels-idx1-ubyte.gz to data/FashionMNIST/raw/t10k-labels-idx1-ubyte.gz\n"
     ]
    },
    {
     "name": "stderr",
     "output_type": "stream",
     "text": [
      "100.0%"
     ]
    },
    {
     "name": "stdout",
     "output_type": "stream",
     "text": [
      "Extracting data/FashionMNIST/raw/t10k-labels-idx1-ubyte.gz to data/FashionMNIST/raw\n",
      "\n"
     ]
    },
    {
     "name": "stderr",
     "output_type": "stream",
     "text": [
      "\n"
     ]
    }
   ],
   "source": [
    "training_data = datasets.FashionMNIST(\n",
    "    root=\"data\",\n",
    "    train=True,\n",
    "    download=True,\n",
    "    transform=ToTensor()\n",
    ")\n",
    "\n",
    "test_data = datasets.FashionMNIST(\n",
    "    root=\"data\",\n",
    "    train=False,\n",
    "    download=True,\n",
    "    transform=ToTensor()\n",
    ")"
   ],
   "metadata": {
    "collapsed": false,
    "pycharm": {
     "name": "#%%\n"
    }
   }
  },
  {
   "cell_type": "markdown",
   "source": [
    "## DataLoader"
   ],
   "metadata": {
    "collapsed": false,
    "pycharm": {
     "name": "#%% md\n"
    }
   }
  },
  {
   "cell_type": "code",
   "execution_count": 3,
   "outputs": [],
   "source": [
    "from torch.utils.data import DataLoader\n",
    "\n",
    "train_dataloader = DataLoader(training_data, batch_size=64, shuffle=True)\n",
    "test_dataloader = DataLoader(test_data, batch_size=64, shuffle=True)"
   ],
   "metadata": {
    "collapsed": false,
    "pycharm": {
     "name": "#%%\n"
    }
   }
  },
  {
   "cell_type": "code",
   "execution_count": 10,
   "outputs": [
    {
     "name": "stdout",
     "output_type": "stream",
     "text": [
      "Feature batch shape: torch.Size([64, 1, 28, 28])\n",
      "Labels batch shape: torch.Size([64])\n",
      "torch.Size([28, 28])\n",
      "tensor([[0.0000, 0.0000, 0.0000, 0.0000, 0.0000, 0.0000, 0.0157, 0.0000, 0.0000,\n",
      "         0.0000, 0.2235, 0.1804, 0.0000, 0.0000, 0.0000, 0.1961, 0.3451, 0.0000,\n",
      "         0.0000, 0.0000, 0.0039, 0.0000, 0.0000, 0.0000, 0.0000, 0.0000, 0.0000,\n",
      "         0.0000],\n",
      "        [0.0000, 0.0000, 0.0000, 0.0000, 0.0000, 0.0157, 0.0000, 0.0000, 0.2235,\n",
      "         0.6824, 0.8706, 0.7098, 0.8275, 1.0000, 0.8784, 0.7333, 0.8941, 0.8039,\n",
      "         0.4078, 0.0000, 0.0000, 0.0000, 0.0000, 0.0000, 0.0000, 0.0000, 0.0000,\n",
      "         0.0000],\n",
      "        [0.0000, 0.0000, 0.0000, 0.0000, 0.0157, 0.0000, 0.1176, 0.8314, 0.8000,\n",
      "         0.7569, 0.7608, 0.7725, 0.7529, 0.7843, 0.7490, 0.7725, 0.7608, 0.7216,\n",
      "         0.7922, 0.7373, 0.3255, 0.0000, 0.0000, 0.0000, 0.0000, 0.0000, 0.0000,\n",
      "         0.0000],\n",
      "        [0.0000, 0.0000, 0.0000, 0.0000, 0.0000, 0.0000, 0.7176, 0.7412, 0.6745,\n",
      "         0.6902, 0.6549, 0.6745, 0.7059, 0.7137, 0.7255, 0.6824, 0.6667, 0.7137,\n",
      "         0.7020, 0.7137, 0.8588, 0.0902, 0.0000, 0.0157, 0.0000, 0.0000, 0.0000,\n",
      "         0.0000],\n",
      "        [0.0000, 0.0000, 0.0000, 0.0000, 0.0000, 0.2745, 0.8118, 0.7255, 0.7333,\n",
      "         0.7412, 0.7373, 0.6863, 0.6941, 0.6941, 0.6706, 0.6667, 0.7373, 0.7451,\n",
      "         0.7569, 0.7647, 0.7922, 0.4235, 0.0000, 0.0078, 0.0000, 0.0000, 0.0000,\n",
      "         0.0000],\n",
      "        [0.0000, 0.0000, 0.0000, 0.0000, 0.0000, 0.6118, 0.7843, 0.7961, 0.7608,\n",
      "         0.7294, 0.7294, 0.6902, 0.7490, 0.7647, 0.7255, 0.7020, 0.7569, 0.7725,\n",
      "         0.8157, 0.8235, 0.7608, 0.7216, 0.0000, 0.0000, 0.0000, 0.0000, 0.0000,\n",
      "         0.0000],\n",
      "        [0.0000, 0.0000, 0.0000, 0.0000, 0.0000, 0.7412, 0.7922, 0.8078, 0.8157,\n",
      "         0.7765, 0.7451, 0.7059, 0.7451, 0.7490, 0.7255, 0.6549, 0.7059, 0.7804,\n",
      "         0.8196, 0.8196, 0.7725, 0.8902, 0.0000, 0.0000, 0.0000, 0.0000, 0.0000,\n",
      "         0.0000],\n",
      "        [0.0000, 0.0000, 0.0000, 0.0000, 0.0000, 0.8235, 0.7882, 0.8392, 0.8588,\n",
      "         0.7725, 0.7098, 0.7490, 0.7922, 0.7490, 0.7529, 0.7412, 0.7451, 0.7765,\n",
      "         0.8471, 0.8314, 0.7725, 0.8157, 0.1725, 0.0000, 0.0000, 0.0000, 0.0000,\n",
      "         0.0000],\n",
      "        [0.0000, 0.0000, 0.0000, 0.0000, 0.0000, 0.9098, 0.8118, 0.9255, 0.9804,\n",
      "         0.8157, 0.7882, 0.8510, 0.8314, 0.7373, 0.7843, 0.8588, 0.8196, 0.8118,\n",
      "         0.9569, 0.9176, 0.7843, 0.8392, 0.3451, 0.0000, 0.0000, 0.0000, 0.0000,\n",
      "         0.0000],\n",
      "        [0.0000, 0.0000, 0.0000, 0.0000, 0.0549, 0.8039, 0.9098, 0.6745, 0.6039,\n",
      "         0.9961, 0.7961, 0.8196, 0.8039, 0.8078, 0.8039, 0.8314, 0.8196, 0.9412,\n",
      "         0.8549, 0.7961, 0.8941, 0.8431, 0.5765, 0.0000, 0.0000, 0.0000, 0.0000,\n",
      "         0.0000],\n",
      "        [0.0000, 0.0000, 0.0000, 0.0000, 0.2000, 0.8275, 0.9608, 0.3765, 0.0000,\n",
      "         1.0000, 0.7373, 0.7804, 0.8392, 0.8392, 0.8392, 0.8235, 0.7412, 1.0000,\n",
      "         0.2275, 0.0235, 0.9804, 0.8431, 0.7569, 0.0000, 0.0000, 0.0000, 0.0000,\n",
      "         0.0000],\n",
      "        [0.0000, 0.0000, 0.0000, 0.0000, 0.3294, 0.8510, 0.9882, 0.2196, 0.0000,\n",
      "         1.0000, 0.8039, 0.8078, 0.8353, 0.8353, 0.8275, 0.8392, 0.7765, 1.0000,\n",
      "         0.1020, 0.0000, 1.0000, 0.8863, 0.7647, 0.0000, 0.0000, 0.0000, 0.0000,\n",
      "         0.0000],\n",
      "        [0.0000, 0.0000, 0.0000, 0.0000, 0.3922, 0.8667, 1.0000, 0.0863, 0.0000,\n",
      "         0.9961, 0.8235, 0.8196, 0.8353, 0.8431, 0.8235, 0.8471, 0.7961, 1.0000,\n",
      "         0.1373, 0.0000, 1.0000, 0.9373, 0.8353, 0.0510, 0.0000, 0.0000, 0.0000,\n",
      "         0.0000],\n",
      "        [0.0000, 0.0000, 0.0000, 0.0000, 0.5059, 0.9020, 0.9882, 0.0000, 0.0000,\n",
      "         0.9961, 0.8196, 0.8235, 0.8275, 0.8510, 0.8392, 0.8392, 0.8078, 1.0000,\n",
      "         0.4000, 0.0000, 0.8745, 0.9804, 0.8627, 0.2392, 0.0000, 0.0000, 0.0000,\n",
      "         0.0000],\n",
      "        [0.0000, 0.0000, 0.0000, 0.0000, 0.6118, 0.9137, 1.0000, 0.0000, 0.0235,\n",
      "         1.0000, 0.8078, 0.8314, 0.8314, 0.8549, 0.8431, 0.8353, 0.7804, 0.9725,\n",
      "         0.7216, 0.0000, 0.8392, 0.9882, 0.8706, 0.3490, 0.0000, 0.0000, 0.0000,\n",
      "         0.0000],\n",
      "        [0.0000, 0.0000, 0.0000, 0.0000, 0.6549, 0.9098, 1.0000, 0.0000, 0.3569,\n",
      "         1.0000, 0.7647, 0.8275, 0.8235, 0.8431, 0.8157, 0.8196, 0.8118, 0.8353,\n",
      "         0.9843, 0.0000, 0.6275, 0.9843, 0.8706, 0.3961, 0.0000, 0.0000, 0.0000,\n",
      "         0.0000],\n",
      "        [0.0000, 0.0000, 0.0000, 0.0000, 0.6824, 0.9098, 1.0000, 0.0000, 0.7569,\n",
      "         0.9294, 0.7647, 0.8078, 0.8118, 0.8314, 0.8196, 0.8118, 0.8275, 0.7569,\n",
      "         1.0000, 0.0745, 0.3294, 0.9804, 0.8667, 0.4000, 0.0000, 0.0000, 0.0000,\n",
      "         0.0000],\n",
      "        [0.0000, 0.0000, 0.0000, 0.0000, 0.6941, 0.9255, 0.9255, 0.0000, 0.9529,\n",
      "         0.8431, 0.8235, 0.8549, 0.8667, 0.8784, 0.8706, 0.8588, 0.8471, 0.7686,\n",
      "         0.9961, 0.4392, 0.0980, 0.9922, 0.8706, 0.4000, 0.0000, 0.0000, 0.0000,\n",
      "         0.0000],\n",
      "        [0.0000, 0.0000, 0.0000, 0.0000, 0.6941, 0.9333, 0.8275, 0.0000, 1.0000,\n",
      "         0.8314, 0.8353, 0.8706, 0.8667, 0.8824, 0.8902, 0.8706, 0.8510, 0.8196,\n",
      "         0.9412, 0.6667, 0.0000, 1.0000, 0.8745, 0.4039, 0.0000, 0.0000, 0.0000,\n",
      "         0.0000],\n",
      "        [0.0000, 0.0000, 0.0000, 0.0000, 0.7059, 0.9451, 0.6549, 0.0000, 1.0000,\n",
      "         0.7922, 0.8392, 0.8588, 0.8667, 0.8824, 0.8745, 0.8627, 0.8627, 0.8118,\n",
      "         0.8980, 0.7922, 0.0000, 1.0000, 0.8863, 0.4196, 0.0000, 0.0000, 0.0000,\n",
      "         0.0000],\n",
      "        [0.0000, 0.0000, 0.0000, 0.0000, 0.7373, 0.9647, 0.5255, 0.0000, 1.0000,\n",
      "         0.8392, 0.8745, 0.8902, 0.8941, 0.8941, 0.8784, 0.8745, 0.8706, 0.8549,\n",
      "         0.8706, 0.8902, 0.0000, 1.0000, 0.9137, 0.4118, 0.0000, 0.0000, 0.0000,\n",
      "         0.0000],\n",
      "        [0.0000, 0.0000, 0.0000, 0.0000, 0.7333, 0.9882, 0.3961, 0.0000, 0.9412,\n",
      "         0.8902, 0.9020, 0.9020, 0.9098, 0.9137, 0.9137, 0.9137, 0.9059, 0.8980,\n",
      "         0.9294, 0.8941, 0.0000, 0.9882, 0.9451, 0.4588, 0.0000, 0.0000, 0.0000,\n",
      "         0.0000],\n",
      "        [0.0000, 0.0000, 0.0000, 0.0000, 0.7451, 0.9843, 0.2706, 0.0000, 1.0000,\n",
      "         0.9490, 0.9529, 0.9529, 0.9490, 0.9451, 0.9412, 0.9412, 0.9412, 0.9333,\n",
      "         0.9725, 1.0000, 0.0000, 0.9059, 0.9490, 0.5098, 0.0000, 0.0000, 0.0000,\n",
      "         0.0000],\n",
      "        [0.0000, 0.0000, 0.0000, 0.0000, 0.7255, 0.9882, 0.3020, 0.0000, 0.2235,\n",
      "         0.1412, 0.1412, 0.1255, 0.1137, 0.0784, 0.0627, 0.0667, 0.0667, 0.0549,\n",
      "         0.1098, 0.1647, 0.0000, 0.7490, 0.9529, 0.5608, 0.0000, 0.0000, 0.0000,\n",
      "         0.0000],\n",
      "        [0.0000, 0.0000, 0.0000, 0.0000, 0.7137, 0.9922, 0.3216, 0.0000, 0.0000,\n",
      "         0.0000, 0.0000, 0.0000, 0.0000, 0.0000, 0.0000, 0.0000, 0.0000, 0.0000,\n",
      "         0.0000, 0.0000, 0.0000, 0.6039, 0.9647, 0.6980, 0.0000, 0.0000, 0.0000,\n",
      "         0.0000],\n",
      "        [0.0000, 0.0000, 0.0000, 0.0000, 0.7255, 0.9843, 0.2510, 0.0000, 0.0314,\n",
      "         0.0118, 0.0235, 0.0235, 0.0235, 0.0235, 0.0235, 0.0235, 0.0235, 0.0235,\n",
      "         0.0157, 0.0314, 0.0000, 0.4275, 1.0000, 0.7294, 0.0000, 0.0000, 0.0000,\n",
      "         0.0000],\n",
      "        [0.0000, 0.0000, 0.0000, 0.0000, 0.7922, 1.0000, 0.2431, 0.0000, 0.0196,\n",
      "         0.0000, 0.0000, 0.0000, 0.0000, 0.0000, 0.0000, 0.0000, 0.0000, 0.0000,\n",
      "         0.0000, 0.0157, 0.0000, 0.3490, 1.0000, 0.8157, 0.0000, 0.0000, 0.0000,\n",
      "         0.0000],\n",
      "        [0.0000, 0.0000, 0.0000, 0.0000, 0.6078, 0.8471, 0.0627, 0.0000, 0.0196,\n",
      "         0.0000, 0.0000, 0.0000, 0.0000, 0.0000, 0.0000, 0.0000, 0.0000, 0.0000,\n",
      "         0.0000, 0.0196, 0.0000, 0.1098, 0.7176, 0.5412, 0.0000, 0.0000, 0.0000,\n",
      "         0.0000]])\n"
     ]
    },
    {
     "data": {
      "text/plain": "<Figure size 640x480 with 1 Axes>",
      "image/png": "[encoded data removed]"
     },
     "metadata": {},
     "output_type": "display_data"
    },
    {
     "name": "stdout",
     "output_type": "stream",
     "text": [
      "Label: 2\n"
     ]
    }
   ],
   "source": [
    "train_features, train_labels = next(iter(train_dataloader))\n",
    "print(f\"Feature batch shape: {train_features.size()}\")\n",
    "print(f\"Labels batch shape: {train_labels.size()}\")\n",
    "\n",
    "img = train_features[0].squeeze()\n",
    "print(img.shape)\n",
    "print(img)\n",
    "\n",
    "label = train_labels[0]\n",
    "plt.imshow(img, cmap=\"gray\")\n",
    "plt.show()\n",
    "print(f\"Label: {label}\")"
   ],
   "metadata": {
    "collapsed": false,
    "pycharm": {
     "name": "#%%\n"
    }
   }
  },
  {
   "cell_type": "markdown",
   "source": [
    "## TRANSFORM"
   ],
   "metadata": {
    "collapsed": false,
    "pycharm": {
     "name": "#%% md\n"
    }
   }
  },
  {
   "cell_type": "code",
   "execution_count": null,
   "outputs": [],
   "source": [],
   "metadata": {
    "collapsed": false,
    "pycharm": {
     "name": "#%%\n"
    }
   }
  }
 ],
 "metadata": {
  "kernelspec": {
   "display_name": "Python 3",
   "language": "python",
   "name": "python3"
  },
  "language_info": {
   "codemirror_mode": {
    "name": "ipython",
    "version": 2
   },
   "file_extension": ".py",
   "mimetype": "text/x-python",
   "name": "python",
   "nbconvert_exporter": "python",
   "pygments_lexer": "ipython2",
   "version": "2.7.6"
  }
 },
 "nbformat": 4,
 "nbformat_minor": 0
}