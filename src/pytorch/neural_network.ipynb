{
 "cells": [
  {
   "cell_type": "code",
   "execution_count": 1,
   "metadata": {
    "collapsed": true,
    "pycharm": {
     "name": "#%%\n"
    }
   },
   "outputs": [],
   "source": [
    "import os\n",
    "import torch\n",
    "from torch import nn\n",
    "from torch.utils.data import DataLoader\n",
    "from torchvision import datasets, transforms"
   ]
  },
  {
   "cell_type": "code",
   "execution_count": 2,
   "outputs": [
    {
     "name": "stdout",
     "output_type": "stream",
     "text": [
      "Using cpu device\n"
     ]
    }
   ],
   "source": [
    "device = \"cuda\" if torch.cuda.is_available() else \"cpu\"\n",
    "print(f\"Using {device} device\")"
   ],
   "metadata": {
    "collapsed": false,
    "pycharm": {
     "name": "#%%\n"
    }
   }
  },
  {
   "cell_type": "code",
   "execution_count": 3,
   "outputs": [],
   "source": [
    "class NeuralNetwork(nn.Module):\n",
    "    def __init__(self):\n",
    "        super(NeuralNetwork, self).__init__()\n",
    "        self.flatten = nn.Flatten()\n",
    "        self.linear_relu_stack = nn.Sequential(\n",
    "            nn.Linear(28 * 28, 512),\n",
    "            nn.ReLU(),\n",
    "            nn.Linear(512, 512),\n",
    "            nn.ReLU(),\n",
    "            nn.Linear(512, 10),\n",
    "        )\n",
    "\n",
    "    def forward(self, x):\n",
    "        x = self.flatten(x)\n",
    "        logits = self.linear_relu_stack(x)\n",
    "        return logits"
   ],
   "metadata": {
    "collapsed": false,
    "pycharm": {
     "name": "#%%\n"
    }
   }
  },
  {
   "cell_type": "code",
   "execution_count": 4,
   "outputs": [
    {
     "name": "stdout",
     "output_type": "stream",
     "text": [
      "NeuralNetwork(\n",
      "  (flatten): Flatten(start_dim=1, end_dim=-1)\n",
      "  (linear_relu_stack): Sequential(\n",
      "    (0): Linear(in_features=784, out_features=512, bias=True)\n",
      "    (1): ReLU()\n",
      "    (2): Linear(in_features=512, out_features=512, bias=True)\n",
      "    (3): ReLU()\n",
      "    (4): Linear(in_features=512, out_features=10, bias=True)\n",
      "  )\n",
      ")\n"
     ]
    }
   ],
   "source": [
    "model = NeuralNetwork().to(device)\n",
    "print(model)"
   ],
   "metadata": {
    "collapsed": false,
    "pycharm": {
     "name": "#%%\n"
    }
   }
  },
  {
   "cell_type": "code",
   "execution_count": 6,
   "outputs": [
    {
     "name": "stdout",
     "output_type": "stream",
     "text": [
      "tensor([[-0.0710, -0.0415,  0.0955,  0.1015, -0.0927,  0.1347, -0.0242, -0.0669,\n",
      "          0.0664,  0.0570]], grad_fn=<AddmmBackward0>)\n",
      "tensor([[0.0914, 0.0941, 0.1079, 0.1086, 0.0894, 0.1123, 0.0958, 0.0918, 0.1049,\n",
      "         0.1039]], grad_fn=<SoftmaxBackward0>)\n",
      "Predicted class: tensor([5])\n"
     ]
    }
   ],
   "source": [
    "X = torch.rand(1, 28, 28, device=device)\n",
    "\n",
    "logits = model(X)\n",
    "print(logits)\n",
    "\n",
    "pred_probab = nn.Softmax(dim=1)(logits)\n",
    "print(pred_probab)\n",
    "\n",
    "y_pred = pred_probab.argmax(1)\n",
    "print(f\"Predicted class: {y_pred}\")"
   ],
   "metadata": {
    "collapsed": false,
    "pycharm": {
     "name": "#%%\n"
    }
   }
  },
  {
   "cell_type": "markdown",
   "source": [
    "## Step by Step"
   ],
   "metadata": {
    "collapsed": false,
    "pycharm": {
     "name": "#%% md\n"
    }
   }
  },
  {
   "cell_type": "code",
   "execution_count": 15,
   "outputs": [
    {
     "name": "stdout",
     "output_type": "stream",
     "text": [
      "torch.Size([3, 28, 28])\n",
      "torch.Size([3, 784])\n",
      "tensor([[0.8924, 0.8669, 0.4707,  ..., 0.0467, 0.4612, 0.3922],\n",
      "        [0.7088, 0.7593, 0.6354,  ..., 0.2427, 0.6627, 0.9795],\n",
      "        [0.0723, 0.7445, 0.9378,  ..., 0.2145, 0.8267, 0.9196]])\n"
     ]
    }
   ],
   "source": [
    "input_image = torch.rand(3, 28, 28)\n",
    "print(input_image.size())\n",
    "# print(input_image)\n",
    "\n",
    "flatten = nn.Flatten()\n",
    "flat_image = flatten(input_image)\n",
    "print(flat_image.size())\n",
    "print(flat_image)"
   ],
   "metadata": {
    "collapsed": false,
    "pycharm": {
     "name": "#%%\n"
    }
   }
  },
  {
   "cell_type": "code",
   "execution_count": 16,
   "outputs": [
    {
     "name": "stdout",
     "output_type": "stream",
     "text": [
      "torch.Size([3, 20])\n",
      "tensor([[-0.0658, -0.0139, -0.3080, -0.5287,  0.0061, -0.1981, -0.1983,  0.1943,\n",
      "         -0.0097,  0.4913, -0.0382, -0.2668,  0.2088,  0.1824, -0.2438, -0.2093,\n",
      "          0.2212,  0.1820, -0.1888,  0.2408],\n",
      "        [ 0.1520,  0.0893, -0.7918, -0.5235, -0.0392,  0.1202, -0.1207, -0.0493,\n",
      "          0.3067,  0.0863,  0.1504,  0.1479,  0.2374,  0.1710,  0.0589, -0.1587,\n",
      "          0.1533,  0.4128, -0.1541,  0.2728],\n",
      "        [-0.1673,  0.1132, -0.4955, -0.3664, -0.0685,  0.1800, -0.1417,  0.0095,\n",
      "          0.1501,  0.1578, -0.0991,  0.2830,  0.4412,  0.4741,  0.0699, -0.2797,\n",
      "          0.4160,  0.4302, -0.1801,  0.4973]], grad_fn=<AddmmBackward0>)\n"
     ]
    }
   ],
   "source": [
    "layer1 = nn.Linear(in_features=28 * 28, out_features=20)\n",
    "hidden1 = layer1(flat_image)\n",
    "print(hidden1.size())\n",
    "print(hidden1)"
   ],
   "metadata": {
    "collapsed": false,
    "pycharm": {
     "name": "#%%\n"
    }
   }
  },
  {
   "cell_type": "code",
   "execution_count": 17,
   "outputs": [
    {
     "name": "stdout",
     "output_type": "stream",
     "text": [
      "Before ReLU: tensor([[-0.0658, -0.0139, -0.3080, -0.5287,  0.0061, -0.1981, -0.1983,  0.1943,\n",
      "         -0.0097,  0.4913, -0.0382, -0.2668,  0.2088,  0.1824, -0.2438, -0.2093,\n",
      "          0.2212,  0.1820, -0.1888,  0.2408],\n",
      "        [ 0.1520,  0.0893, -0.7918, -0.5235, -0.0392,  0.1202, -0.1207, -0.0493,\n",
      "          0.3067,  0.0863,  0.1504,  0.1479,  0.2374,  0.1710,  0.0589, -0.1587,\n",
      "          0.1533,  0.4128, -0.1541,  0.2728],\n",
      "        [-0.1673,  0.1132, -0.4955, -0.3664, -0.0685,  0.1800, -0.1417,  0.0095,\n",
      "          0.1501,  0.1578, -0.0991,  0.2830,  0.4412,  0.4741,  0.0699, -0.2797,\n",
      "          0.4160,  0.4302, -0.1801,  0.4973]], grad_fn=<AddmmBackward0>)\n",
      "\n",
      "\n",
      "After ReLU: tensor([[0.0000, 0.0000, 0.0000, 0.0000, 0.0061, 0.0000, 0.0000, 0.1943, 0.0000,\n",
      "         0.4913, 0.0000, 0.0000, 0.2088, 0.1824, 0.0000, 0.0000, 0.2212, 0.1820,\n",
      "         0.0000, 0.2408],\n",
      "        [0.1520, 0.0893, 0.0000, 0.0000, 0.0000, 0.1202, 0.0000, 0.0000, 0.3067,\n",
      "         0.0863, 0.1504, 0.1479, 0.2374, 0.1710, 0.0589, 0.0000, 0.1533, 0.4128,\n",
      "         0.0000, 0.2728],\n",
      "        [0.0000, 0.1132, 0.0000, 0.0000, 0.0000, 0.1800, 0.0000, 0.0095, 0.1501,\n",
      "         0.1578, 0.0000, 0.2830, 0.4412, 0.4741, 0.0699, 0.0000, 0.4160, 0.4302,\n",
      "         0.0000, 0.4973]], grad_fn=<ReluBackward0>)\n"
     ]
    }
   ],
   "source": [
    "print(f\"Before ReLU: {hidden1}\\n\\n\")\n",
    "hidden1 = nn.ReLU()(hidden1)\n",
    "print(f\"After ReLU: {hidden1}\")"
   ],
   "metadata": {
    "collapsed": false,
    "pycharm": {
     "name": "#%%\n"
    }
   }
  },
  {
   "cell_type": "code",
   "execution_count": 18,
   "outputs": [
    {
     "name": "stdout",
     "output_type": "stream",
     "text": [
      "Model structure: NeuralNetwork(\n",
      "  (flatten): Flatten(start_dim=1, end_dim=-1)\n",
      "  (linear_relu_stack): Sequential(\n",
      "    (0): Linear(in_features=784, out_features=512, bias=True)\n",
      "    (1): ReLU()\n",
      "    (2): Linear(in_features=512, out_features=512, bias=True)\n",
      "    (3): ReLU()\n",
      "    (4): Linear(in_features=512, out_features=10, bias=True)\n",
      "  )\n",
      ")\n",
      "\n",
      "\n",
      "Layer: linear_relu_stack.0.weight | Size: torch.Size([512, 784]) | Values : tensor([[-0.0040, -0.0021, -0.0344,  ...,  0.0191, -0.0070,  0.0337],\n",
      "        [ 0.0258, -0.0100, -0.0063,  ..., -0.0259,  0.0250,  0.0012]],\n",
      "       grad_fn=<SliceBackward0>) \n",
      "\n",
      "Layer: linear_relu_stack.0.bias | Size: torch.Size([512]) | Values : tensor([-0.0249,  0.0334], grad_fn=<SliceBackward0>) \n",
      "\n",
      "Layer: linear_relu_stack.2.weight | Size: torch.Size([512, 512]) | Values : tensor([[ 0.0425,  0.0401,  0.0320,  ..., -0.0180, -0.0419,  0.0132],\n",
      "        [-0.0194, -0.0136,  0.0431,  ...,  0.0151,  0.0218, -0.0384]],\n",
      "       grad_fn=<SliceBackward0>) \n",
      "\n",
      "Layer: linear_relu_stack.2.bias | Size: torch.Size([512]) | Values : tensor([-0.0100, -0.0283], grad_fn=<SliceBackward0>) \n",
      "\n",
      "Layer: linear_relu_stack.4.weight | Size: torch.Size([10, 512]) | Values : tensor([[ 0.0361, -0.0075, -0.0388,  ..., -0.0406, -0.0388, -0.0302],\n",
      "        [ 0.0219, -0.0353, -0.0002,  ..., -0.0342,  0.0176, -0.0212]],\n",
      "       grad_fn=<SliceBackward0>) \n",
      "\n",
      "Layer: linear_relu_stack.4.bias | Size: torch.Size([10]) | Values : tensor([ 0.0281, -0.0254], grad_fn=<SliceBackward0>) \n",
      "\n"
     ]
    }
   ],
   "source": [
    "print(f\"Model structure: {model}\\n\\n\")\n",
    "\n",
    "for name, param in model.named_parameters():\n",
    "    print(f\"Layer: {name} | Size: {param.size()} | Values : {param[:2]} \\n\")"
   ],
   "metadata": {
    "collapsed": false,
    "pycharm": {
     "name": "#%%\n"
    }
   }
  },
  {
   "cell_type": "code",
   "execution_count": null,
   "outputs": [],
   "source": [],
   "metadata": {
    "collapsed": false,
    "pycharm": {
     "name": "#%%\n"
    }
   }
  }
 ],
 "metadata": {
  "kernelspec": {
   "display_name": "Python 3",
   "language": "python",
   "name": "python3"
  },
  "language_info": {
   "codemirror_mode": {
    "name": "ipython",
    "version": 2
   },
   "file_extension": ".py",
   "mimetype": "text/x-python",
   "name": "python",
   "nbconvert_exporter": "python",
   "pygments_lexer": "ipython2",
   "version": "2.7.6"
  }
 },
 "nbformat": 4,
 "nbformat_minor": 0
}