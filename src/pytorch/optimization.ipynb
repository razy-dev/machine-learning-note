{
 "cells": [
  {
   "cell_type": "code",
   "execution_count": 1,
   "metadata": {
    "collapsed": true,
    "pycharm": {
     "name": "#%%\n"
    }
   },
   "outputs": [],
   "source": [
    "import torch\n",
    "from torch import nn\n",
    "from torch.utils.data import DataLoader\n",
    "from torchvision import datasets\n",
    "from torchvision.transforms import ToTensor, Lambda"
   ]
  },
  {
   "cell_type": "code",
   "execution_count": 2,
   "outputs": [],
   "source": [
    "training_data = datasets.FashionMNIST(\n",
    "    root=\"data\",\n",
    "    train=True,\n",
    "    download=True,\n",
    "    transform=ToTensor()\n",
    ")\n",
    "\n",
    "test_data = datasets.FashionMNIST(\n",
    "    root=\"data\",\n",
    "    train=False,\n",
    "    download=True,\n",
    "    transform=ToTensor()\n",
    ")\n",
    "\n",
    "train_dataloader = DataLoader(training_data, batch_size=64)\n",
    "test_dataloader = DataLoader(test_data, batch_size=64)"
   ],
   "metadata": {
    "collapsed": false,
    "pycharm": {
     "name": "#%%\n"
    }
   }
  },
  {
   "cell_type": "code",
   "execution_count": 3,
   "outputs": [],
   "source": [
    "class NeuralNetwork(nn.Module):\n",
    "    def __init__(self):\n",
    "        super(NeuralNetwork, self).__init__()\n",
    "        self.flatten = nn.Flatten()\n",
    "        self.linear_relu_stack = nn.Sequential(\n",
    "            nn.Linear(28 * 28, 512),\n",
    "            nn.ReLU(),\n",
    "            nn.Linear(512, 512),\n",
    "            nn.ReLU(),\n",
    "            nn.Linear(512, 10),\n",
    "        )\n",
    "\n",
    "    def forward(self, x):\n",
    "        x = self.flatten(x)\n",
    "        logits = self.linear_relu_stack(x)\n",
    "        return logits\n",
    "\n",
    "\n",
    "model = NeuralNetwork()"
   ],
   "metadata": {
    "collapsed": false,
    "pycharm": {
     "name": "#%%\n"
    }
   }
  },
  {
   "cell_type": "code",
   "execution_count": 4,
   "outputs": [],
   "source": [
    "learning_rate = 1e-3\n",
    "batch_size = 64\n",
    "epochs = 5"
   ],
   "metadata": {
    "collapsed": false,
    "pycharm": {
     "name": "#%%\n"
    }
   }
  },
  {
   "cell_type": "code",
   "execution_count": 5,
   "outputs": [],
   "source": [
    "def train_loop(dataloader, model, loss_fn, optimizer):\n",
    "    size = len(dataloader.dataset)\n",
    "    for batch, (X, y) in enumerate(dataloader):\n",
    "        # 예측(prediction)과 손실(loss) 계산\n",
    "        pred = model(X)\n",
    "        loss = loss_fn(pred, y)\n",
    "\n",
    "        # 역전파\n",
    "        optimizer.zero_grad()\n",
    "        loss.backward()\n",
    "        optimizer.step()\n",
    "\n",
    "        if batch % 100 == 0:\n",
    "            loss, current = loss.item(), batch * len(X)\n",
    "            print(f\"loss: {loss:>7f}  [{current:>5d}/{size:>5d}]\")\n",
    "\n",
    "\n",
    "def test_loop(dataloader, model, loss_fn):\n",
    "    size = len(dataloader.dataset)\n",
    "    num_batches = len(dataloader)\n",
    "    test_loss, correct = 0, 0\n",
    "\n",
    "    with torch.no_grad():\n",
    "        for X, y in dataloader:\n",
    "            pred = model(X)\n",
    "            test_loss += loss_fn(pred, y).item()\n",
    "            correct += (pred.argmax(1) == y).type(torch.float).sum().item()\n",
    "\n",
    "    test_loss /= num_batches\n",
    "    correct /= size\n",
    "    print(f\"Test Error: \\n Accuracy: {(100 * correct):>0.1f}%, Avg loss: {test_loss:>8f} \\n\")"
   ],
   "metadata": {
    "collapsed": false,
    "pycharm": {
     "name": "#%%\n"
    }
   }
  },
  {
   "cell_type": "code",
   "execution_count": 6,
   "outputs": [
    {
     "name": "stdout",
     "output_type": "stream",
     "text": [
      "Epoch 1\n",
      "-------------------------------\n",
      "loss: 2.293610  [    0/60000]\n",
      "loss: 2.282732  [ 6400/60000]\n",
      "loss: 2.265985  [12800/60000]\n",
      "loss: 2.265134  [19200/60000]\n",
      "loss: 2.246273  [25600/60000]\n",
      "loss: 2.217985  [32000/60000]\n",
      "loss: 2.226525  [38400/60000]\n",
      "loss: 2.191534  [44800/60000]\n",
      "loss: 2.196080  [51200/60000]\n",
      "loss: 2.164135  [57600/60000]\n",
      "Test Error: \n",
      " Accuracy: 47.0%, Avg loss: 2.155101 \n",
      "\n",
      "Epoch 2\n",
      "-------------------------------\n",
      "loss: 2.165632  [    0/60000]\n",
      "loss: 2.151520  [ 6400/60000]\n",
      "loss: 2.095112  [12800/60000]\n",
      "loss: 2.113142  [19200/60000]\n",
      "loss: 2.055319  [25600/60000]\n",
      "loss: 2.001009  [32000/60000]\n",
      "loss: 2.024864  [38400/60000]\n",
      "loss: 1.947029  [44800/60000]\n",
      "loss: 1.961463  [51200/60000]\n",
      "loss: 1.878344  [57600/60000]\n",
      "Test Error: \n",
      " Accuracy: 61.3%, Avg loss: 1.877416 \n",
      "\n",
      "Epoch 3\n",
      "-------------------------------\n",
      "loss: 1.912188  [    0/60000]\n",
      "loss: 1.875983  [ 6400/60000]\n",
      "loss: 1.760412  [12800/60000]\n",
      "loss: 1.802528  [19200/60000]\n",
      "loss: 1.682747  [25600/60000]\n",
      "loss: 1.640601  [32000/60000]\n",
      "loss: 1.659530  [38400/60000]\n",
      "loss: 1.563832  [44800/60000]\n",
      "loss: 1.593524  [51200/60000]\n",
      "loss: 1.478572  [57600/60000]\n",
      "Test Error: \n",
      " Accuracy: 62.2%, Avg loss: 1.502122 \n",
      "\n",
      "Epoch 4\n",
      "-------------------------------\n",
      "loss: 1.568763  [    0/60000]\n",
      "loss: 1.530929  [ 6400/60000]\n",
      "loss: 1.384565  [12800/60000]\n",
      "loss: 1.456898  [19200/60000]\n",
      "loss: 1.332361  [25600/60000]\n",
      "loss: 1.332933  [32000/60000]\n",
      "loss: 1.348579  [38400/60000]\n",
      "loss: 1.276925  [44800/60000]\n",
      "loss: 1.314059  [51200/60000]\n",
      "loss: 1.213118  [57600/60000]\n",
      "Test Error: \n",
      " Accuracy: 63.6%, Avg loss: 1.241224 \n",
      "\n",
      "Epoch 5\n",
      "-------------------------------\n",
      "loss: 1.317124  [    0/60000]\n",
      "loss: 1.295786  [ 6400/60000]\n",
      "loss: 1.135486  [12800/60000]\n",
      "loss: 1.240764  [19200/60000]\n",
      "loss: 1.113330  [25600/60000]\n",
      "loss: 1.139657  [32000/60000]\n",
      "loss: 1.167048  [38400/60000]\n",
      "loss: 1.104893  [44800/60000]\n",
      "loss: 1.145599  [51200/60000]\n",
      "loss: 1.064648  [57600/60000]\n",
      "Test Error: \n",
      " Accuracy: 64.9%, Avg loss: 1.084500 \n",
      "\n",
      "Epoch 6\n",
      "-------------------------------\n",
      "loss: 1.154844  [    0/60000]\n",
      "loss: 1.152329  [ 6400/60000]\n",
      "loss: 0.977031  [12800/60000]\n",
      "loss: 1.109249  [19200/60000]\n",
      "loss: 0.983093  [25600/60000]\n",
      "loss: 1.012677  [32000/60000]\n",
      "loss: 1.057242  [38400/60000]\n",
      "loss: 0.996139  [44800/60000]\n",
      "loss: 1.036082  [51200/60000]\n",
      "loss: 0.972098  [57600/60000]\n",
      "Test Error: \n",
      " Accuracy: 66.1%, Avg loss: 0.983759 \n",
      "\n",
      "Epoch 7\n",
      "-------------------------------\n",
      "loss: 1.041685  [    0/60000]\n",
      "loss: 1.059501  [ 6400/60000]\n",
      "loss: 0.867721  [12800/60000]\n",
      "loss: 1.021819  [19200/60000]\n",
      "loss: 0.901007  [25600/60000]\n",
      "loss: 0.922653  [32000/60000]\n",
      "loss: 0.985054  [38400/60000]\n",
      "loss: 0.923759  [44800/60000]\n",
      "loss: 0.959059  [51200/60000]\n",
      "loss: 0.908724  [57600/60000]\n",
      "Test Error: \n",
      " Accuracy: 67.0%, Avg loss: 0.913905 \n",
      "\n",
      "Epoch 8\n",
      "-------------------------------\n",
      "loss: 0.957093  [    0/60000]\n",
      "loss: 0.993901  [ 6400/60000]\n",
      "loss: 0.787765  [12800/60000]\n",
      "loss: 0.959038  [19200/60000]\n",
      "loss: 0.844556  [25600/60000]\n",
      "loss: 0.855752  [32000/60000]\n",
      "loss: 0.933151  [38400/60000]\n",
      "loss: 0.873676  [44800/60000]\n",
      "loss: 0.902627  [51200/60000]\n",
      "loss: 0.861650  [57600/60000]\n",
      "Test Error: \n",
      " Accuracy: 68.1%, Avg loss: 0.862480 \n",
      "\n",
      "Epoch 9\n",
      "-------------------------------\n",
      "loss: 0.890733  [    0/60000]\n",
      "loss: 0.943629  [ 6400/60000]\n",
      "loss: 0.726391  [12800/60000]\n",
      "loss: 0.911843  [19200/60000]\n",
      "loss: 0.802752  [25600/60000]\n",
      "loss: 0.804804  [32000/60000]\n",
      "loss: 0.893147  [38400/60000]\n",
      "loss: 0.837566  [44800/60000]\n",
      "loss: 0.859799  [51200/60000]\n",
      "loss: 0.824998  [57600/60000]\n",
      "Test Error: \n",
      " Accuracy: 69.5%, Avg loss: 0.822879 \n",
      "\n",
      "Epoch 10\n",
      "-------------------------------\n",
      "loss: 0.836649  [    0/60000]\n",
      "loss: 0.902732  [ 6400/60000]\n",
      "loss: 0.677927  [12800/60000]\n",
      "loss: 0.875055  [19200/60000]\n",
      "loss: 0.770053  [25600/60000]\n",
      "loss: 0.765105  [32000/60000]\n",
      "loss: 0.860371  [38400/60000]\n",
      "loss: 0.810278  [44800/60000]\n",
      "loss: 0.826366  [51200/60000]\n",
      "loss: 0.794909  [57600/60000]\n",
      "Test Error: \n",
      " Accuracy: 70.8%, Avg loss: 0.791033 \n",
      "\n",
      "Done!\n"
     ]
    }
   ],
   "source": [
    "loss_fn = nn.CrossEntropyLoss()\n",
    "optimizer = torch.optim.SGD(model.parameters(), lr=learning_rate)\n",
    "\n",
    "epochs = 10\n",
    "for t in range(epochs):\n",
    "    print(f\"Epoch {t + 1}\\n-------------------------------\")\n",
    "    train_loop(train_dataloader, model, loss_fn, optimizer)\n",
    "    test_loop(test_dataloader, model, loss_fn)\n",
    "print(\"Done!\")"
   ],
   "metadata": {
    "collapsed": false,
    "pycharm": {
     "name": "#%%\n"
    }
   }
  },
  {
   "cell_type": "code",
   "execution_count": null,
   "outputs": [],
   "source": [],
   "metadata": {
    "collapsed": false,
    "pycharm": {
     "name": "#%%\n"
    }
   }
  }
 ],
 "metadata": {
  "kernelspec": {
   "display_name": "Python 3",
   "language": "python",
   "name": "python3"
  },
  "language_info": {
   "codemirror_mode": {
    "name": "ipython",
    "version": 2
   },
   "file_extension": ".py",
   "mimetype": "text/x-python",
   "name": "python",
   "nbconvert_exporter": "python",
   "pygments_lexer": "ipython2",
   "version": "2.7.6"
  }
 },
 "nbformat": 4,
 "nbformat_minor": 0
}