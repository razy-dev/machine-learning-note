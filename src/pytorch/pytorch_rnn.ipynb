{
 "cells": [
  {
   "cell_type": "code",
   "execution_count": 34,
   "metadata": {
    "collapsed": true,
    "pycharm": {
     "name": "#%%\n"
    }
   },
   "outputs": [],
   "source": [
    "import torch\n",
    "import torch.nn as nn"
   ]
  },
  {
   "cell_type": "code",
   "execution_count": 35,
   "outputs": [],
   "source": [
    "input_size = 5  # 입력의 크기\n",
    "hidden_size = 8  # 은닉 상태의 크기"
   ],
   "metadata": {
    "collapsed": false,
    "pycharm": {
     "name": "#%%\n"
    }
   }
  },
  {
   "cell_type": "code",
   "execution_count": 36,
   "outputs": [],
   "source": [
    "inputs = torch.Tensor(1, 10, 5)  # (batch_size, time_steps, input_size)\n",
    "#print(\"inputs =\", inputs.shape, inputs)"
   ],
   "metadata": {
    "collapsed": false,
    "pycharm": {
     "name": "#%%\n"
    }
   }
  },
  {
   "cell_type": "code",
   "execution_count": 37,
   "outputs": [
    {
     "name": "stdout",
     "output_type": "stream",
     "text": [
      "outputs = torch.Size([1, 10, 8]) tensor([[[ 0.1182,  0.3305,  0.0510, -0.3919, -0.2599,  0.5119,  0.1162,\n",
      "          -0.1681],\n",
      "         [-0.0099,  0.4351, -0.2824, -0.2314, -0.0699,  0.3873,  0.2626,\n",
      "          -0.2990],\n",
      "         [ 0.0547,  0.5090, -0.3090, -0.3307, -0.1115,  0.3438,  0.3204,\n",
      "          -0.2586],\n",
      "         [ 0.0084,  0.5380, -0.3141, -0.3288, -0.0419,  0.3268,  0.3373,\n",
      "          -0.2405],\n",
      "         [-0.0096,  0.5331, -0.2982, -0.3432, -0.0611,  0.3503,  0.3413,\n",
      "          -0.2319],\n",
      "         [-0.0124,  0.5336, -0.3094, -0.3308, -0.0601,  0.3506,  0.3398,\n",
      "          -0.2252],\n",
      "         [-0.0082,  0.5355, -0.3074, -0.3288, -0.0578,  0.3467,  0.3395,\n",
      "          -0.2237],\n",
      "         [-0.0095,  0.5346, -0.3035, -0.3311, -0.0573,  0.3471,  0.3386,\n",
      "          -0.2248],\n",
      "         [-0.0103,  0.5334, -0.3037, -0.3313, -0.0591,  0.3488,  0.3385,\n",
      "          -0.2252],\n",
      "         [-0.0097,  0.5337, -0.3049, -0.3303, -0.0590,  0.3484,  0.3385,\n",
      "          -0.2248]]], grad_fn=<TransposeBackward1>)\n",
      "_status = torch.Size([1, 1, 8]) tensor([[[-0.0097,  0.5337, -0.3049, -0.3303, -0.0590,  0.3484,  0.3385,\n",
      "          -0.2248]]], grad_fn=<StackBackward0>)\n"
     ]
    }
   ],
   "source": [
    "cell = nn.RNN(input_size, hidden_size, batch_first=True)\n",
    "outputs, _status = cell(inputs)\n",
    "print(\"outputs =\", outputs.shape, outputs)\n",
    "print(\"_status =\", _status.shape, _status)"
   ],
   "metadata": {
    "collapsed": false,
    "pycharm": {
     "name": "#%%\n"
    }
   }
  },
  {
   "cell_type": "code",
   "execution_count": 38,
   "outputs": [
    {
     "name": "stdout",
     "output_type": "stream",
     "text": [
      "outputs = torch.Size([1, 10, 8]) tensor([[[-0.1372, -0.0834,  0.6793,  0.2875,  0.1028,  0.2642,  0.4190,\n",
      "          -0.1053],\n",
      "         [ 0.1046, -0.0494,  0.7155,  0.3920,  0.0260,  0.2999,  0.5495,\n",
      "           0.2590],\n",
      "         [ 0.1223,  0.0401,  0.7618,  0.2745, -0.1614,  0.1913,  0.4270,\n",
      "           0.3162],\n",
      "         [ 0.1453,  0.1157,  0.7559,  0.1537, -0.2496,  0.1737,  0.3002,\n",
      "           0.2693],\n",
      "         [ 0.1137,  0.1136,  0.7405,  0.0715, -0.2789,  0.1792,  0.2370,\n",
      "           0.2029],\n",
      "         [ 0.0938,  0.0951,  0.7264,  0.0650, -0.2603,  0.2209,  0.2356,\n",
      "           0.1763],\n",
      "         [ 0.0789,  0.0675,  0.7230,  0.0891, -0.2370,  0.2491,  0.2618,\n",
      "           0.1761],\n",
      "         [ 0.0794,  0.0558,  0.7261,  0.1138, -0.2215,  0.2599,  0.2838,\n",
      "           0.1903],\n",
      "         [ 0.0841,  0.0574,  0.7300,  0.1215, -0.2204,  0.2548,  0.2899,\n",
      "           0.2004],\n",
      "         [ 0.0887,  0.0648,  0.7316,  0.1166, -0.2259,  0.2463,  0.2851,\n",
      "           0.2023]]], grad_fn=<TransposeBackward1>)\n",
      "_status = torch.Size([2, 1, 8]) tensor([[[-0.3772, -0.4404, -0.5165, -0.4421,  0.2416,  0.6731,  0.0385,\n",
      "          -0.1124]],\n",
      "\n",
      "        [[ 0.0887,  0.0648,  0.7316,  0.1166, -0.2259,  0.2463,  0.2851,\n",
      "           0.2023]]], grad_fn=<StackBackward0>)\n"
     ]
    }
   ],
   "source": [
    "cell = nn.RNN(input_size, hidden_size, 2, batch_first=True)\n",
    "outputs, _status = cell(inputs)\n",
    "print(\"outputs =\", outputs.shape, outputs)\n",
    "print(\"_status =\", _status.shape, _status)"
   ],
   "metadata": {
    "collapsed": false,
    "pycharm": {
     "name": "#%%\n"
    }
   }
  },
  {
   "cell_type": "code",
   "execution_count": 38,
   "outputs": [],
   "source": [],
   "metadata": {
    "collapsed": false,
    "pycharm": {
     "name": "#%%\n"
    }
   }
  }
 ],
 "metadata": {
  "kernelspec": {
   "display_name": "Python 3",
   "language": "python",
   "name": "python3"
  },
  "language_info": {
   "codemirror_mode": {
    "name": "ipython",
    "version": 2
   },
   "file_extension": ".py",
   "mimetype": "text/x-python",
   "name": "python",
   "nbconvert_exporter": "python",
   "pygments_lexer": "ipython2",
   "version": "2.7.6"
  }
 },
 "nbformat": 4,
 "nbformat_minor": 0
}