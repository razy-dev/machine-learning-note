{
 "cells": [
  {
   "cell_type": "code",
   "execution_count": 2,
   "outputs": [],
   "source": [
    "import torch\n",
    "import numpy as np"
   ],
   "metadata": {
    "collapsed": false,
    "pycharm": {
     "name": "#%%\n"
    }
   }
  },
  {
   "cell_type": "code",
   "execution_count": 22,
   "outputs": [
    {
     "name": "stdout",
     "output_type": "stream",
     "text": [
      "torch.Size([3, 3]) torch.float64 cpu\n",
      "tensor([[1., 2., 3.],\n",
      "        [4., 5., 6.],\n",
      "        [7., 8., 9.]], dtype=torch.float64)\n",
      "First row   : tensor[0]     = tensor([1., 2., 3.], dtype=torch.float64)\n",
      "First column: tensor[:, 0]  = tensor([1., 4., 7.], dtype=torch.float64)\n",
      "Last row    : tensor[-1]    = tensor([7., 8., 9.], dtype=torch.float64)\n",
      "Last column : tensor[:, -1] = tensor([3., 6., 9.], dtype=torch.float64)\n",
      "tensor([[1., 0., 3.],\n",
      "        [4., 0., 6.],\n",
      "        [7., 0., 9.]], dtype=torch.float64)\n"
     ]
    }
   ],
   "source": [
    "tensor = torch.tensor([\n",
    "    [1, 2, 3],\n",
    "    [4, 5, 6],\n",
    "    [7, 8, 9],\n",
    "], dtype=float)\n",
    "print(tensor.shape, tensor.dtype, tensor.device)\n",
    "print(tensor)\n",
    "\n",
    "print(f\"First row   : tensor[0]     = {tensor[0]}\")\n",
    "print(f\"First column: tensor[:, 0]  = {tensor[:, 0]}\")\n",
    "\n",
    "print(f\"Last row    : tensor[-1]    = {tensor[-1]}\")\n",
    "print(f\"Last column : tensor[:, -1] = {tensor[:, -1]}\")\n",
    "\n",
    "tensor[:, 1] = 0\n",
    "print(tensor)"
   ],
   "metadata": {
    "collapsed": false,
    "pycharm": {
     "name": "#%%\n"
    }
   }
  },
  {
   "cell_type": "code",
   "execution_count": 23,
   "outputs": [
    {
     "name": "stdout",
     "output_type": "stream",
     "text": [
      "tensor([[1., 0., 3., 1., 0., 3., 1., 0., 3.],\n",
      "        [4., 0., 6., 4., 0., 6., 4., 0., 6.],\n",
      "        [7., 0., 9., 7., 0., 9., 7., 0., 9.]], dtype=torch.float64)\n",
      "tensor([[[1., 0., 3.],\n",
      "         [1., 0., 3.],\n",
      "         [1., 0., 3.]],\n",
      "\n",
      "        [[4., 0., 6.],\n",
      "         [4., 0., 6.],\n",
      "         [4., 0., 6.]],\n",
      "\n",
      "        [[7., 0., 9.],\n",
      "         [7., 0., 9.],\n",
      "         [7., 0., 9.]]], dtype=torch.float64)\n"
     ]
    }
   ],
   "source": [
    "t1 = torch.cat([tensor, tensor, tensor], dim=1)\n",
    "print(t1)\n",
    "\n",
    "t2 = torch.stack([tensor, tensor, tensor], dim=1)\n",
    "print(t2)"
   ],
   "metadata": {
    "collapsed": false,
    "pycharm": {
     "name": "#%%\n"
    }
   }
  },
  {
   "cell_type": "code",
   "execution_count": 26,
   "outputs": [
    {
     "name": "stdout",
     "output_type": "stream",
     "text": [
      "tensor([[1., 0., 3.],\n",
      "        [4., 0., 6.],\n",
      "        [7., 0., 9.]], dtype=torch.float64) tensor([[1., 4., 7.],\n",
      "        [0., 0., 0.],\n",
      "        [3., 6., 9.]], dtype=torch.float64)\n",
      "tensor([[ 10.,  22.,  34.],\n",
      "        [ 22.,  52.,  82.],\n",
      "        [ 34.,  82., 130.]], dtype=torch.float64)\n",
      "tensor([[ 10.,  22.,  34.],\n",
      "        [ 22.,  52.,  82.],\n",
      "        [ 34.,  82., 130.]], dtype=torch.float64)\n",
      "tensor([[ 10.,  22.,  34.],\n",
      "        [ 22.,  52.,  82.],\n",
      "        [ 34.,  82., 130.]], dtype=torch.float64)\n"
     ]
    }
   ],
   "source": [
    "# 두 텐서 간의 행렬 곱(matrix multiplication)을 계산합니다. y1, y2, y3은 모두 같은 값을 갖습니다.\n",
    "print(tensor, tensor.T)\n",
    "y1 = tensor @ tensor.T\n",
    "print(y1)\n",
    "\n",
    "y2 = tensor.matmul(tensor.T)\n",
    "print(y2)\n",
    "\n",
    "y3 = torch.rand_like(y1)\n",
    "torch.matmul(tensor, tensor.T, out=y3)\n",
    "print(y3)"
   ],
   "metadata": {
    "collapsed": false,
    "pycharm": {
     "name": "#%%\n"
    }
   }
  },
  {
   "cell_type": "code",
   "execution_count": 27,
   "outputs": [
    {
     "name": "stdout",
     "output_type": "stream",
     "text": [
      "tensor(30., dtype=torch.float64) 30.0 <class 'float'>\n"
     ]
    }
   ],
   "source": [
    "agg = tensor.sum()\n",
    "print\n",
    "agg_item = agg.item()\n",
    "print(agg, agg_item, type(agg_item))"
   ],
   "metadata": {
    "collapsed": false,
    "pycharm": {
     "name": "#%%\n"
    }
   }
  },
  {
   "cell_type": "code",
   "execution_count": null,
   "outputs": [],
   "source": [],
   "metadata": {
    "collapsed": false,
    "pycharm": {
     "name": "#%%\n"
    }
   }
  }
 ],
 "metadata": {
  "kernelspec": {
   "display_name": "Python 3",
   "language": "python",
   "name": "python3"
  },
  "language_info": {
   "codemirror_mode": {
    "name": "ipython",
    "version": 2
   },
   "file_extension": ".py",
   "mimetype": "text/x-python",
   "name": "python",
   "nbconvert_exporter": "python",
   "pygments_lexer": "ipython2",
   "version": "2.7.6"
  }
 },
 "nbformat": 4,
 "nbformat_minor": 0
}