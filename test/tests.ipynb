{
 "cells": [
  {
   "cell_type": "code",
   "execution_count": 1,
   "metadata": {
    "collapsed": true,
    "pycharm": {
     "name": "#%%\n"
    }
   },
   "outputs": [],
   "source": [
    "import numpy as np\n",
    "from matplotlib import pyplot as plt"
   ]
  },
  {
   "cell_type": "code",
   "execution_count": 6,
   "outputs": [
    {
     "data": {
      "text/plain": "[1, 2, 3]"
     },
     "execution_count": 6,
     "metadata": {},
     "output_type": "execute_result"
    }
   ],
   "source": [
    "[1, 2, 3][:None]"
   ],
   "metadata": {
    "collapsed": false,
    "pycharm": {
     "name": "#%%\n"
    }
   }
  },
  {
   "cell_type": "code",
   "execution_count": 7,
   "outputs": [
    {
     "name": "stdout",
     "output_type": "stream",
     "text": [
      "(1,) [24]\n"
     ]
    }
   ],
   "source": [
    "x = np.array([2, 3])\n",
    "w = np.array([4, 5])\n",
    "b = np.array([1])\n",
    "z = np.matmul(w, x) + b  # 2 * 4 + 3 * 5 + 1\n",
    "print(z.shape, z)"
   ],
   "metadata": {
    "collapsed": false,
    "pycharm": {
     "name": "#%%\n"
    }
   }
  },
  {
   "cell_type": "code",
   "execution_count": 11,
   "outputs": [
    {
     "name": "stdout",
     "output_type": "stream",
     "text": [
      "0.7310585786300049\n"
     ]
    }
   ],
   "source": [
    "i = 1\n",
    "s = 1. / (1 + np.exp(-i))\n",
    "print(s)"
   ],
   "metadata": {
    "collapsed": false,
    "pycharm": {
     "name": "#%%\n"
    }
   }
  },
  {
   "cell_type": "code",
   "execution_count": null,
   "outputs": [],
   "source": [
    "x = np.array([\n",
    "    [10, 20],\n",
    "    [30, 40]\n",
    "])\n",
    "y = np.array([\n",
    "    [1, 2],\n",
    "    [3, 4]\n",
    "])\n",
    "\n",
    "print(x * y)\n",
    "print(x @ y)\n",
    "print(np.dot(x, y))\n",
    "print(np.matmul(x, y))"
   ],
   "metadata": {
    "collapsed": false,
    "pycharm": {
     "name": "#%%\n"
    }
   }
  },
  {
   "cell_type": "code",
   "execution_count": null,
   "outputs": [],
   "source": [
    "print(\n",
    "    np.array([1, 2]) * np.array([3, 4])\n",
    ")"
   ],
   "metadata": {
    "collapsed": false,
    "pycharm": {
     "name": "#%%\n"
    }
   }
  },
  {
   "cell_type": "code",
   "execution_count": null,
   "outputs": [],
   "source": [
    "x = np.array([\n",
    "    [\n",
    "        [0, 1, 2],\n",
    "        [3, 4, 5]\n",
    "    ],\n",
    "    [\n",
    "        [6, 7, 8],\n",
    "        [9, 10, 11]\n",
    "    ],\n",
    "])\n",
    "print(x.shape, x)\n",
    "\n",
    "y = np.array([\n",
    "    [\n",
    "        [10, 20],\n",
    "        [30, 40],\n",
    "        [50, 60]\n",
    "    ],\n",
    "    [\n",
    "        [50, 60],\n",
    "        [70, 80],\n",
    "        [90, 100]\n",
    "    ]\n",
    "])\n",
    "print(y.shape, y)"
   ],
   "metadata": {
    "collapsed": false,
    "pycharm": {
     "name": "#%%\n"
    }
   }
  },
  {
   "cell_type": "markdown",
   "source": [
    "## x * y\n",
    "$\\begin{align}\n",
    "x * y =\n",
    "\\begin{bmatrix}\n",
    "    \\begin{bmatrix}\n",
    "        \\begin{bmatrix} 1 & 2 \\end{bmatrix} \\\\\n",
    "        \\begin{bmatrix} 3 & 4 \\end{bmatrix}\n",
    "    \\end{bmatrix} \\\\\n",
    "    \\begin{bmatrix}\n",
    "        \\begin{bmatrix} 5 & 6 \\end{bmatrix} \\\\\n",
    "        \\begin{bmatrix} 7 & 8 \\end{bmatrix}\n",
    "    \\end{bmatrix}\n",
    "\\end{bmatrix}\n",
    "* \\begin{bmatrix}\n",
    "    \\begin{bmatrix}\n",
    "        \\begin{bmatrix} 10 & 20 \\end{bmatrix} \\\\\n",
    "        \\begin{bmatrix} 30 & 40 \\end{bmatrix}\n",
    "    \\end{bmatrix} \\\\\n",
    "    \\begin{bmatrix}\n",
    "        \\begin{bmatrix} 50 & 60 \\end{bmatrix} \\\\\n",
    "        \\begin{bmatrix} 70 & 80 \\end{bmatrix}\n",
    "    \\end{bmatrix}\n",
    "\\end{bmatrix}\n",
    "&= \\begin{bmatrix}\n",
    "    \\begin{bmatrix}\n",
    "        \\begin{bmatrix} 1 \\times 10 & 2 \\times 20 \\end{bmatrix} \\\\\n",
    "        \\begin{bmatrix} 3 \\times 30 & 4 \\times 40 \\end{bmatrix}\n",
    "    \\end{bmatrix} \\\\\n",
    "    \\begin{bmatrix}\n",
    "        \\begin{bmatrix} 5 \\times 50 & 6 \\times 60 \\end{bmatrix} \\\\\n",
    "        \\begin{bmatrix} 7 \\times 70 & 8 \\times 80 \\end{bmatrix}\n",
    "    \\end{bmatrix}\n",
    "\\end{bmatrix} \\\\\n",
    "&= \\begin{bmatrix}\n",
    "    \\begin{bmatrix}\n",
    "        \\begin{bmatrix} 10 & 40 \\end{bmatrix} \\\\\n",
    "        \\begin{bmatrix} 90 & 160 \\end{bmatrix}\n",
    "    \\end{bmatrix} \\\\\n",
    "    \\begin{bmatrix}\n",
    "        \\begin{bmatrix} 250 & 360 \\end{bmatrix} \\\\\n",
    "        \\begin{bmatrix} 490 & 640 \\end{bmatrix}\n",
    "    \\end{bmatrix}\n",
    "\\end{bmatrix}\n",
    "\\end{align}$"
   ],
   "metadata": {
    "collapsed": false,
    "pycharm": {
     "name": "#%% md\n"
    }
   }
  },
  {
   "cell_type": "code",
   "execution_count": null,
   "outputs": [],
   "source": [
    "print(\"x * y = \", x * y)"
   ],
   "metadata": {
    "collapsed": false,
    "pycharm": {
     "name": "#%%\n"
    }
   }
  },
  {
   "cell_type": "markdown",
   "source": [
    "## x @ y (np.matmul())\n",
    "$\\begin{align}\n",
    "x \\@ y =\n",
    "\\begin{bmatrix}\n",
    "    \\begin{bmatrix}\n",
    "        \\begin{bmatrix} 1 & 2 \\end{bmatrix} \\\\\n",
    "        \\begin{bmatrix} 3 & 4 \\end{bmatrix}\n",
    "    \\end{bmatrix} \\\\\n",
    "    \\begin{bmatrix}\n",
    "        \\begin{bmatrix} 5 & 6 \\end{bmatrix} \\\\\n",
    "        \\begin{bmatrix} 7 & 8 \\end{bmatrix}\n",
    "    \\end{bmatrix}\n",
    "\\end{bmatrix}\n",
    "\\@ \\begin{bmatrix}\n",
    "    \\begin{bmatrix}\n",
    "        \\begin{bmatrix} 10 & 20 \\end{bmatrix} \\\\\n",
    "        \\begin{bmatrix} 30 & 40 \\end{bmatrix}\n",
    "    \\end{bmatrix} \\\\\n",
    "    \\begin{bmatrix}\n",
    "        \\begin{bmatrix} 50 & 60 \\end{bmatrix} \\\\\n",
    "        \\begin{bmatrix} 70 & 80 \\end{bmatrix}\n",
    "    \\end{bmatrix}\n",
    "\\end{bmatrix}\n",
    "&= \\begin{bmatrix}\n",
    "    \\begin{bmatrix}\n",
    "        \\begin{bmatrix} 1 \\times 10 + 2 \\times 30 & 1 \\times 20 + 2 \\times 40 \\end{bmatrix} \\\\\n",
    "        \\begin{bmatrix} 3 \\times 10 + 4 \\times 30 & 3 \\times 20 + 4 \\times 40 \\end{bmatrix}\n",
    "    \\end{bmatrix} \\\\\n",
    "    \\begin{bmatrix}\n",
    "        \\begin{bmatrix} 5 \\times 50 + 6 \\times 70 & 5 \\times 60 + 6 \\times 80 \\end{bmatrix} \\\\\n",
    "        \\begin{bmatrix} 7 \\times 50 + 8 \\times 70 & 7 \\times 60 + 8 \\times 80 \\end{bmatrix}\n",
    "    \\end{bmatrix}\n",
    "\\end{bmatrix} \\\\\n",
    "&= \\begin{bmatrix}\n",
    "    \\begin{bmatrix}\n",
    "        \\begin{bmatrix}  70 & 100 \\end{bmatrix} \\\\\n",
    "        \\begin{bmatrix} 150 & 220 \\end{bmatrix}\n",
    "    \\end{bmatrix} \\\\\n",
    "    \\begin{bmatrix}\n",
    "        \\begin{bmatrix} 970 &  780 \\end{bmatrix} \\\\\n",
    "        \\begin{bmatrix} 910 & 1060 \\end{bmatrix}\n",
    "    \\end{bmatrix}\n",
    "\\end{bmatrix}\n",
    "\\end{align}$"
   ],
   "metadata": {
    "collapsed": false,
    "pycharm": {
     "name": "#%% md\n"
    }
   }
  },
  {
   "cell_type": "code",
   "execution_count": null,
   "outputs": [],
   "source": [
    "print(\"x @ y = \", x @ y)\n",
    "print(\"np.matmul(x, y) = \", np.matmul(x, y))"
   ],
   "metadata": {
    "collapsed": false,
    "pycharm": {
     "name": "#%%\n"
    }
   }
  },
  {
   "cell_type": "markdown",
   "source": [
    "## dot product\n",
    "$\\begin{align}\n",
    "x \\cdot y =\n",
    "\\begin{bmatrix}\n",
    "    \\begin{bmatrix}\n",
    "        \\begin{bmatrix} 1 & 2 \\end{bmatrix} \\\\\n",
    "        \\begin{bmatrix} 3 & 4 \\end{bmatrix}\n",
    "    \\end{bmatrix} \\\\\n",
    "    \\begin{bmatrix}\n",
    "        \\begin{bmatrix} 5 & 6 \\end{bmatrix} \\\\\n",
    "        \\begin{bmatrix} 7 & 8 \\end{bmatrix}\n",
    "    \\end{bmatrix}\n",
    "\\end{bmatrix}\n",
    "\\cdot \\begin{bmatrix}\n",
    "    \\begin{bmatrix}\n",
    "        \\begin{bmatrix} 10 & 20 \\end{bmatrix} \\\\\n",
    "        \\begin{bmatrix} 30 & 40 \\end{bmatrix}\n",
    "    \\end{bmatrix} \\\\\n",
    "    \\begin{bmatrix}\n",
    "        \\begin{bmatrix} 50 & 60 \\end{bmatrix} \\\\\n",
    "        \\begin{bmatrix} 70 & 80 \\end{bmatrix}\n",
    "    \\end{bmatrix}\n",
    "\\end{bmatrix}\n",
    "&= \\begin{bmatrix}\n",
    "    \\begin{bmatrix}\n",
    "        \\begin{bmatrix}\n",
    "            \\begin{bmatrix} 1 \\times 10 + 2 \\times 30 & 1 \\times 20 + 2 \\times 40 \\end{bmatrix} \\\\\n",
    "            \\begin{bmatrix} 1 \\times 50 + 2 \\times 70 & 1 \\times 60 + 2 \\times 80 \\end{bmatrix}\n",
    "        \\end{bmatrix} \\\\\n",
    "        \\begin{bmatrix}\n",
    "            \\begin{bmatrix} 3 \\times 10 + 4 \\times 30 & 3 \\times 20 + 4 \\times 40 \\end{bmatrix} \\\\\n",
    "            \\begin{bmatrix} 3 \\times 50 + 4 \\times 70 & 3 \\times 60 + 4 \\times 80 \\end{bmatrix}\n",
    "        \\end{bmatrix}\n",
    "    \\end{bmatrix} \\\\\n",
    "    \\begin{bmatrix}\n",
    "        \\begin{bmatrix}\n",
    "            \\begin{bmatrix} 5 \\times 10 + 6 \\times 30 & 5 \\times 20 + 6 \\times 40 \\end{bmatrix} \\\\\n",
    "            \\begin{bmatrix} 5 \\times 50 + 6 \\times 70 & 5 \\times 60 + 6 \\times 80 \\end{bmatrix}\n",
    "        \\end{bmatrix} \\\\\n",
    "        \\begin{bmatrix}\n",
    "            \\begin{bmatrix} 7 \\times 10 + 8 \\times 30 & 7 \\times 20 + 8 \\times 40 \\end{bmatrix} \\\\\n",
    "            \\begin{bmatrix} 7 \\times 50 + 8 \\times 70 & 7 \\times 60 + 8 \\times 80 \\end{bmatrix}\n",
    "        \\end{bmatrix}\n",
    "    \\end{bmatrix}\n",
    "\\end{bmatrix} \\\\\n",
    "&= \\begin{bmatrix}\n",
    "    \\begin{bmatrix}\n",
    "        \\begin{bmatrix}\n",
    "            \\begin{bmatrix}  70 & 100 \\end{bmatrix} \\\\\n",
    "            \\begin{bmatrix} 190 & 220 \\end{bmatrix}\n",
    "        \\end{bmatrix} \\\\\n",
    "        \\begin{bmatrix}\n",
    "            \\begin{bmatrix} 150 & 220 \\end{bmatrix} \\\\\n",
    "            \\begin{bmatrix} 430 & 500 \\end{bmatrix}\n",
    "        \\end{bmatrix}\n",
    "    \\end{bmatrix} \\\\\n",
    "    \\begin{bmatrix}\n",
    "        \\begin{bmatrix}\n",
    "            \\begin{bmatrix} 230 & 340 \\end{bmatrix} \\\\\n",
    "            \\begin{bmatrix} 670 & 780 \\end{bmatrix}\n",
    "        \\end{bmatrix} \\\\\n",
    "        \\begin{bmatrix}\n",
    "            \\begin{bmatrix} 310 &  460 \\end{bmatrix} \\\\\n",
    "            \\begin{bmatrix} 910 & 1060 \\end{bmatrix}\n",
    "        \\end{bmatrix}\n",
    "    \\end{bmatrix}\n",
    "\\end{bmatrix}\n",
    "\\end{align}$"
   ],
   "metadata": {
    "collapsed": false,
    "pycharm": {
     "name": "#%% md\n"
    }
   }
  },
  {
   "cell_type": "code",
   "execution_count": null,
   "outputs": [],
   "source": [
    "z = np.dot(x, y)\n",
    "print(\"np.dot(x, y) = \", z.shape, z)"
   ],
   "metadata": {
    "collapsed": false,
    "pycharm": {
     "name": "#%%\n"
    }
   }
  },
  {
   "cell_type": "code",
   "execution_count": null,
   "outputs": [],
   "source": [],
   "metadata": {
    "collapsed": false,
    "pycharm": {
     "name": "#%%\n"
    }
   }
  }
 ],
 "metadata": {
  "kernelspec": {
   "display_name": "Python 3",
   "language": "python",
   "name": "python3"
  },
  "language_info": {
   "codemirror_mode": {
    "name": "ipython",
    "version": 2
   },
   "file_extension": ".py",
   "mimetype": "text/x-python",
   "name": "python",
   "nbconvert_exporter": "python",
   "pygments_lexer": "ipython2",
   "version": "2.7.6"
  }
 },
 "nbformat": 4,
 "nbformat_minor": 0
}