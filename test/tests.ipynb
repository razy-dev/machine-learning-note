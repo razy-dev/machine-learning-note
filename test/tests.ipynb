{
 "cells": [
  {
   "cell_type": "code",
   "execution_count": 84,
   "metadata": {
    "collapsed": true,
    "pycharm": {
     "name": "#%%\n"
    }
   },
   "outputs": [],
   "source": [
    "import numpy as np\n",
    "from matplotlib import pyplot as plt"
   ]
  },
  {
   "cell_type": "markdown",
   "source": [
    "## $\\times$"
   ],
   "metadata": {
    "collapsed": false,
    "pycharm": {
     "name": "#%% md\n"
    }
   }
  },
  {
   "cell_type": "code",
   "execution_count": 85,
   "outputs": [
    {
     "name": "stdout",
     "output_type": "stream",
     "text": [
      "[[ 10  40]\n",
      " [ 90 160]]\n",
      "[[ 70 100]\n",
      " [150 220]]\n",
      "[[ 70 100]\n",
      " [150 220]]\n",
      "[[ 70 100]\n",
      " [150 220]]\n"
     ]
    }
   ],
   "source": [
    "x = np.array([\n",
    "    [10, 20],\n",
    "    [30, 40]\n",
    "])\n",
    "y = np.array([\n",
    "    [1, 2],\n",
    "    [3, 4]\n",
    "])\n",
    "\n",
    "print(x * y)\n",
    "print(x @ y)\n",
    "print(np.dot(x, y))\n",
    "print(np.matmul(x, y))"
   ],
   "metadata": {
    "collapsed": false,
    "pycharm": {
     "name": "#%%\n"
    }
   }
  },
  {
   "cell_type": "code",
   "execution_count": 86,
   "outputs": [
    {
     "name": "stdout",
     "output_type": "stream",
     "text": [
      "[3 8]\n"
     ]
    }
   ],
   "source": [
    "print(\n",
    "    np.array([1, 2]) * np.array([3, 4])\n",
    ")"
   ],
   "metadata": {
    "collapsed": false,
    "pycharm": {
     "name": "#%%\n"
    }
   }
  },
  {
   "cell_type": "code",
   "execution_count": 87,
   "outputs": [
    {
     "name": "stdout",
     "output_type": "stream",
     "text": [
      "(2, 2, 3) [[[ 0  1  2]\n",
      "  [ 3  4  5]]\n",
      "\n",
      " [[ 6  7  8]\n",
      "  [ 9 10 11]]]\n",
      "(2, 3, 2) [[[ 10  20]\n",
      "  [ 30  40]\n",
      "  [ 50  60]]\n",
      "\n",
      " [[ 50  60]\n",
      "  [ 70  80]\n",
      "  [ 90 100]]]\n"
     ]
    }
   ],
   "source": [
    "x = np.array([\n",
    "    [\n",
    "        [0, 1, 2],\n",
    "        [3, 4, 5]\n",
    "    ],\n",
    "    [\n",
    "        [6, 7, 8],\n",
    "        [9, 10, 11]\n",
    "    ],\n",
    "])\n",
    "print(x.shape, x)\n",
    "\n",
    "y = np.array([\n",
    "    [\n",
    "        [10, 20],\n",
    "        [30, 40],\n",
    "        [50, 60]\n",
    "    ],\n",
    "    [\n",
    "        [50, 60],\n",
    "        [70, 80],\n",
    "        [90, 100]\n",
    "    ]\n",
    "])\n",
    "print(y.shape, y)"
   ],
   "metadata": {
    "collapsed": false,
    "pycharm": {
     "name": "#%%\n"
    }
   }
  },
  {
   "cell_type": "markdown",
   "source": [
    "## x * y\n",
    "$\\begin{align}\n",
    "x * y =\n",
    "\\begin{bmatrix}\n",
    "    \\begin{bmatrix}\n",
    "        \\begin{bmatrix} 1 & 2 \\end{bmatrix} \\\\\n",
    "        \\begin{bmatrix} 3 & 4 \\end{bmatrix}\n",
    "    \\end{bmatrix} \\\\\n",
    "    \\begin{bmatrix}\n",
    "        \\begin{bmatrix} 5 & 6 \\end{bmatrix} \\\\\n",
    "        \\begin{bmatrix} 7 & 8 \\end{bmatrix}\n",
    "    \\end{bmatrix}\n",
    "\\end{bmatrix}\n",
    "* \\begin{bmatrix}\n",
    "    \\begin{bmatrix}\n",
    "        \\begin{bmatrix} 10 & 20 \\end{bmatrix} \\\\\n",
    "        \\begin{bmatrix} 30 & 40 \\end{bmatrix}\n",
    "    \\end{bmatrix} \\\\\n",
    "    \\begin{bmatrix}\n",
    "        \\begin{bmatrix} 50 & 60 \\end{bmatrix} \\\\\n",
    "        \\begin{bmatrix} 70 & 80 \\end{bmatrix}\n",
    "    \\end{bmatrix}\n",
    "\\end{bmatrix}\n",
    "&= \\begin{bmatrix}\n",
    "    \\begin{bmatrix}\n",
    "        \\begin{bmatrix} 1 \\times 10 & 2 \\times 20 \\end{bmatrix} \\\\\n",
    "        \\begin{bmatrix} 3 \\times 30 & 4 \\times 40 \\end{bmatrix}\n",
    "    \\end{bmatrix} \\\\\n",
    "    \\begin{bmatrix}\n",
    "        \\begin{bmatrix} 5 \\times 50 & 6 \\times 60 \\end{bmatrix} \\\\\n",
    "        \\begin{bmatrix} 7 \\times 70 & 8 \\times 80 \\end{bmatrix}\n",
    "    \\end{bmatrix}\n",
    "\\end{bmatrix} \\\\\n",
    "&= \\begin{bmatrix}\n",
    "    \\begin{bmatrix}\n",
    "        \\begin{bmatrix} 10 & 40 \\end{bmatrix} \\\\\n",
    "        \\begin{bmatrix} 90 & 160 \\end{bmatrix}\n",
    "    \\end{bmatrix} \\\\\n",
    "    \\begin{bmatrix}\n",
    "        \\begin{bmatrix} 250 & 360 \\end{bmatrix} \\\\\n",
    "        \\begin{bmatrix} 490 & 640 \\end{bmatrix}\n",
    "    \\end{bmatrix}\n",
    "\\end{bmatrix}\n",
    "\\end{align}$"
   ],
   "metadata": {
    "collapsed": false,
    "pycharm": {
     "name": "#%% md\n"
    }
   }
  },
  {
   "cell_type": "code",
   "execution_count": 88,
   "outputs": [
    {
     "ename": "ValueError",
     "evalue": "operands could not be broadcast together with shapes (2,2,3) (2,3,2) ",
     "output_type": "error",
     "traceback": [
      "\u001B[0;31m---------------------------------------------------------------------------\u001B[0m",
      "\u001B[0;31mValueError\u001B[0m                                Traceback (most recent call last)",
      "Cell \u001B[0;32mIn [88], line 1\u001B[0m\n\u001B[0;32m----> 1\u001B[0m \u001B[38;5;28mprint\u001B[39m(\u001B[38;5;124m\"\u001B[39m\u001B[38;5;124mx * y = \u001B[39m\u001B[38;5;124m\"\u001B[39m, \u001B[43mx\u001B[49m\u001B[43m \u001B[49m\u001B[38;5;241;43m*\u001B[39;49m\u001B[43m \u001B[49m\u001B[43my\u001B[49m)\n",
      "\u001B[0;31mValueError\u001B[0m: operands could not be broadcast together with shapes (2,2,3) (2,3,2) "
     ]
    }
   ],
   "source": [
    "print(\"x * y = \", x * y)"
   ],
   "metadata": {
    "collapsed": false,
    "pycharm": {
     "name": "#%%\n"
    }
   }
  },
  {
   "cell_type": "markdown",
   "source": [
    "## x @ y (np.matmul())\n",
    "$\\begin{align}\n",
    "x \\@ y =\n",
    "\\begin{bmatrix}\n",
    "    \\begin{bmatrix}\n",
    "        \\begin{bmatrix} 1 & 2 \\end{bmatrix} \\\\\n",
    "        \\begin{bmatrix} 3 & 4 \\end{bmatrix}\n",
    "    \\end{bmatrix} \\\\\n",
    "    \\begin{bmatrix}\n",
    "        \\begin{bmatrix} 5 & 6 \\end{bmatrix} \\\\\n",
    "        \\begin{bmatrix} 7 & 8 \\end{bmatrix}\n",
    "    \\end{bmatrix}\n",
    "\\end{bmatrix}\n",
    "\\@ \\begin{bmatrix}\n",
    "    \\begin{bmatrix}\n",
    "        \\begin{bmatrix} 10 & 20 \\end{bmatrix} \\\\\n",
    "        \\begin{bmatrix} 30 & 40 \\end{bmatrix}\n",
    "    \\end{bmatrix} \\\\\n",
    "    \\begin{bmatrix}\n",
    "        \\begin{bmatrix} 50 & 60 \\end{bmatrix} \\\\\n",
    "        \\begin{bmatrix} 70 & 80 \\end{bmatrix}\n",
    "    \\end{bmatrix}\n",
    "\\end{bmatrix}\n",
    "&= \\begin{bmatrix}\n",
    "    \\begin{bmatrix}\n",
    "        \\begin{bmatrix} 1 \\times 10 + 2 \\times 30 & 1 \\times 20 + 2 \\times 40 \\end{bmatrix} \\\\\n",
    "        \\begin{bmatrix} 3 \\times 10 + 4 \\times 30 & 3 \\times 20 + 4 \\times 40 \\end{bmatrix}\n",
    "    \\end{bmatrix} \\\\\n",
    "    \\begin{bmatrix}\n",
    "        \\begin{bmatrix} 5 \\times 50 + 6 \\times 70 & 5 \\times 60 + 6 \\times 80 \\end{bmatrix} \\\\\n",
    "        \\begin{bmatrix} 7 \\times 50 + 8 \\times 70 & 7 \\times 60 + 8 \\times 80 \\end{bmatrix}\n",
    "    \\end{bmatrix}\n",
    "\\end{bmatrix} \\\\\n",
    "&= \\begin{bmatrix}\n",
    "    \\begin{bmatrix}\n",
    "        \\begin{bmatrix}  70 & 100 \\end{bmatrix} \\\\\n",
    "        \\begin{bmatrix} 150 & 220 \\end{bmatrix}\n",
    "    \\end{bmatrix} \\\\\n",
    "    \\begin{bmatrix}\n",
    "        \\begin{bmatrix} 970 &  780 \\end{bmatrix} \\\\\n",
    "        \\begin{bmatrix} 910 & 1060 \\end{bmatrix}\n",
    "    \\end{bmatrix}\n",
    "\\end{bmatrix}\n",
    "\\end{align}$"
   ],
   "metadata": {
    "collapsed": false,
    "pycharm": {
     "name": "#%% md\n"
    }
   }
  },
  {
   "cell_type": "code",
   "execution_count": null,
   "outputs": [],
   "source": [
    "print(\"x @ y = \", x @ y)\n",
    "print(\"np.matmul(x, y) = \", np.matmul(x, y))"
   ],
   "metadata": {
    "collapsed": false,
    "pycharm": {
     "name": "#%%\n"
    }
   }
  },
  {
   "cell_type": "markdown",
   "source": [
    "## dot product\n",
    "$\\begin{align}\n",
    "x \\cdot y =\n",
    "\\begin{bmatrix}\n",
    "    \\begin{bmatrix}\n",
    "        \\begin{bmatrix} 1 & 2 \\end{bmatrix} \\\\\n",
    "        \\begin{bmatrix} 3 & 4 \\end{bmatrix}\n",
    "    \\end{bmatrix} \\\\\n",
    "    \\begin{bmatrix}\n",
    "        \\begin{bmatrix} 5 & 6 \\end{bmatrix} \\\\\n",
    "        \\begin{bmatrix} 7 & 8 \\end{bmatrix}\n",
    "    \\end{bmatrix}\n",
    "\\end{bmatrix}\n",
    "\\cdot \\begin{bmatrix}\n",
    "    \\begin{bmatrix}\n",
    "        \\begin{bmatrix} 10 & 20 \\end{bmatrix} \\\\\n",
    "        \\begin{bmatrix} 30 & 40 \\end{bmatrix}\n",
    "    \\end{bmatrix} \\\\\n",
    "    \\begin{bmatrix}\n",
    "        \\begin{bmatrix} 50 & 60 \\end{bmatrix} \\\\\n",
    "        \\begin{bmatrix} 70 & 80 \\end{bmatrix}\n",
    "    \\end{bmatrix}\n",
    "\\end{bmatrix}\n",
    "&= \\begin{bmatrix}\n",
    "    \\begin{bmatrix}\n",
    "        \\begin{bmatrix}\n",
    "            \\begin{bmatrix} 1 \\times 10 + 2 \\times 30 & 1 \\times 20 + 2 \\times 40 \\end{bmatrix} \\\\\n",
    "            \\begin{bmatrix} 1 \\times 50 + 2 \\times 70 & 1 \\times 60 + 2 \\times 80 \\end{bmatrix}\n",
    "        \\end{bmatrix} \\\\\n",
    "        \\begin{bmatrix}\n",
    "            \\begin{bmatrix} 3 \\times 10 + 4 \\times 30 & 3 \\times 20 + 4 \\times 40 \\end{bmatrix} \\\\\n",
    "            \\begin{bmatrix} 3 \\times 50 + 4 \\times 70 & 3 \\times 60 + 4 \\times 80 \\end{bmatrix}\n",
    "        \\end{bmatrix}\n",
    "    \\end{bmatrix} \\\\\n",
    "    \\begin{bmatrix}\n",
    "        \\begin{bmatrix}\n",
    "            \\begin{bmatrix} 5 \\times 10 + 6 \\times 30 & 5 \\times 20 + 6 \\times 40 \\end{bmatrix} \\\\\n",
    "            \\begin{bmatrix} 5 \\times 50 + 6 \\times 70 & 5 \\times 60 + 6 \\times 80 \\end{bmatrix}\n",
    "        \\end{bmatrix} \\\\\n",
    "        \\begin{bmatrix}\n",
    "            \\begin{bmatrix} 7 \\times 10 + 8 \\times 30 & 7 \\times 20 + 8 \\times 40 \\end{bmatrix} \\\\\n",
    "            \\begin{bmatrix} 7 \\times 50 + 8 \\times 70 & 7 \\times 60 + 8 \\times 80 \\end{bmatrix}\n",
    "        \\end{bmatrix}\n",
    "    \\end{bmatrix}\n",
    "\\end{bmatrix} \\\\\n",
    "&= \\begin{bmatrix}\n",
    "    \\begin{bmatrix}\n",
    "        \\begin{bmatrix}\n",
    "            \\begin{bmatrix}  70 & 100 \\end{bmatrix} \\\\\n",
    "            \\begin{bmatrix} 190 & 220 \\end{bmatrix}\n",
    "        \\end{bmatrix} \\\\\n",
    "        \\begin{bmatrix}\n",
    "            \\begin{bmatrix} 150 & 220 \\end{bmatrix} \\\\\n",
    "            \\begin{bmatrix} 430 & 500 \\end{bmatrix}\n",
    "        \\end{bmatrix}\n",
    "    \\end{bmatrix} \\\\\n",
    "    \\begin{bmatrix}\n",
    "        \\begin{bmatrix}\n",
    "            \\begin{bmatrix} 230 & 340 \\end{bmatrix} \\\\\n",
    "            \\begin{bmatrix} 670 & 780 \\end{bmatrix}\n",
    "        \\end{bmatrix} \\\\\n",
    "        \\begin{bmatrix}\n",
    "            \\begin{bmatrix} 310 &  460 \\end{bmatrix} \\\\\n",
    "            \\begin{bmatrix} 910 & 1060 \\end{bmatrix}\n",
    "        \\end{bmatrix}\n",
    "    \\end{bmatrix}\n",
    "\\end{bmatrix}\n",
    "\\end{align}$"
   ],
   "metadata": {
    "collapsed": false,
    "pycharm": {
     "name": "#%% md\n"
    }
   }
  },
  {
   "cell_type": "code",
   "execution_count": null,
   "outputs": [],
   "source": [
    "z = np.dot(x, y)\n",
    "print(\"np.dot(x, y) = \", z.shape, z)"
   ],
   "metadata": {
    "collapsed": false,
    "pycharm": {
     "name": "#%%\n"
    }
   }
  },
  {
   "cell_type": "code",
   "execution_count": null,
   "outputs": [],
   "source": [],
   "metadata": {
    "collapsed": false,
    "pycharm": {
     "name": "#%%\n"
    }
   }
  }
 ],
 "metadata": {
  "kernelspec": {
   "display_name": "Python 3",
   "language": "python",
   "name": "python3"
  },
  "language_info": {
   "codemirror_mode": {
    "name": "ipython",
    "version": 2
   },
   "file_extension": ".py",
   "mimetype": "text/x-python",
   "name": "python",
   "nbconvert_exporter": "python",
   "pygments_lexer": "ipython2",
   "version": "2.7.6"
  }
 },
 "nbformat": 4,
 "nbformat_minor": 0
}