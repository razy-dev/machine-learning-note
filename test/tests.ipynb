{
 "cells": [
  {
   "cell_type": "code",
   "execution_count": 1,
   "metadata": {
    "collapsed": true,
    "pycharm": {
     "name": "#%%\n"
    }
   },
   "outputs": [],
   "source": [
    "import numpy as np\n",
    "from matplotlib import pyplot as plt"
   ]
  },
  {
   "cell_type": "code",
   "execution_count": 6,
   "outputs": [
    {
     "data": {
      "text/plain": "[1, 2, 3]"
     },
     "execution_count": 6,
     "metadata": {},
     "output_type": "execute_result"
    }
   ],
   "source": [
    "[1, 2, 3][:None]"
   ],
   "metadata": {
    "collapsed": false,
    "pycharm": {
     "name": "#%%\n"
    }
   }
  },
  {
   "cell_type": "code",
   "execution_count": 7,
   "outputs": [
    {
     "name": "stdout",
     "output_type": "stream",
     "text": [
      "(1,) [24]\n"
     ]
    }
   ],
   "source": [
    "x = np.array([2, 3])\n",
    "w = np.array([4, 5])\n",
    "b = np.array([1])\n",
    "z = np.matmul(w, x) + b  # 2 * 4 + 3 * 5 + 1\n",
    "print(z.shape, z)"
   ],
   "metadata": {
    "collapsed": false,
    "pycharm": {
     "name": "#%%\n"
    }
   }
  },
  {
   "cell_type": "code",
   "execution_count": 11,
   "outputs": [
    {
     "name": "stdout",
     "output_type": "stream",
     "text": [
      "0.7310585786300049\n"
     ]
    }
   ],
   "source": [
    "i = 1\n",
    "s = 1. / (1 + np.exp(-i))\n",
    "print(s)"
   ],
   "metadata": {
    "collapsed": false,
    "pycharm": {
     "name": "#%%\n"
    }
   }
  },
  {
   "cell_type": "code",
   "execution_count": null,
   "outputs": [],
   "source": [
    "x = np.array([\n",
    "    [10, 20],\n",
    "    [30, 40]\n",
    "])\n",
    "y = np.array([\n",
    "    [1, 2],\n",
    "    [3, 4]\n",
    "])\n",
    "\n",
    "print(x * y)\n",
    "print(x @ y)\n",
    "print(np.dot(x, y))\n",
    "print(np.matmul(x, y))"
   ],
   "metadata": {
    "collapsed": false,
    "pycharm": {
     "name": "#%%\n"
    }
   }
  },
  {
   "cell_type": "code",
   "execution_count": null,
   "outputs": [],
   "source": [
    "print(\n",
    "    np.array([1, 2]) * np.array([3, 4])\n",
    ")"
   ],
   "metadata": {
    "collapsed": false,
    "pycharm": {
     "name": "#%%\n"
    }
   }
  },
  {
   "cell_type": "code",
   "execution_count": null,
   "outputs": [],
   "source": [
    "x = np.array([\n",
    "    [\n",
    "        [0, 1, 2],\n",
    "        [3, 4, 5]\n",
    "    ],\n",
    "    [\n",
    "        [6, 7, 8],\n",
    "        [9, 10, 11]\n",
    "    ],\n",
    "])\n",
    "print(x.shape, x)\n",
    "\n",
    "y = np.array([\n",
    "    [\n",
    "        [10, 20],\n",
    "        [30, 40],\n",
    "        [50, 60]\n",
    "    ],\n",
    "    [\n",
    "        [50, 60],\n",
    "        [70, 80],\n",
    "        [90, 100]\n",
    "    ]\n",
    "])\n",
    "print(y.shape, y)"
   ],
   "metadata": {
    "collapsed": false,
    "pycharm": {
     "name": "#%%\n"
    }
   }
  },
  {
   "cell_type": "markdown",
   "source": [
    "## x * y\n",
    "$\\begin{align}\n",
    "x * y =\n",
    "\\begin{bmatrix}\n",
    "    \\begin{bmatrix}\n",
    "        \\begin{bmatrix} 1 & 2 \\end{bmatrix} \\\\\n",
    "        \\begin{bmatrix} 3 & 4 \\end{bmatrix}\n",
    "    \\end{bmatrix} \\\\\n",
    "    \\begin{bmatrix}\n",
    "        \\begin{bmatrix} 5 & 6 \\end{bmatrix} \\\\\n",
    "        \\begin{bmatrix} 7 & 8 \\end{bmatrix}\n",
    "    \\end{bmatrix}\n",
    "\\end{bmatrix}\n",
    "* \\begin{bmatrix}\n",
    "    \\begin{bmatrix}\n",
    "        \\begin{bmatrix} 10 & 20 \\end{bmatrix} \\\\\n",
    "        \\begin{bmatrix} 30 & 40 \\end{bmatrix}\n",
    "    \\end{bmatrix} \\\\\n",
    "    \\begin{bmatrix}\n",
    "        \\begin{bmatrix} 50 & 60 \\end{bmatrix} \\\\\n",
    "        \\begin{bmatrix} 70 & 80 \\end{bmatrix}\n",
    "    \\end{bmatrix}\n",
    "\\end{bmatrix}\n",
    "&= \\begin{bmatrix}\n",
    "    \\begin{bmatrix}\n",
    "        \\begin{bmatrix} 1 \\times 10 & 2 \\times 20 \\end{bmatrix} \\\\\n",
    "        \\begin{bmatrix} 3 \\times 30 & 4 \\times 40 \\end{bmatrix}\n",
    "    \\end{bmatrix} \\\\\n",
    "    \\begin{bmatrix}\n",
    "        \\begin{bmatrix} 5 \\times 50 & 6 \\times 60 \\end{bmatrix} \\\\\n",
    "        \\begin{bmatrix} 7 \\times 70 & 8 \\times 80 \\end{bmatrix}\n",
    "    \\end{bmatrix}\n",
    "\\end{bmatrix} \\\\\n",
    "&= \\begin{bmatrix}\n",
    "    \\begin{bmatrix}\n",
    "        \\begin{bmatrix} 10 & 40 \\end{bmatrix} \\\\\n",
    "        \\begin{bmatrix} 90 & 160 \\end{bmatrix}\n",
    "    \\end{bmatrix} \\\\\n",
    "    \\begin{bmatrix}\n",
    "        \\begin{bmatrix} 250 & 360 \\end{bmatrix} \\\\\n",
    "        \\begin{bmatrix} 490 & 640 \\end{bmatrix}\n",
    "    \\end{bmatrix}\n",
    "\\end{bmatrix}\n",
    "\\end{align}$"
   ],
   "metadata": {
    "collapsed": false,
    "pycharm": {
     "name": "#%% md\n"
    }
   }
  },
  {
   "cell_type": "code",
   "execution_count": null,
   "outputs": [],
   "source": [
    "print(\"x * y = \", x * y)"
   ],
   "metadata": {
    "collapsed": false,
    "pycharm": {
     "name": "#%%\n"
    }
   }
  },
  {
   "cell_type": "markdown",
   "source": [
    "## x @ y (np.matmul())\n",
    "$\\begin{align}\n",
    "x \\@ y =\n",
    "\\begin{bmatrix}\n",
    "    \\begin{bmatrix}\n",
    "        \\begin{bmatrix} 1 & 2 \\end{bmatrix} \\\\\n",
    "        \\begin{bmatrix} 3 & 4 \\end{bmatrix}\n",
    "    \\end{bmatrix} \\\\\n",
    "    \\begin{bmatrix}\n",
    "        \\begin{bmatrix} 5 & 6 \\end{bmatrix} \\\\\n",
    "        \\begin{bmatrix} 7 & 8 \\end{bmatrix}\n",
    "    \\end{bmatrix}\n",
    "\\end{bmatrix}\n",
    "\\@ \\begin{bmatrix}\n",
    "    \\begin{bmatrix}\n",
    "        \\begin{bmatrix} 10 & 20 \\end{bmatrix} \\\\\n",
    "        \\begin{bmatrix} 30 & 40 \\end{bmatrix}\n",
    "    \\end{bmatrix} \\\\\n",
    "    \\begin{bmatrix}\n",
    "        \\begin{bmatrix} 50 & 60 \\end{bmatrix} \\\\\n",
    "        \\begin{bmatrix} 70 & 80 \\end{bmatrix}\n",
    "    \\end{bmatrix}\n",
    "\\end{bmatrix}\n",
    "&= \\begin{bmatrix}\n",
    "    \\begin{bmatrix}\n",
    "        \\begin{bmatrix} 1 \\times 10 + 2 \\times 30 & 1 \\times 20 + 2 \\times 40 \\end{bmatrix} \\\\\n",
    "        \\begin{bmatrix} 3 \\times 10 + 4 \\times 30 & 3 \\times 20 + 4 \\times 40 \\end{bmatrix}\n",
    "    \\end{bmatrix} \\\\\n",
    "    \\begin{bmatrix}\n",
    "        \\begin{bmatrix} 5 \\times 50 + 6 \\times 70 & 5 \\times 60 + 6 \\times 80 \\end{bmatrix} \\\\\n",
    "        \\begin{bmatrix} 7 \\times 50 + 8 \\times 70 & 7 \\times 60 + 8 \\times 80 \\end{bmatrix}\n",
    "    \\end{bmatrix}\n",
    "\\end{bmatrix} \\\\\n",
    "&= \\begin{bmatrix}\n",
    "    \\begin{bmatrix}\n",
    "        \\begin{bmatrix}  70 & 100 \\end{bmatrix} \\\\\n",
    "        \\begin{bmatrix} 150 & 220 \\end{bmatrix}\n",
    "    \\end{bmatrix} \\\\\n",
    "    \\begin{bmatrix}\n",
    "        \\begin{bmatrix} 970 &  780 \\end{bmatrix} \\\\\n",
    "        \\begin{bmatrix} 910 & 1060 \\end{bmatrix}\n",
    "    \\end{bmatrix}\n",
    "\\end{bmatrix}\n",
    "\\end{align}$"
   ],
   "metadata": {
    "collapsed": false,
    "pycharm": {
     "name": "#%% md\n"
    }
   }
  },
  {
   "cell_type": "code",
   "execution_count": null,
   "outputs": [],
   "source": [
    "print(\"x @ y = \", x @ y)\n",
    "print(\"np.matmul(x, y) = \", np.matmul(x, y))"
   ],
   "metadata": {
    "collapsed": false,
    "pycharm": {
     "name": "#%%\n"
    }
   }
  },
  {
   "cell_type": "markdown",
   "source": [
    "## dot product\n",
    "$\\begin{align}\n",
    "x \\cdot y =\n",
    "\\begin{bmatrix}\n",
    "    \\begin{bmatrix}\n",
    "        \\begin{bmatrix} 1 & 2 \\end{bmatrix} \\\\\n",
    "        \\begin{bmatrix} 3 & 4 \\end{bmatrix}\n",
    "    \\end{bmatrix} \\\\\n",
    "    \\begin{bmatrix}\n",
    "        \\begin{bmatrix} 5 & 6 \\end{bmatrix} \\\\\n",
    "        \\begin{bmatrix} 7 & 8 \\end{bmatrix}\n",
    "    \\end{bmatrix}\n",
    "\\end{bmatrix}\n",
    "\\cdot \\begin{bmatrix}\n",
    "    \\begin{bmatrix}\n",
    "        \\begin{bmatrix} 10 & 20 \\end{bmatrix} \\\\\n",
    "        \\begin{bmatrix} 30 & 40 \\end{bmatrix}\n",
    "    \\end{bmatrix} \\\\\n",
    "    \\begin{bmatrix}\n",
    "        \\begin{bmatrix} 50 & 60 \\end{bmatrix} \\\\\n",
    "        \\begin{bmatrix} 70 & 80 \\end{bmatrix}\n",
    "    \\end{bmatrix}\n",
    "\\end{bmatrix}\n",
    "&= \\begin{bmatrix}\n",
    "    \\begin{bmatrix}\n",
    "        \\begin{bmatrix}\n",
    "            \\begin{bmatrix} 1 \\times 10 + 2 \\times 30 & 1 \\times 20 + 2 \\times 40 \\end{bmatrix} \\\\\n",
    "            \\begin{bmatrix} 1 \\times 50 + 2 \\times 70 & 1 \\times 60 + 2 \\times 80 \\end{bmatrix}\n",
    "        \\end{bmatrix} \\\\\n",
    "        \\begin{bmatrix}\n",
    "            \\begin{bmatrix} 3 \\times 10 + 4 \\times 30 & 3 \\times 20 + 4 \\times 40 \\end{bmatrix} \\\\\n",
    "            \\begin{bmatrix} 3 \\times 50 + 4 \\times 70 & 3 \\times 60 + 4 \\times 80 \\end{bmatrix}\n",
    "        \\end{bmatrix}\n",
    "    \\end{bmatrix} \\\\\n",
    "    \\begin{bmatrix}\n",
    "        \\begin{bmatrix}\n",
    "            \\begin{bmatrix} 5 \\times 10 + 6 \\times 30 & 5 \\times 20 + 6 \\times 40 \\end{bmatrix} \\\\\n",
    "            \\begin{bmatrix} 5 \\times 50 + 6 \\times 70 & 5 \\times 60 + 6 \\times 80 \\end{bmatrix}\n",
    "        \\end{bmatrix} \\\\\n",
    "        \\begin{bmatrix}\n",
    "            \\begin{bmatrix} 7 \\times 10 + 8 \\times 30 & 7 \\times 20 + 8 \\times 40 \\end{bmatrix} \\\\\n",
    "            \\begin{bmatrix} 7 \\times 50 + 8 \\times 70 & 7 \\times 60 + 8 \\times 80 \\end{bmatrix}\n",
    "        \\end{bmatrix}\n",
    "    \\end{bmatrix}\n",
    "\\end{bmatrix} \\\\\n",
    "&= \\begin{bmatrix}\n",
    "    \\begin{bmatrix}\n",
    "        \\begin{bmatrix}\n",
    "            \\begin{bmatrix}  70 & 100 \\end{bmatrix} \\\\\n",
    "            \\begin{bmatrix} 190 & 220 \\end{bmatrix}\n",
    "        \\end{bmatrix} \\\\\n",
    "        \\begin{bmatrix}\n",
    "            \\begin{bmatrix} 150 & 220 \\end{bmatrix} \\\\\n",
    "            \\begin{bmatrix} 430 & 500 \\end{bmatrix}\n",
    "        \\end{bmatrix}\n",
    "    \\end{bmatrix} \\\\\n",
    "    \\begin{bmatrix}\n",
    "        \\begin{bmatrix}\n",
    "            \\begin{bmatrix} 230 & 340 \\end{bmatrix} \\\\\n",
    "            \\begin{bmatrix} 670 & 780 \\end{bmatrix}\n",
    "        \\end{bmatrix} \\\\\n",
    "        \\begin{bmatrix}\n",
    "            \\begin{bmatrix} 310 &  460 \\end{bmatrix} \\\\\n",
    "            \\begin{bmatrix} 910 & 1060 \\end{bmatrix}\n",
    "        \\end{bmatrix}\n",
    "    \\end{bmatrix}\n",
    "\\end{bmatrix}\n",
    "\\end{align}$"
   ],
   "metadata": {
    "collapsed": false,
    "pycharm": {
     "name": "#%% md\n"
    }
   }
  },
  {
   "cell_type": "code",
   "execution_count": null,
   "outputs": [],
   "source": [
    "z = np.dot(x, y)\n",
    "print(\"np.dot(x, y) = \", z.shape, z)"
   ],
   "metadata": {
    "collapsed": false,
    "pycharm": {
     "name": "#%%\n"
    }
   }
  },
  {
   "cell_type": "code",
   "execution_count": 16,
   "outputs": [
    {
     "name": "stdout",
     "output_type": "stream",
     "text": [
      "(5,)\n",
      "(1, 2, 3, 4, 5)\n"
     ]
    }
   ],
   "source": [
    "a = (1, 2)\n",
    "b = (3, 4)\n",
    "c = 5\n",
    "print((c,))\n",
    "print(a + b + (c,))"
   ],
   "metadata": {
    "collapsed": false,
    "pycharm": {
     "name": "#%%\n"
    }
   }
  },
  {
   "cell_type": "code",
   "execution_count": 27,
   "outputs": [
    {
     "name": "stdout",
     "output_type": "stream",
     "text": [
      "tensor([[1., 2., 3.],\n",
      "        [2., 3., 4.],\n",
      "        [3., 4., 5.],\n",
      "        [4., 5., 6.],\n",
      "        [5., 6., 7.],\n",
      "        [6., 7., 8.]]) tensor([[ 4.,  5.],\n",
      "        [ 5.,  6.],\n",
      "        [ 6.,  7.],\n",
      "        [ 7.,  8.],\n",
      "        [ 8.,  9.],\n",
      "        [ 9., 10.]])\n"
     ]
    }
   ],
   "source": [
    "import numpy as np\n",
    "import torch\n",
    "\n",
    "d = np.linspace(1, 10, 10)\n",
    "s = 3\n",
    "f = 2\n",
    "x = []\n",
    "y = []\n",
    "for i in range(s, len(d) - f + 1):\n",
    "    x.append(d[i - s:i])\n",
    "    y.append(d[i:i + f])\n",
    "print(torch.FloatTensor(np.array(x)), torch.FloatTensor(np.array(y)))"
   ],
   "metadata": {
    "collapsed": false,
    "pycharm": {
     "name": "#%%\n"
    }
   }
  },
  {
   "cell_type": "code",
   "execution_count": 30,
   "outputs": [
    {
     "ename": "KeyboardInterrupt",
     "evalue": "",
     "output_type": "error",
     "traceback": [
      "\u001B[0;31m---------------------------------------------------------------------------\u001B[0m",
      "\u001B[0;31mKeyboardInterrupt\u001B[0m                         Traceback (most recent call last)",
      "Cell \u001B[0;32mIn [30], line 6\u001B[0m\n\u001B[1;32m      4\u001B[0m df \u001B[38;5;241m=\u001B[39m DataFrame(np\u001B[38;5;241m.\u001B[39mlinspace(\u001B[38;5;241m1\u001B[39m, \u001B[38;5;241m10\u001B[39m, \u001B[38;5;241m10\u001B[39m))\n\u001B[1;32m      5\u001B[0m v \u001B[38;5;241m=\u001B[39m df\u001B[38;5;241m.\u001B[39mvalues\n\u001B[0;32m----> 6\u001B[0m \u001B[38;5;28;43mprint\u001B[39;49m(df, df\u001B[38;5;241m.\u001B[39mvalues)\n",
      "Cell \u001B[0;32mIn [30], line 6\u001B[0m\n\u001B[1;32m      4\u001B[0m df \u001B[38;5;241m=\u001B[39m DataFrame(np\u001B[38;5;241m.\u001B[39mlinspace(\u001B[38;5;241m1\u001B[39m, \u001B[38;5;241m10\u001B[39m, \u001B[38;5;241m10\u001B[39m))\n\u001B[1;32m      5\u001B[0m v \u001B[38;5;241m=\u001B[39m df\u001B[38;5;241m.\u001B[39mvalues\n\u001B[0;32m----> 6\u001B[0m \u001B[38;5;28;43mprint\u001B[39;49m(df, df\u001B[38;5;241m.\u001B[39mvalues)\n",
      "File \u001B[0;32m_pydevd_bundle/pydevd_cython_darwin_39_64.pyx:1179\u001B[0m, in \u001B[0;36m_pydevd_bundle.pydevd_cython_darwin_39_64.SafeCallWrapper.__call__\u001B[0;34m()\u001B[0m\n",
      "File \u001B[0;32m_pydevd_bundle/pydevd_cython_darwin_39_64.pyx:620\u001B[0m, in \u001B[0;36m_pydevd_bundle.pydevd_cython_darwin_39_64.PyDBFrame.trace_dispatch\u001B[0;34m()\u001B[0m\n",
      "File \u001B[0;32m_pydevd_bundle/pydevd_cython_darwin_39_64.pyx:929\u001B[0m, in \u001B[0;36m_pydevd_bundle.pydevd_cython_darwin_39_64.PyDBFrame.trace_dispatch\u001B[0;34m()\u001B[0m\n",
      "File \u001B[0;32m_pydevd_bundle/pydevd_cython_darwin_39_64.pyx:920\u001B[0m, in \u001B[0;36m_pydevd_bundle.pydevd_cython_darwin_39_64.PyDBFrame.trace_dispatch\u001B[0;34m()\u001B[0m\n",
      "File \u001B[0;32m_pydevd_bundle/pydevd_cython_darwin_39_64.pyx:317\u001B[0m, in \u001B[0;36m_pydevd_bundle.pydevd_cython_darwin_39_64.PyDBFrame.do_wait_suspend\u001B[0;34m()\u001B[0m\n",
      "File \u001B[0;32m/Applications/PyCharm.app/Contents/plugins/python/helpers/pydev/pydevd.py:1160\u001B[0m, in \u001B[0;36mPyDB.do_wait_suspend\u001B[0;34m(self, thread, frame, event, arg, send_suspend_message, is_unhandled_exception)\u001B[0m\n\u001B[1;32m   1157\u001B[0m         from_this_thread\u001B[38;5;241m.\u001B[39mappend(frame_id)\n\u001B[1;32m   1159\u001B[0m \u001B[38;5;28;01mwith\u001B[39;00m \u001B[38;5;28mself\u001B[39m\u001B[38;5;241m.\u001B[39m_threads_suspended_single_notification\u001B[38;5;241m.\u001B[39mnotify_thread_suspended(thread_id, stop_reason):\n\u001B[0;32m-> 1160\u001B[0m     \u001B[38;5;28;43mself\u001B[39;49m\u001B[38;5;241;43m.\u001B[39;49m\u001B[43m_do_wait_suspend\u001B[49m\u001B[43m(\u001B[49m\u001B[43mthread\u001B[49m\u001B[43m,\u001B[49m\u001B[43m \u001B[49m\u001B[43mframe\u001B[49m\u001B[43m,\u001B[49m\u001B[43m \u001B[49m\u001B[43mevent\u001B[49m\u001B[43m,\u001B[49m\u001B[43m \u001B[49m\u001B[43marg\u001B[49m\u001B[43m,\u001B[49m\u001B[43m \u001B[49m\u001B[43msuspend_type\u001B[49m\u001B[43m,\u001B[49m\u001B[43m \u001B[49m\u001B[43mfrom_this_thread\u001B[49m\u001B[43m)\u001B[49m\n",
      "File \u001B[0;32m/Applications/PyCharm.app/Contents/plugins/python/helpers/pydev/pydevd.py:1175\u001B[0m, in \u001B[0;36mPyDB._do_wait_suspend\u001B[0;34m(self, thread, frame, event, arg, suspend_type, from_this_thread)\u001B[0m\n\u001B[1;32m   1172\u001B[0m             \u001B[38;5;28mself\u001B[39m\u001B[38;5;241m.\u001B[39m_call_mpl_hook()\n\u001B[1;32m   1174\u001B[0m         \u001B[38;5;28mself\u001B[39m\u001B[38;5;241m.\u001B[39mprocess_internal_commands()\n\u001B[0;32m-> 1175\u001B[0m         \u001B[43mtime\u001B[49m\u001B[38;5;241;43m.\u001B[39;49m\u001B[43msleep\u001B[49m\u001B[43m(\u001B[49m\u001B[38;5;241;43m0.01\u001B[39;49m\u001B[43m)\u001B[49m\n\u001B[1;32m   1177\u001B[0m \u001B[38;5;28mself\u001B[39m\u001B[38;5;241m.\u001B[39mcancel_async_evaluation(get_current_thread_id(thread), \u001B[38;5;28mstr\u001B[39m(\u001B[38;5;28mid\u001B[39m(frame)))\n\u001B[1;32m   1179\u001B[0m \u001B[38;5;66;03m# process any stepping instructions\u001B[39;00m\n",
      "\u001B[0;31mKeyboardInterrupt\u001B[0m: "
     ]
    }
   ],
   "source": [
    "import numpy as np\n",
    "from pandas import DataFrame\n",
    "\n",
    "df = DataFrame(np.linspace(1, 10, 10))\n",
    "v: np.ndarray = df.values\n",
    "print(df, df.values)"
   ],
   "metadata": {
    "collapsed": false,
    "pycharm": {
     "name": "#%%\n"
    }
   }
  },
  {
   "cell_type": "code",
   "execution_count": 34,
   "outputs": [
    {
     "name": "stdout",
     "output_type": "stream",
     "text": [
      "[[4]]\n"
     ]
    }
   ],
   "source": [
    "d = [[1], [2], [3], [4]]\n",
    "print(d[-1:])"
   ],
   "metadata": {
    "collapsed": false,
    "pycharm": {
     "name": "#%%\n"
    }
   }
  },
  {
   "cell_type": "code",
   "execution_count": 3,
   "outputs": [
    {
     "name": "stdout",
     "output_type": "stream",
     "text": [
      "tensor([0.2689, 0.5000, 0.7311])\n"
     ]
    }
   ],
   "source": [
    "import torch\n",
    "import torch.nn as nn\n",
    "\n",
    "sigmoid = nn.Sigmoid()\n",
    "d = torch.FloatTensor([-1, 0, 1])\n",
    "print(sigmoid(d))"
   ],
   "metadata": {
    "collapsed": false,
    "pycharm": {
     "name": "#%%\n"
    }
   }
  },
  {
   "cell_type": "code",
   "execution_count": null,
   "outputs": [],
   "source": [],
   "metadata": {
    "collapsed": false,
    "pycharm": {
     "name": "#%%\n"
    }
   }
  }
 ],
 "metadata": {
  "kernelspec": {
   "display_name": "Python 3",
   "language": "python",
   "name": "python3"
  },
  "language_info": {
   "codemirror_mode": {
    "name": "ipython",
    "version": 2
   },
   "file_extension": ".py",
   "mimetype": "text/x-python",
   "name": "python",
   "nbconvert_exporter": "python",
   "pygments_lexer": "ipython2",
   "version": "2.7.6"
  }
 },
 "nbformat": 4,
 "nbformat_minor": 0
}